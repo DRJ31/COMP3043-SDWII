{
 "cells": [
  {
   "cell_type": "markdown",
   "metadata": {},
   "source": [
    "Before you turn this problem in, make sure everything runs as expected. First, **restart the kernel** (in the menubar, select Kernel$\\rightarrow$Restart) and then **run all cells** (in the menubar, select Cell$\\rightarrow$Run All).\n",
    "\n",
    "If you find your kernel dead (e.g,, \"In[*]\" appears before a code cell), please interrupt the kernel (press \"&#11035;\").\n",
    "\n",
    "\n",
    "Make sure you fill in any place that says `YOUR CODE HERE` or \"YOUR ANSWER HERE\", delete the statement \"raise NotImplementedError()\" as well as your name and collaborators below:"
   ]
  },
  {
   "cell_type": "code",
   "execution_count": null,
   "metadata": {},
   "outputs": [],
   "source": [
    "NAME = \"Jack Deng\"\n",
    "ID = \"l630003010\""
   ]
  },
  {
   "cell_type": "markdown",
   "metadata": {},
   "source": [
    "---"
   ]
  },
  {
   "cell_type": "markdown",
   "metadata": {
    "deletable": false,
    "editable": false,
    "nbgrader": {
     "checksum": "51f773301d0b65c1cad676df8506e2e9",
     "grade": false,
     "grade_id": "cell-c8936c1e529101c7",
     "locked": true,
     "schema_version": 1,
     "solution": false
    }
   },
   "source": [
    "# Python List\n",
    "\n",
    "*<font color=\"grey\">Dr. Dyce Jing ZHAO<br>\n",
    "Computer Science Programme,<br>\n",
    "BNU-HKBU United International College</font>*\n",
    "\n",
    "Python offers several datatypes which manage a sequence of data elements. List is one of the most frequently used."
   ]
  },
  {
   "cell_type": "markdown",
   "metadata": {
    "deletable": false,
    "editable": false,
    "nbgrader": {
     "checksum": "5e36d563bfbe20960363b10149f89938",
     "grade": false,
     "grade_id": "cell-5024f870e773bf61",
     "locked": true,
     "schema_version": 1,
     "solution": false
    }
   },
   "source": [
    "## Create a list\n",
    "\n",
    "To create a list, you may place all the list items (elements) inside a pair of bracket([]), seperated by commas (,). Follows are some notes about the declaration of a list.\n",
    "\n",
    "* You don't have to specify the size (capacity) of the list.\n",
    "* You may put items of different types in the same list.\n",
    "* You may put a list as an item of another list.\n",
    "* You may create an empty list.\n",
    "\n",
    "The code cell below show some typical statements that create a list."
   ]
  },
  {
   "cell_type": "code",
   "execution_count": null,
   "metadata": {},
   "outputs": [],
   "source": [
    "# empty list\n",
    "my_list = []\n",
    "\n",
    "# list of integers\n",
    "my_list = [1, 2, 3]\n",
    "\n",
    "# list with mixed datatypes\n",
    "my_list = [1, \"Hello\", 3.4]\n",
    "\n",
    "# nested list\n",
    "my_list = [\"mouse\", [8, 4, 6], ['a']]"
   ]
  },
  {
   "cell_type": "markdown",
   "metadata": {
    "deletable": false,
    "editable": false,
    "nbgrader": {
     "checksum": "88e882082dda3650f31d4650f52b417c",
     "grade": false,
     "grade_id": "cell-736faa9f405b5285",
     "locked": true,
     "schema_version": 1,
     "solution": false
    }
   },
   "source": [
    "## Access a list\n",
    "\n",
    "### List index\n",
    "We can use the index operator ([]) to access an item in a list. For a list of $n$ items, the index starts from $0$ and ends at $n-1$. The rules of list index are similar to those of C. \n",
    "\n",
    "Nested list is accessed using nested indexing, like the multi-dimensional array in C. Follows are some examples."
   ]
  },
  {
   "cell_type": "code",
   "execution_count": null,
   "metadata": {},
   "outputs": [],
   "source": [
    "my_list = ['p','r','o','b','e']\n",
    "# Output: p\n",
    "print(my_list[0])\n",
    "\n",
    "# Output: o\n",
    "print(my_list[2])\n",
    "\n",
    "# Output: e\n",
    "print(my_list[4])\n",
    "\n",
    "# Error! Only integer can be used for indexing\n",
    "# my_list[4.0]\n",
    "\n",
    "# Nested List\n",
    "n_list = [\"Happy\", [2,0,1,5]]\n",
    "\n",
    "# Nested indexing\n",
    "\n",
    "# Output: a\n",
    "print(n_list[0][1])    \n",
    "\n",
    "# Output: 5\n",
    "print(n_list[1][3])"
   ]
  },
  {
   "cell_type": "markdown",
   "metadata": {
    "deletable": false,
    "editable": false,
    "nbgrader": {
     "checksum": "65e9eca2d3cd1090be24669007e317ce",
     "grade": false,
     "grade_id": "cell-3ef3fc955b2dec82",
     "locked": true,
     "schema_version": 1,
     "solution": false
    }
   },
   "source": [
    "### Negative indexing\n",
    "\n",
    "Python allows negative indexing for its sequences. The index of -1 refers to the last item, -2 to the second last item and so on. Therefore, for a list of  $n$ items, the negative index starts from $-1$ and ends at $-n$.\n",
    "\n",
    "Try the examples below of negative index."
   ]
  },
  {
   "cell_type": "code",
   "execution_count": null,
   "metadata": {},
   "outputs": [],
   "source": [
    "my_list = ['p','r','o','b','e']\n",
    "\n",
    "# Output: e\n",
    "print(my_list[-1])\n",
    "\n",
    "# Output: p\n",
    "print(my_list[-5])"
   ]
  },
  {
   "cell_type": "markdown",
   "metadata": {
    "deletable": false,
    "editable": false,
    "nbgrader": {
     "checksum": "0cfaddcaa83a11979d2405545df37354",
     "grade": false,
     "grade_id": "cell-a4f6c3789a3c57a4",
     "locked": true,
     "schema_version": 1,
     "solution": false
    }
   },
   "source": [
    "## List operation\n",
    "\n",
    "### Slice a list\n",
    "\n",
    "We can access a range of items in a list by using the slicing operator (:). Note that the sub-list *includes* the starting index but *excludes* the ending index. Follows is an example:"
   ]
  },
  {
   "cell_type": "code",
   "execution_count": null,
   "metadata": {},
   "outputs": [],
   "source": [
    "my_list = ['p','y','t','h','o','n','3']\n",
    "# elements 3rd to 5th\n",
    "short_list = my_list[2:5]\n",
    "print(short_list)\n",
    "\n",
    "# elements beginning to 2nd\n",
    "print(my_list[:-5])\n",
    "\n",
    "# elements 6th to end\n",
    "print(my_list[5:])\n",
    "\n",
    "# elements beginning to end\n",
    "print(my_list[:])"
   ]
  },
  {
   "cell_type": "markdown",
   "metadata": {
    "deletable": false,
    "editable": false,
    "nbgrader": {
     "checksum": "1f73fecc7a3b1d1dfb7d94c60412ef71",
     "grade": false,
     "grade_id": "cell-f74aa782bf67d014",
     "locked": true,
     "schema_version": 1,
     "solution": false
    }
   },
   "source": [
    "The index and the negative index of a list can be visualized below. Slicing a list is done by specifying the left (inclusive) and right (exclusive) boundary of a range.\n",
    "\n",
    "|List: |p|y|t|h|o|n|3|\n",
    "|---|---|---|---|---|---|---|---|\n",
    "|Index:|0|1|2|3|4|5|6|\n",
    "|Negative Index:|-7|-6|-5|-4|-3|-2|-1|\n",
    "\n",
    "### Insert or update elements\n",
    "\n",
    "List are mutable, meaning, their elements can be changed unlike string or integer. We can use the assignment operator (=) to change the value of its items. Follows is an example which shows how to change a single element and how to change a range of elements:"
   ]
  },
  {
   "cell_type": "code",
   "execution_count": null,
   "metadata": {},
   "outputs": [],
   "source": [
    "# mistake values, should be odd numbers: 1, 3, 5, 7\n",
    "odd = [2, 4, 6, 8]\n",
    "\n",
    "# change the 1st item    \n",
    "odd[0] = 1            \n",
    "\n",
    "# Output: [1, 4, 6, 8]\n",
    "print(odd)\n",
    "\n",
    "# change 2nd to 4th items\n",
    "odd[1:4] = [3, 5, 7]  \n",
    "\n",
    "# Output: [1, 3, 5, 7]\n",
    "print(odd)                   "
   ]
  },
  {
   "cell_type": "markdown",
   "metadata": {
    "deletable": false,
    "editable": false,
    "nbgrader": {
     "checksum": "c2f875c2e478182e72677ad8873f2b48",
     "grade": false,
     "grade_id": "cell-990150fd9fba3907",
     "locked": true,
     "schema_version": 1,
     "solution": false
    }
   },
   "source": [
    "We can add *one* item to the end of a list using `append()` or add several items using `extend()` method. Follows is an example:"
   ]
  },
  {
   "cell_type": "code",
   "execution_count": null,
   "metadata": {},
   "outputs": [],
   "source": [
    "odd = [1, 3, 5]\n",
    "\n",
    "odd.append(7)\n",
    "\n",
    "# Output: [1, 3, 5, 7]\n",
    "print(odd)\n",
    "\n",
    "odd.extend([9, 11, 13])\n",
    "\n",
    "# Output: [1, 3, 5, 7, 9, 11, 13]\n",
    "print(odd)"
   ]
  },
  {
   "cell_type": "markdown",
   "metadata": {
    "deletable": false,
    "editable": false,
    "nbgrader": {
     "checksum": "28245459d7f8105ff53cd22e02b0c6fe",
     "grade": false,
     "grade_id": "cell-4ecbaed582fe4631",
     "locked": true,
     "schema_version": 1,
     "solution": false
    }
   },
   "source": [
    "### Delete elements\n",
    "\n",
    "The following methods allows the deletion of list elements:\n",
    "\n",
    "* `del`: It deletes one element at a given *index* or multiple elements at a given *index range*. This method can be used to delete the entire list. The code below demonstrates the use of `del`. Note that it throws *NameError* because the last `print` statement tries to access a list that is already deleted."
   ]
  },
  {
   "cell_type": "code",
   "execution_count": null,
   "metadata": {},
   "outputs": [],
   "source": [
    "my_list = ['p','r','o','b','l','e','m']\n",
    "\n",
    "# delete one item\n",
    "del my_list[2]\n",
    "\n",
    "# Output: ['p', 'r', 'b', 'l', 'e', 'm']     \n",
    "print(my_list)\n",
    "\n",
    "# delete multiple items\n",
    "del my_list[1:5]  \n",
    "\n",
    "# Output: ['p', 'm']\n",
    "print(my_list)\n",
    "\n",
    "# delete entire list\n",
    "del my_list       \n",
    "\n",
    "# Error: List not defined\n",
    "print(my_list)"
   ]
  },
  {
   "cell_type": "markdown",
   "metadata": {
    "deletable": false,
    "editable": false,
    "nbgrader": {
     "checksum": "7926b54be5a6851e503866a5a4db7758",
     "grade": false,
     "grade_id": "cell-4acddeaf25960015",
     "locked": true,
     "schema_version": 1,
     "solution": false
    }
   },
   "source": [
    "* `remove`: It deletes one element which matches a given *value*. If multiple matches exist in the list, only the first one will be deleted."
   ]
  },
  {
   "cell_type": "code",
   "execution_count": null,
   "metadata": {},
   "outputs": [],
   "source": [
    "my_list = ['b', 'a', 'b', 'y']\n",
    "\n",
    "# delete the element whose value is 'a'\n",
    "my_list.remove('a')\n",
    "print(my_list)\n",
    "\n",
    "# There are two 'b' in the list and only the first one is deleted\n",
    "my_list.remove('b')\n",
    "print(my_list)"
   ]
  },
  {
   "cell_type": "markdown",
   "metadata": {
    "deletable": false,
    "editable": false,
    "nbgrader": {
     "checksum": "4408dd9736a5315b61b9e1d1cdee6f9e",
     "grade": false,
     "grade_id": "cell-85f5dad39abed0d7",
     "locked": true,
     "schema_version": 1,
     "solution": false
    }
   },
   "source": [
    "* `pop`: It removes and *returns* the one item at a given *index*. The *last item* is popped if index is not provided. <span class=\"hl\">You may use `append` for push and `pop` for pop if you use the list as a *stack*.</span> Follows illustrates the use of pop."
   ]
  },
  {
   "cell_type": "code",
   "execution_count": null,
   "metadata": {},
   "outputs": [],
   "source": [
    "my_list = ['p','r','o','b','l','e','m']\n",
    "\n",
    "# Output: 'r'\n",
    "print(my_list.pop(1))\n",
    "\n",
    "# Output: ['p', 'o', 'b', 'l', 'e', 'm']\n",
    "print(my_list)\n",
    "\n",
    "# Output: 'm'\n",
    "print(my_list.pop())\n",
    "\n",
    "# Output: ['p', 'o', 'b', 'l', 'e']\n",
    "print(my_list)"
   ]
  },
  {
   "cell_type": "markdown",
   "metadata": {
    "deletable": false,
    "editable": false,
    "nbgrader": {
     "checksum": "3d0e392692464c6dfdc348fad6d9ac0c",
     "grade": false,
     "grade_id": "cell-4ddd29c3c5168a33",
     "locked": true,
     "schema_version": 1,
     "solution": false
    }
   },
   "source": [
    "* `clear`: It deletes all the elements in the list. Note that this method is different from `del`: it empties a list, but does not delete it entirely \n",
    "(you can still print it!). Follows is an example of clear."
   ]
  },
  {
   "cell_type": "code",
   "execution_count": null,
   "metadata": {},
   "outputs": [],
   "source": [
    "my_list = ['p','r','o','b','l','e','m']\n",
    "\n",
    "my_list.clear()\n",
    "\n",
    "# Output: []\n",
    "print(my_list)"
   ]
  },
  {
   "cell_type": "markdown",
   "metadata": {
    "deletable": false,
    "editable": false,
    "nbgrader": {
     "checksum": "8a39634ee5714ec2cc3c3509fb14366e",
     "grade": false,
     "grade_id": "cell-549b5ff0d31fed79",
     "locked": true,
     "schema_version": 1,
     "solution": false
    }
   },
   "source": [
    "* Finally, we can also delete items in a list by assigning an empty list to a slice of elements. The following code piece shows the procedure."
   ]
  },
  {
   "cell_type": "code",
   "execution_count": null,
   "metadata": {},
   "outputs": [],
   "source": [
    "my_list = ['p','r','o','b','l','e','m']\n",
    "\n",
    "# ['o', 'b', 'l'] are deleted from the list\n",
    "my_list[2:5] = []\n",
    "\n",
    "# Output: ['p', 'r', 'e', 'm']\n",
    "print(my_list)"
   ]
  },
  {
   "cell_type": "markdown",
   "metadata": {
    "deletable": false,
    "editable": false,
    "nbgrader": {
     "checksum": "bb5985e8cb222dbef0bbeb2cc2892a05",
     "grade": false,
     "grade_id": "cell-fec8fbe18655b658",
     "locked": true,
     "schema_version": 1,
     "solution": false
    }
   },
   "source": [
    "### Python list methods\n",
    "\n",
    "Methods of the list data type are provided below. You can check <a href=\"https://www.programiz.com/python-programming/methods/list\">programiz</a> for detail.\n",
    "\n",
    "* `append()` - <a href=\"https://www.programiz.com/python-programming/methods/list/append\" title=\"Python List append()\">Add an element to the end of the list</a>\n",
    "* `extend()` - <a href=\"https://www.programiz.com/python-programming/methods/list/extend\" title=\"Python List extend()\">Add all elements of a list to the another list</a>\n",
    "* `insert()` - <a href=\"https://www.programiz.com/python-programming/methods/list/insert\" title=\"Python List index()\">Insert an item at the defined index</a>\n",
    "* `remove()` - <a href=\"https://www.programiz.com/python-programming/methods/list/remove\" title=\"Python List remove()\">Removes an item from the list</a>\n",
    "* `pop()` - <a href=\"https://www.programiz.com/python-programming/methods/list/pop\" title=\"Python List pop()\">Removes and returns an element at the given index</a>\n",
    "* `clear()` - <a href=\"https://www.programiz.com/python-programming/methods/list/clear\" title=\"Python List clear()\">Removes all items from the list</a>\n",
    "* `index()` - <a href=\"https://www.programiz.com/python-programming/methods/list/index\" title=\"Python List index()\">Returns the index of the first matched item</a>\n",
    "* `count()` - <a href=\"https://www.programiz.com/python-programming/methods/list/count\" title=\"Python List count()\">Returns the count of number of items passed as an argument</a>\n",
    "* `sort()` - <a href=\"https://www.programiz.com/python-programming/methods/list/sort\" title=\"Python List sort()\">Sort items in a list in ascending order</a>\n",
    "* `reverse()` - <a href=\"https://www.programiz.com/python-programming/methods/list/reverse\" title=\"Python List reverse()\">Reverse the order of items in the list</a>\n",
    "* `copy()` - <a href=\"https://www.programiz.com/python-programming/methods/list/copy\" title=\"Python List copy()\">Returns a shallow copy of the list</a>\n",
    "\n",
    "## List comprehension: Elegant way to create a list\n",
    "\n",
    "List comprehension is an elegant and concise way to create new list from an existing list in Python.\n",
    "\n",
    "List comprehension consists of an expression followed by for statement inside square brackets.\n",
    "\n",
    "Here is an example to make a list with each item being increasing power of 2."
   ]
  },
  {
   "cell_type": "code",
   "execution_count": null,
   "metadata": {},
   "outputs": [],
   "source": [
    "pow2 = [2 ** x for x in range(10)]\n",
    "\n",
    "# Output: [1, 2, 4, 8, 16, 32, 64, 128, 256, 512]\n",
    "print(pow2)"
   ]
  },
  {
   "cell_type": "markdown",
   "metadata": {
    "deletable": false,
    "editable": false,
    "nbgrader": {
     "checksum": "f8caa5627e06452676c07941da3a3fb1",
     "grade": false,
     "grade_id": "cell-a28aac9535c84c2b",
     "locked": true,
     "schema_version": 1,
     "solution": false
    }
   },
   "source": [
    "## Other list operations\n",
    "\n",
    "### List Membership Test\n",
    "\n",
    "We can test if an item exists in a list or not, using the keyword `in`. Follows is an example:"
   ]
  },
  {
   "cell_type": "code",
   "execution_count": null,
   "metadata": {},
   "outputs": [],
   "source": [
    "my_list = ['p','r','o','b','l','e','m']\n",
    "\n",
    "# Output: True\n",
    "print('p' in my_list)\n",
    "\n",
    "# Output: False\n",
    "print('a' in my_list)\n",
    "\n",
    "# Output: True\n",
    "print('c' not in my_list)"
   ]
  },
  {
   "cell_type": "markdown",
   "metadata": {
    "deletable": false,
    "editable": false,
    "nbgrader": {
     "checksum": "0deeea79b0aaf2ac23d0d9a305f0a749",
     "grade": false,
     "grade_id": "cell-5faa93b6bbd0c294",
     "locked": true,
     "schema_version": 1,
     "solution": false
    }
   },
   "source": [
    "### Iterating Through a List\n",
    "\n",
    "Using the `in` keyword and a `for` loop we can iterate though each item in a list."
   ]
  },
  {
   "cell_type": "code",
   "execution_count": null,
   "metadata": {},
   "outputs": [],
   "source": [
    "for fruit in ['apple','banana','mango']:\n",
    "    print(\"I like\",fruit)"
   ]
  },
  {
   "cell_type": "markdown",
   "metadata": {
    "deletable": false,
    "editable": false,
    "nbgrader": {
     "checksum": "ba15acd6c1c2b1c9af27767f8babe7af",
     "grade": false,
     "grade_id": "cell-37421d9dd4cf8869",
     "locked": true,
     "schema_version": 1,
     "solution": false
    }
   },
   "source": [
    "### Built-in Functions with List\n",
    "\n",
    "The following functions are available for all the *iterable* data types (e.g., list, tuple, ...). Therefore, they are also available for lists.\n",
    "\n",
    "* <a href=\"https://www.programiz.com/python-programming/methods/built-in/all\" title=\"Python all()\">all()</a> - Return True if all elements of the list are true (or if the list is empty).\n",
    "* <a href=\"https://www.programiz.com/python-programming/methods/built-in/any\" title=\"Python any()\">any()</a> - Return True if any element of the list is true. If the list is empty, return False.\n",
    "* <a href=\"https://www.programiz.com/python-programming/methods/built-in/enumerate\" title=\"Python enumerate()\">enumerate()</a> - Return an enumerate object. It contains the index and value of all the items of list as a tuple.\n",
    "* <a href=\"https://www.programiz.com/python-programming/methods/built-in/len\" title=\"Python len()\">len()</a> - Return the length (the number of items) in the list.\n",
    "* <a href=\"https://www.programiz.com/python-programming/methods/built-in/list\" title=\"Python list()\">list()</a> - Convert an iterable (tuple, string, set, dictionary) to a list.\n",
    "* <a href=\"https://www.programiz.com/python-programming/methods/built-in/max\" title=\"Python max()\">max()</a> - Return the largest item in the list.\n",
    "* <a href=\"https://www.programiz.com/python-programming/methods/built-in/min\" title=\"Python min()\">min()</a> - Return the smallest item in the list\n",
    "* <a href=\"https://www.programiz.com/python-programming/methods/built-in/sorted\" title=\"Python sorted()\">sorted()</a> - Return a new sorted list (does not sort the list itself).\n",
    "* <a href=\"https://www.programiz.com/python-programming/methods/built-in/sum\" title=\"Python sum()\">sum()</a> - Return the sum of all elements in the list.\n",
    "\n",
    "## Tuple\n",
    "\n",
    "Tuples can be considered as *immutable lists*. The difference between the two is that we cannot change the elements of a tuple once it is assigned whereas in a list, elements can be changed.\n",
    "\n",
    "### Advantages of Tuple over List\n",
    "Since tuples are quite similiar to lists, both of them are used in similar situations as well.\n",
    "\n",
    "However, there are certain advantages of implementing a tuple over a list. Below listed are some of the main advantages:\n",
    "\n",
    "* We generally use tuple for heterogeneous (different) datatypes and list for homogeneous (similar) datatypes.\n",
    "* Since tuple are immutable, iterating through tuple is faster than with list. So there is a slight performance boost.\n",
    "* Tuples that contain immutable elements can be used as key for a dictionary. With list, this is not possible.\n",
    "* If you have data that doesn't change, implementing it as tuple will guarantee that it remains write-protected.\n",
    "\n",
    "### Create a tuple\n",
    "\n",
    "A tuple is created by placing all the items (elements) inside a parentheses (()), separated by comma(,). The parentheses are optional but is a good practice to write it.\n",
    "\n",
    "A tuple can have any number of items and they may be of different types (integer, float, list, string etc.).\n",
    "\n",
    "Follows are some examples:\n"
   ]
  },
  {
   "cell_type": "code",
   "execution_count": null,
   "metadata": {},
   "outputs": [],
   "source": [
    "# empty tuple\n",
    "# Output: ()\n",
    "my_tuple = ()\n",
    "print(my_tuple)\n",
    "\n",
    "# tuple having integers\n",
    "# Output: (1, 2, 3)\n",
    "my_tuple = (1, 2, 3)\n",
    "print(my_tuple)\n",
    "\n",
    "# tuple with mixed datatypes\n",
    "# Output: (1, \"Hello\", 3.4)\n",
    "my_tuple = (1, \"Hello\", 3.4)\n",
    "print(my_tuple)\n",
    "\n",
    "# nested tuple\n",
    "# Output: (\"mouse\", [8, 4, 6], (1, 2, 3))\n",
    "my_tuple = (\"mouse\", [8, 4, 6], (1, 2, 3))\n",
    "print(my_tuple)\n",
    "\n",
    "# tuple can be created without parentheses\n",
    "# also called tuple packing\n",
    "# Output: 3, 4.6, \"dog\"\n",
    "\n",
    "my_tuple = 3, 4.6, \"dog\"\n",
    "print(my_tuple)\n",
    "\n",
    "# tuple unpacking is also possible\n",
    "# Below: a = 3, b = 4.6, c = \"dog\"\n",
    "a, b, c = my_tuple\n",
    "print(a)\n",
    "print(b)\n",
    "print(c)"
   ]
  },
  {
   "cell_type": "markdown",
   "metadata": {
    "deletable": false,
    "editable": false,
    "nbgrader": {
     "checksum": "a33923c2c616f7870639e337eb219858",
     "grade": false,
     "grade_id": "cell-9e75823d2f4ac799",
     "locked": true,
     "schema_version": 1,
     "solution": false
    }
   },
   "source": [
    "Creating a tuple with one element is a bit tricky.\n",
    "\n",
    "Having one element within parentheses is not enough. We will need a trailing comma to indicate that it is in fact a tuple."
   ]
  },
  {
   "cell_type": "code",
   "execution_count": null,
   "metadata": {},
   "outputs": [],
   "source": [
    "# only parentheses is not enough\n",
    "# Output: <class 'str'>\n",
    "my_tuple = (\"hello\")\n",
    "print(type(my_tuple))\n",
    "\n",
    "# need a comma at the end\n",
    "# Output: <class 'tuple'>\n",
    "my_tuple = (\"hello\",)  \n",
    "print(type(my_tuple))\n",
    "\n",
    "# parentheses is optional\n",
    "# Output: <class 'tuple'>\n",
    "my_tuple = \"hello\",\n",
    "print(type(my_tuple))"
   ]
  },
  {
   "cell_type": "markdown",
   "metadata": {
    "deletable": false,
    "editable": false,
    "nbgrader": {
     "checksum": "5908dec49f9b524484d98e4290792562",
     "grade": false,
     "grade_id": "cell-07f1e0805a5b07f5",
     "locked": true,
     "schema_version": 1,
     "solution": false
    }
   },
   "source": [
    "### More on tuples\n",
    "\n",
    "Read the [online tutorial](https://www.programiz.com/python-programming/tuple) to learn more about tuples."
   ]
  },
  {
   "cell_type": "markdown",
   "metadata": {
    "deletable": false,
    "editable": false,
    "nbgrader": {
     "checksum": "9797cb3debdb6b52b346fe56eb59af35",
     "grade": false,
     "grade_id": "cell-e698a41d15635102",
     "locked": true,
     "schema_version": 1,
     "solution": false
    }
   },
   "source": [
    "## Tasks\n",
    "\n",
    "<span class=\"task\">Task 1</span>: In the code cell below, complete function `hello` which says hello to every name in `name_list`. \n",
    "\n",
    "For example, if *name_list = ['Mary', 'Tracy']*, the function should print:\n",
    "```\n",
    "Hello, Mary!\n",
    "Hello, Tracy!\n",
    "```\n",
    "\n",
    "*Note*: Check [here](https://www.programiz.com/python-programming/input-output-import) for formatted `print`."
   ]
  },
  {
   "cell_type": "code",
   "execution_count": null,
   "metadata": {
    "deletable": false,
    "nbgrader": {
     "checksum": "4263df5ef33670947f5d7fe0ca68a2f7",
     "grade": true,
     "grade_id": "cell-38d243e8b2870e35",
     "locked": false,
     "points": 1,
     "schema_version": 1,
     "solution": true
    }
   },
   "outputs": [],
   "source": [
    "# Code for Task 1\n",
    "def hello(name_list):\n",
    "    # YOUR CODE HERE\n",
    "    for name in name_list:\n",
    "        print(\"Hello, \" + name + \"!\")"
   ]
  },
  {
   "cell_type": "markdown",
   "metadata": {
    "deletable": false,
    "editable": false,
    "nbgrader": {
     "checksum": "dd6cd8a56a8d6951ea48b3fc83c7557c",
     "grade": false,
     "grade_id": "cell-8ccc7399b4aa2a45",
     "locked": true,
     "schema_version": 1,
     "solution": false
    }
   },
   "source": [
    "<span class=\"task\">Task 2:</span> In the code cell below, complete function `absList` which creates and returns a list whose numbers are the absolute values of those in `num_list`.\n",
    "\n",
    "For example, *absList([-1, 2, -4])* should return *[1, 2, 4]*."
   ]
  },
  {
   "cell_type": "code",
   "execution_count": null,
   "metadata": {
    "deletable": false,
    "nbgrader": {
     "checksum": "452ebfdd18db1ac7ff64f4b55196c1d7",
     "grade": false,
     "grade_id": "cell-532a0971bb1c9f91",
     "locked": false,
     "schema_version": 1,
     "solution": true
    }
   },
   "outputs": [],
   "source": [
    "# Code for Task 2\n",
    "def absList(num_list):\n",
    "    # YOUR CODE HERE\n",
    "    return list(map(abs, num_list))"
   ]
  },
  {
   "cell_type": "code",
   "execution_count": null,
   "metadata": {
    "deletable": false,
    "editable": false,
    "nbgrader": {
     "checksum": "9273d5fcb378f28671d82cb0ea7d7fdd",
     "grade": true,
     "grade_id": "cell-308600c2917e4701",
     "locked": true,
     "points": 1,
     "schema_version": 1,
     "solution": false
    }
   },
   "outputs": [],
   "source": [
    "a=[-1, 2, -4]\n",
    "assert absList(a)==[1,2,4]\n"
   ]
  },
  {
   "cell_type": "markdown",
   "metadata": {
    "deletable": false,
    "editable": false,
    "nbgrader": {
     "checksum": "c5578f7d6b0649b7a068b643b35b89ee",
     "grade": false,
     "grade_id": "cell-12c80de4fba6520f",
     "locked": true,
     "schema_version": 1,
     "solution": false
    }
   },
   "source": [
    "<span class=\"task\">Task 3</span>: In the code cell below, complete the function `onlyPositive` which deletes all the zero or negative values in `num_list` and returns the updated `num_list`.\n",
    "\n",
    "For example, if *num_list = [-2, -3, 5, -4]*, *onlyPositive(num_list)* should delete *-2*, *-3* and *-4* from `num_list` and return *[5]*."
   ]
  },
  {
   "cell_type": "code",
   "execution_count": null,
   "metadata": {
    "deletable": false,
    "nbgrader": {
     "checksum": "8427d69f798d99a9bd2fb7938b55c0e0",
     "grade": false,
     "grade_id": "cell-ee64a8d0f90653e1",
     "locked": false,
     "schema_version": 1,
     "solution": true
    }
   },
   "outputs": [],
   "source": [
    "# Code for Task 3\n",
    "def onlyPositive(num_list):\n",
    "    # YOUR CODE HERE\n",
    "    delList = []#Record number to delete\n",
    "    for number in num_list:\n",
    "        if number <= 0:\n",
    "            delList.append(number)\n",
    "    \n",
    "    for number in delList:\n",
    "        num_list.remove(number)\n",
    "        \n",
    "    return num_list"
   ]
  },
  {
   "cell_type": "code",
   "execution_count": null,
   "metadata": {
    "deletable": false,
    "editable": false,
    "nbgrader": {
     "checksum": "94125228c0dcc62f909677c87d65030c",
     "grade": true,
     "grade_id": "cell-63f8b48629fd8af2",
     "locked": true,
     "points": 2,
     "schema_version": 1,
     "solution": false
    }
   },
   "outputs": [],
   "source": [
    "num_list = [-2, 3, 5, -4,-9,-10]\n",
    "assert onlyPositive(num_list)==[3, 5]\n",
    "\n",
    "\n"
   ]
  },
  {
   "cell_type": "markdown",
   "metadata": {
    "deletable": false,
    "editable": false,
    "nbgrader": {
     "checksum": "af5a66d9ba6db7a108410196a6b874cd",
     "grade": false,
     "grade_id": "cell-f58299179ff82fbe",
     "locked": true,
     "schema_version": 1,
     "solution": false
    }
   },
   "source": [
    "<span class=\"task\">Task 4</span>: In the code cell below, complete the function `addMatrix` which adds two matrics, `A` and `B`, and returns the sum. Note that the size of `A` and `B` is equal but is not fixed.\n",
    "\n",
    "For example, *addMatrix([[1, 2], [3, 4]], [[1, 1], [2, 2]])* should return *[[2, 3], [5, 6]]*.\n",
    "\n",
    "*Hint*: Use append() to add an element to the end of a list."
   ]
  },
  {
   "cell_type": "code",
   "execution_count": null,
   "metadata": {
    "deletable": false,
    "nbgrader": {
     "checksum": "0a94b0f4ef366fd3aa0487fff07706be",
     "grade": false,
     "grade_id": "cell-99f82f6cf7edaeac",
     "locked": false,
     "schema_version": 1,
     "solution": true
    }
   },
   "outputs": [],
   "source": [
    "# Code for Task 4\n",
    "def addMatrix(A, B):\n",
    "    # YOUR CODE HERE\n",
    "    newMatrix = []#The result of sum of A and B\n",
    "    height = len(A)#Length of first dimension of list\n",
    "    width = len(A[0])#Length of second dimension of list\n",
    "    for i in range(height):\n",
    "        newList = []#List of result of A and B\n",
    "        for j in range(width):\n",
    "            newList.append(A[i][j] + B[i][j])\n",
    "        newMatrix.append(newList)\n",
    "    return newMatrix"
   ]
  },
  {
   "cell_type": "code",
   "execution_count": null,
   "metadata": {
    "deletable": false,
    "editable": false,
    "nbgrader": {
     "checksum": "a715fa35e9d74de4fbc8ae54efb74b7c",
     "grade": true,
     "grade_id": "cell-5e829d522e0607aa",
     "locked": true,
     "points": 2,
     "schema_version": 1,
     "solution": false
    }
   },
   "outputs": [],
   "source": [
    "X=[[1, 2], [3, 4]]\n",
    "Y=[[1, 1], [2, 2]]\n",
    "assert addMatrix(X, Y) ==  [[2, 3], [5, 6]]\n",
    "\n",
    "\n"
   ]
  },
  {
   "cell_type": "markdown",
   "metadata": {
    "deletable": false,
    "editable": false,
    "nbgrader": {
     "checksum": "895e77d6b924bc893e23172689d07d69",
     "grade": false,
     "grade_id": "cell-2520d5cc64c195b1",
     "locked": true,
     "schema_version": 1,
     "solution": false
    }
   },
   "source": [
    "<span class=\"task\">Task 5</span>: In the code cell below, complete the function `multiplyMatrix` which multiplies two matrics, `A` and `B`, and returns the product matrix. Note that the size of `A` and `B` is equal but is not fixed.\n",
    "\n",
    "For example, *multiplyMatrix([[1, 2], [3, 4]], [[2, 1], [1, 2]])* should return *[[4, 5], [10, 11]]*.\n",
    "\n",
    "*Hint*: Use append() to add an element to the end of a list."
   ]
  },
  {
   "cell_type": "code",
   "execution_count": 8,
   "metadata": {
    "deletable": false,
    "nbgrader": {
     "checksum": "f26bcc43fe4f49406d346af9633d7f02",
     "grade": false,
     "grade_id": "cell-191790e006422cf6",
     "locked": false,
     "schema_version": 1,
     "solution": true
    }
   },
   "outputs": [
    {
     "name": "stdout",
     "output_type": "stream",
     "text": [
      "[[23, 20, 11], [47, 40, 23], [71, 60, 35]]\n"
     ]
    }
   ],
   "source": [
    "# Code for Task 5\n",
    "def multiplyMatrix(A, B):\n",
    "    # YOUR CODE HERE\n",
    "    result = []#List to store all the results\n",
    "    size = len(A)#Width and height of matrix\n",
    "    for i in range(size):\n",
    "        line = []#List to store results of a row in matrix\n",
    "        for j in range(size):\n",
    "            sum = 0#The result of current element\n",
    "            for k in range(size):\n",
    "                sum += A[i][k] * B[k][j]\n",
    "            line.append(sum)\n",
    "        result.append(line)\n",
    "    return result"
   ]
  },
  {
   "cell_type": "code",
   "execution_count": null,
   "metadata": {
    "deletable": false,
    "editable": false,
    "nbgrader": {
     "checksum": "09b885119522069f5ba935e9c2c8b0a4",
     "grade": true,
     "grade_id": "cell-f8db74b3c9f87196",
     "locked": true,
     "points": 2,
     "schema_version": 1,
     "solution": false
    }
   },
   "outputs": [],
   "source": [
    "A=[[1, 2, 3], [3, 4, 5], [5, 6, 7]]\n",
    "B=[[2, 1, 1], [9, 8, 5], [1, 1, 0]]\n",
    "assert multiplyMatrix(A, B) == [[23, 20, 11], [47, 40, 23], [71, 60, 35]]\n"
   ]
  },
  {
   "cell_type": "markdown",
   "metadata": {
    "deletable": false,
    "editable": false,
    "nbgrader": {
     "checksum": "c7641a872be41069eb65e0317b9ecef5",
     "grade": false,
     "grade_id": "cell-5c82e68002c82746",
     "locked": true,
     "schema_version": 1,
     "solution": false
    }
   },
   "source": [
    "<span class=\"task\">Task 6</span>: In the code cell below, complete the function `uniqueList` which returns a new list consisting of the unique characters in `char_list`. If repeated character exists in `char_list`, the new list only keeps its first occurrence.\n",
    "\n",
    "For example, if *char_list = ['m', 'o', 'r', 'n', 'i', 'n', 'g', 'c', 'a', 'l', 'l']*, then *uniqueList(char_list)* should return *['m', 'o', 'r', 'n', 'i', 'g', 'c', 'a', 'l']*."
   ]
  },
  {
   "cell_type": "code",
   "execution_count": null,
   "metadata": {
    "deletable": false,
    "nbgrader": {
     "checksum": "cc81eaed13652dce47d4ea4fb9c3cb60",
     "grade": false,
     "grade_id": "cell-d8a2699dfc960efe",
     "locked": false,
     "schema_version": 1,
     "solution": true
    }
   },
   "outputs": [],
   "source": [
    "# Code for Task 6\n",
    "def uniqueList(char_list):\n",
    "    # YOUR CODE HERE\n",
    "    index = []#List to store position to pop\n",
    "    #Find the position to pop\n",
    "    for i in range(1, len(char_list)):\n",
    "        if char_list[i] in char_list[:i]:\n",
    "            index.append(i)\n",
    "      \n",
    "    for i in range(len(index)):\n",
    "        char_list.pop(index[i] - i)\n",
    "    return char_list"
   ]
  },
  {
   "cell_type": "code",
   "execution_count": null,
   "metadata": {
    "deletable": false,
    "editable": false,
    "nbgrader": {
     "checksum": "7e4ae5f8e6353c39bce9912c982b54e2",
     "grade": true,
     "grade_id": "cell-add03ad760306fbb",
     "locked": true,
     "points": 2,
     "schema_version": 1,
     "solution": false
    }
   },
   "outputs": [],
   "source": [
    "char_list = ['m', 'o', 'r', 'n', 'i', 'n', 'g', 'c', 'a', 'l', 'l']\n",
    "assert uniqueList(char_list) == ['m', 'o', 'r', 'n', 'i', 'g', 'c', 'a', 'l']\n"
   ]
  }
 ],
 "metadata": {
  "kernelspec": {
   "display_name": "Python 3",
   "language": "python",
   "name": "python3"
  },
  "language_info": {
   "codemirror_mode": {
    "name": "ipython",
    "version": 3
   },
   "file_extension": ".py",
   "mimetype": "text/x-python",
   "name": "python",
   "nbconvert_exporter": "python",
   "pygments_lexer": "ipython3",
   "version": "3.6.4"
  }
 },
 "nbformat": 4,
 "nbformat_minor": 2
}
