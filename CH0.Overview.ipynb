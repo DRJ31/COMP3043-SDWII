{
 "cells": [
  {
   "cell_type": "markdown",
   "metadata": {},
   "source": [
    "# Overview"
   ]
  },
  {
   "cell_type": "markdown",
   "metadata": {},
   "source": [
    "## What is Python?\n",
    "Python is\n",
    "\n",
    "![boa.png](img/boa.png)\n",
    "\n",
    "but is better known as\n",
    "\n",
    "![python.png](img/python.png)\n",
    "\n",
    "At CST, Python is a\n",
    "\n",
    "* **general purpose**\n",
    "    * can be used for almost everything\n",
    "* **interpreted**\n",
    "    * codes are executed on the fly\n",
    "    * no compiling or executable files\n",
    "* **object-oriented**\n",
    "    * like Java!\n",
    "\n",
    "programming language. It was created by *Guido van Rossum* and was released in 1991.\n",
    "\n",
    "Python source code is available under the *GNU General Public License* (GPL)."
   ]
  },
  {
   "cell_type": "markdown",
   "metadata": {},
   "source": [
    "## Why Use Python?\n",
    "\n",
    "* It offers **rich library**\n",
    "    * data analysis tools\n",
    "    * web frameworks\n",
    "    * testing tools\n",
    "    * ......\n",
    "\n",
    "* It is **POPULAR**!\n",
    "    * the top 5 language in almost every ranking\n",
    "        * [IEEE Ranking](https://spectrum.ieee.org/computing/software/the-2017-top-programming-languages): No.1\n",
    "        * [RedMonk's](https://redmonk.com/sogrady/2017/03/17/language-rankings-1-17/): No.3\n",
    "        * [The TIOBE Index](https://www.tiobe.com/tiobe-index/): No.4\n",
    "        * [The PopularitY of Programming Language (PYPL)](http://pypl.github.io/PYPL.html): No. 2\n",
    "        \n",
    "* It is **SIMPLE**.\n",
    "    * very few keywords\n",
    "    * clearly defined syntax\n",
    "    * easy to learn, easy to use, easy to read\n",
    "    \n",
    "* Its **culture**\n",
    "    * The philosophy for Python, or, \"Zen of Python\", is shown when the interpreter executes \"import this\"."
   ]
  },
  {
   "cell_type": "code",
   "execution_count": 9,
   "metadata": {},
   "outputs": [],
   "source": [
    "# Run me by hitting \"Ctrl+Enter\"\n",
    "import this"
   ]
  },
  {
   "cell_type": "markdown",
   "metadata": {},
   "source": [
    "## Course Information"
   ]
  },
  {
   "cell_type": "markdown",
   "metadata": {},
   "source": [
    "## Online Resources for Self Study\n",
    "* [Programiz](https://www.programiz.com/python-programming/) for **Python 3** learning\n",
    "* [Coder Byte](https://coderbyte.com/challenges) for exercises and **challenges**\n"
   ]
  }
 ],
 "metadata": {
  "kernelspec": {
   "display_name": "Python 3",
   "language": "python",
   "name": "python3"
  },
  "language_info": {
   "codemirror_mode": {
    "name": "ipython",
    "version": 3
   },
   "file_extension": ".py",
   "mimetype": "text/x-python",
   "name": "python",
   "nbconvert_exporter": "python",
   "pygments_lexer": "ipython3",
   "version": "3.6.4"
  }
 },
 "nbformat": 4,
 "nbformat_minor": 2
}
