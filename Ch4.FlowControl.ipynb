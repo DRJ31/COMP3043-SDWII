{
 "cells": [
  {
   "cell_type": "markdown",
   "metadata": {},
   "source": [
    "Before you turn this problem in, make sure everything runs as expected. First, **restart the kernel** (in the menubar, select Kernel$\\rightarrow$Restart) and then **run all cells** (in the menubar, select Cell$\\rightarrow$Run All).\n",
    "\n",
    "If you find your kernel dead, please stop the process first. And then, restart your server.\n",
    "\n",
    "Please stop your server before you log out.\n",
    "\n",
    "Make sure you fill in any place that says `YOUR CODE HERE` or \"YOUR ANSWER HERE\", as well as your name and collaborators below:"
   ]
  },
  {
   "cell_type": "code",
   "execution_count": null,
   "metadata": {},
   "outputs": [],
   "source": [
    "NAME = \"Jack Deng\"\n",
    "ID = \"l630003010\""
   ]
  },
  {
   "cell_type": "markdown",
   "metadata": {},
   "source": [
    "---"
   ]
  },
  {
   "cell_type": "markdown",
   "metadata": {
    "deletable": false,
    "editable": false,
    "nbgrader": {
     "checksum": "e8d6beeddd8957f5a961b7371a89c6b4",
     "grade": false,
     "grade_id": "cell-b07c29c28d4193e9",
     "locked": true,
     "schema_version": 1,
     "solution": false
    }
   },
   "source": [
    "# Flow Control\n",
    "\n",
    "*<font color=\"grey\">Dr. Dyce Jing ZHAO<br>\n",
    "Computer Science Programme,<br>\n",
    "BNU-HKBU United International College</font>*\n",
    "\n",
    "In this chapter, we are going to learn flow control statements including *decision making* and *looping*. The syntax of flow control in Python is very similar to that in C. However, be noted that, unlike C, Python uses *lines and indentation* to represent code blocks. Therefore, <span class=\"hl\">no brackets</span> ({}) are used in the flow control statements."
   ]
  },
  {
   "cell_type": "markdown",
   "metadata": {
    "deletable": false,
    "editable": false,
    "nbgrader": {
     "checksum": "74c230166c42ae948295c41d2dc431fc",
     "grade": false,
     "grade_id": "cell-4678a26674662871",
     "locked": true,
     "schema_version": 1,
     "solution": false
    }
   },
   "source": [
    "## Decision Making\n",
    "\n",
    "Decision making in Python is almost the same as in C. The only difference is that, where in C we use `if...else if...else`, in Python, we use `if...elif...else`.\n",
    "\n",
    "To be specific, Python provides the `if`, `if...else`, `if...elif...else` and the nested `if` statements.\n",
    "\n",
    "### The if statement\n",
    "The syntax of `if` is\n",
    "```python\n",
    "if test expression:\n",
    "    statement(s)\n",
    "```\n",
    "\n",
    "and its flow chart is\n",
    "![](img/ch4.if.jpg)\n",
    "\n",
    "The following example prints a message if `num` is positive."
   ]
  },
  {
   "cell_type": "code",
   "execution_count": null,
   "metadata": {},
   "outputs": [],
   "source": [
    "# If the number is positive, we print an appropriate message\n",
    "\n",
    "num = 3\n",
    "if num > 0:\n",
    "    print(num, \"is a positive number.\")\n",
    "print(\"This is always printed.\")\n",
    "\n",
    "num = -1\n",
    "if num > 0:\n",
    "    print(num, \"is a positive number.\")\n",
    "print(\"This is also always printed.\")"
   ]
  },
  {
   "cell_type": "markdown",
   "metadata": {
    "deletable": false,
    "editable": false,
    "nbgrader": {
     "checksum": "4a056c2011bdf85bd13a133462e1fcb2",
     "grade": false,
     "grade_id": "cell-e5642f3a14dbdfc0",
     "locked": true,
     "schema_version": 1,
     "solution": false
    }
   },
   "source": [
    "### The if...else statement\n",
    "\n",
    "The syntax of `if...else` is\n",
    "```python\n",
    "if test expression:\n",
    "    Body of if\n",
    "else:\n",
    "    Body of else\n",
    "```\n",
    "\n",
    "and its flowchart is\n",
    "![](img/ch4.ifelse.jpg)\n",
    "\n",
    "The following example checks if `num` is positive or negative, and prints an appropriate message."
   ]
  },
  {
   "cell_type": "code",
   "execution_count": null,
   "metadata": {},
   "outputs": [],
   "source": [
    "# Program checks if the number is positive or negative\n",
    "# And displays an appropriate message\n",
    "\n",
    "num = 3\n",
    "\n",
    "# Try these two variations as well. \n",
    "# num = -5\n",
    "# num = 0\n",
    "\n",
    "if num >= 0:\n",
    "    print(\"Positive or Zero\")\n",
    "else:\n",
    "    print(\"Negative number\")"
   ]
  },
  {
   "cell_type": "markdown",
   "metadata": {
    "deletable": false,
    "editable": false,
    "nbgrader": {
     "checksum": "d96cb9f36853afd3af5c1b25850c05ff",
     "grade": false,
     "grade_id": "cell-b3f0f5b4bccf4658",
     "locked": true,
     "schema_version": 1,
     "solution": false
    }
   },
   "source": [
    "### The if...elif...else statement\n",
    "The syntax of `if...elif...else` is\n",
    "```python\n",
    "if test expression:\n",
    "    Body of if\n",
    "elif test expression:\n",
    "    Body of elif\n",
    "else: \n",
    "    Body of else\n",
    "```\n",
    "\n",
    "The new keyword `elif` above is equivalent to `else if` in C. The flowchart of this statement is\n",
    "![](img/ch4.elif.jpg)\n",
    "\n",
    "The following example checks if `num` is positive, negative or zero, and prints an appropriate message."
   ]
  },
  {
   "cell_type": "code",
   "execution_count": null,
   "metadata": {},
   "outputs": [],
   "source": [
    "# In this program, \n",
    "# we check if the number is positive or\n",
    "# negative or zero and \n",
    "# display an appropriate message\n",
    "\n",
    "num = 3.4\n",
    "\n",
    "# Try these two variations as well:\n",
    "# num = 0\n",
    "# num = -4.5\n",
    "\n",
    "if num > 0:\n",
    "    print(\"Positive number\")\n",
    "elif num == 0:\n",
    "    print(\"Zero\")\n",
    "else:\n",
    "    print(\"Negative number\")"
   ]
  },
  {
   "cell_type": "markdown",
   "metadata": {
    "deletable": false,
    "editable": false,
    "nbgrader": {
     "checksum": "81170a3f8fcf3dcc656745e3fd0329fb",
     "grade": false,
     "grade_id": "cell-8bad02b9790b62aa",
     "locked": true,
     "schema_version": 1,
     "solution": false
    }
   },
   "source": [
    "### The nested if statements\n",
    "\n",
    "We can have a `if...elif...else` statement inside another `if...elif...else` statement. This is called *nesting*. Any number of these statements can be nested inside one another. Indentation is the only way to figure out the level of nesting. This can get confusing, so must be avoided if we can.\n",
    "\n",
    "Below, we re-implement the previous example using nested if."
   ]
  },
  {
   "cell_type": "code",
   "execution_count": null,
   "metadata": {},
   "outputs": [],
   "source": [
    "# In this program, we input a number\n",
    "# check if the number is positive or\n",
    "# negative or zero and display\n",
    "# an appropriate message\n",
    "# This time we use nested if\n",
    "\n",
    "num = float(input(\"Enter a number: \"))\n",
    "if num >= 0:\n",
    "    if num == 0:\n",
    "        print(\"Zero\")\n",
    "    else:\n",
    "        print(\"Positive number\")\n",
    "else:\n",
    "    print(\"Negative number\")"
   ]
  },
  {
   "cell_type": "markdown",
   "metadata": {},
   "source": [
    "<span class=\"task\">Task 1:</span>: Write the Python code which reads in three numbers from input and displays the greatest value."
   ]
  },
  {
   "cell_type": "code",
   "execution_count": null,
   "metadata": {
    "deletable": false,
    "nbgrader": {
     "checksum": "0132b473350a0b14ec39979bf749be98",
     "grade": true,
     "grade_id": "cell-c75838012c3c7c01",
     "locked": false,
     "points": 1,
     "schema_version": 1,
     "solution": true
    }
   },
   "outputs": [],
   "source": [
    "# YOUR CODE HERE\n",
    "def greatest(arr):\n",
    "    if arr[0] > arr[1]:\n",
    "        return arr[0] if arr[0] > arr[2] else arr[2]\n",
    "    else:\n",
    "        return arr[1] if arr[1] > arr[2] else arr[2]\n",
    "    \n",
    "numArr = list(map(int, input(\"Enter three numbers: \").split(\" \")))[:3:]\n",
    "print(greatest(numArr))"
   ]
  },
  {
   "cell_type": "markdown",
   "metadata": {},
   "source": [
    "<span class=\"task\">Task 2</span>: Write the code to read in the *x* and *y* values of a point in a two dimensional coordinate system and decide which quadrant the point is in. For example, point (1, 2) is in quadrant I and point (1, -2) is in quadrant IV. Further, points which lie on an axis (i.e., which have at least one coordinate equal to 0) are said not to be in any quadrant. \n",
    "![](img/ch4.quadrant.gif)"
   ]
  },
  {
   "cell_type": "code",
   "execution_count": null,
   "metadata": {
    "deletable": false,
    "nbgrader": {
     "checksum": "c575bfaa483716477570b5e0c6cf106b",
     "grade": true,
     "grade_id": "cell-79707feaf68bc564",
     "locked": false,
     "points": 2,
     "schema_version": 1,
     "solution": true
    }
   },
   "outputs": [],
   "source": [
    "# YOUR CODE HERE\n",
    "def position(x, y):\n",
    "    if 0 in [x, y]:\n",
    "        print(\"Point({}, {}) not in any quadrant.\".format(x, y))\n",
    "        return\n",
    "    if x > 0 and y > 0:\n",
    "        print(\"Point({}, {}) in Quadrant I.\".format(x, y))\n",
    "        return\n",
    "    if x < 0 and y > 0:\n",
    "        print(\"Point({}, {}) in Quadrant II.\".format(x, y))\n",
    "        return\n",
    "    if x < 0 and y < 0:\n",
    "        print(\"Point({}, {}) in Quadrant III.\".format(x, y))\n",
    "        return\n",
    "    if x > 0 and y < 0:\n",
    "        print(\"Point({}, {}) in Quadrant IV.\".format(x, y))\n",
    "        return\n",
    "    \n",
    "x = int(input(\"Enter x: \"))\n",
    "y = int(input(\"Enter y: \"))\n",
    "position(x, y)"
   ]
  },
  {
   "cell_type": "markdown",
   "metadata": {},
   "source": [
    "<span class=\"task\">Task 3</span>: Write the code to read in a year number and decide if it is a *leap year*. Suppose that the  year number is `y`,\n",
    "* if `y` is not a century year, it is a leap year if `y` can be divided by 4. For example, 2008 is a leap year while 2010 is not.\n",
    "* if `y` is a century year, it is a leap year if `y` can be divided by 400. For example, 2000 is a leap year while 1900 is not."
   ]
  },
  {
   "cell_type": "code",
   "execution_count": null,
   "metadata": {
    "deletable": false,
    "nbgrader": {
     "checksum": "cf7b0e82e690371104b65d8a5a2bb29b",
     "grade": true,
     "grade_id": "cell-eb410fc976538443",
     "locked": false,
     "points": 2,
     "schema_version": 1,
     "solution": true
    }
   },
   "outputs": [],
   "source": [
    "# YOUR CODE HERE\n",
    "def isLeapYear(y):\n",
    "    if y % 100 == 0:\n",
    "        return y % 400 == 0\n",
    "    return y % 4 == 0\n",
    "\n",
    "y = int(input(\"Enter a year: \"))\n",
    "print(isLeapYear(y))"
   ]
  },
  {
   "cell_type": "markdown",
   "metadata": {},
   "source": [
    "## For Loop\n",
    "\n",
    "The `for` loop in Python is used to iterate over a sequence (list, tuple, string) or other iterable objects. Iterating over a sequence is called *traversal*.\n",
    "\n",
    "The syntax of `for` loop is\n",
    "```python\n",
    "for val in sequence:\n",
    "\tBody of for\n",
    "```\n",
    "\n",
    "and its flow chart is\n",
    "![](img/ch4.for.jpg)\n",
    "\n",
    "The following example prints the sum of all the number within a list."
   ]
  },
  {
   "cell_type": "code",
   "execution_count": null,
   "metadata": {},
   "outputs": [],
   "source": [
    "# Program to find the sum of all numbers stored in a list\n",
    "\n",
    "# List of numbers\n",
    "numbers = [6, 5, 3, 8, 4, 2, 5, 4, 11]\n",
    "\n",
    "# variable to store the sum\n",
    "sum = 0\n",
    "\n",
    "# iterate over the list\n",
    "for val in numbers:\n",
    "    sum = sum+val\n",
    "\n",
    "# Output: The sum is 48\n",
    "print(\"The sum is\", sum)"
   ]
  },
  {
   "cell_type": "markdown",
   "metadata": {},
   "source": [
    "### The Range() function\n",
    "We can generate a sequence of numbers using `range()` function. `range(10)` will generate numbers from 0 to 9 (10 numbers).\n",
    "\n",
    "We can also define the start, stop and step size as `range(start,stop,step size)`. `step size` defaults to 1 if not provided.\n",
    "\n",
    "We can use the `range()` function in for loops to iterate through a sequence of numbers. It can be combined with the `len()` function to iterate though a sequence using indexing. Here is an example."
   ]
  },
  {
   "cell_type": "code",
   "execution_count": null,
   "metadata": {},
   "outputs": [],
   "source": [
    "# Program to iterate through a list using indexing\n",
    "\n",
    "genre = ['pop', 'rock', 'jazz']\n",
    "\n",
    "# iterate over the list using index\n",
    "for i in range(len(genre)):\n",
    "    print(\"I like\", genre[i])"
   ]
  },
  {
   "cell_type": "markdown",
   "metadata": {},
   "source": [
    "### For loop with else\n",
    "\n",
    "A for loop can have an optional `else` block as well. The else part is executed if the items in the sequence used in for loop exhausts.\n",
    "\n",
    "`break` statement can be used to stop a for loop. In such case, the else part is ignored.\n",
    "\n",
    "Hence, a for loop's else part runs if no break occurs.\n",
    "\n",
    "Here is an example to illustrate this."
   ]
  },
  {
   "cell_type": "code",
   "execution_count": null,
   "metadata": {},
   "outputs": [],
   "source": [
    "digits = [0, 1, 5]\n",
    "\n",
    "for i in digits:\n",
    "    print(i)\n",
    "else:\n",
    "    print(\"No items left.\")"
   ]
  },
  {
   "cell_type": "markdown",
   "metadata": {},
   "source": [
    "## While Loop\n",
    "\n",
    "Like in C, the while loop in Python is used to iterate over a block of code as long as the condition is true.\n",
    "\n",
    "We generally use this loop when we don't know beforehand, the number of times to iterate.\n",
    "\n",
    "The syntax of `while` loop is\n",
    "```python\n",
    "while test_expression:\n",
    "    Body of while\n",
    "```\n",
    "\n",
    "and its flow chart is\n",
    "![](img/ch4.while.jpg)\n",
    "\n",
    "Note that Python interprets any non-zero value as True. None and 0 are interpreted as False. The following example reads natural numbers from keyboard and sum them up until the user inputs a `0`."
   ]
  },
  {
   "cell_type": "code",
   "execution_count": null,
   "metadata": {},
   "outputs": [],
   "source": [
    "# Program to read nums and sum them up until num is 0\n",
    "\n",
    "sum = 0\n",
    "num = int(input('Input a natural number (input 0 to exit): '))\n",
    "while num:\n",
    "    sum += num\n",
    "    num = int(input('Input a natural number (input 0 to exit): '))\n",
    "print(\"The sum of your inputs are:\", sum)"
   ]
  },
  {
   "cell_type": "markdown",
   "metadata": {},
   "source": [
    "### While loop with else\n",
    "\n",
    "Same as that of for loop, we can have an optional `else` block with while loop as well.\n",
    "\n",
    "The else part is executed if the condition in the while loop evaluates to False. The while loop can be terminated with a `break` statement.\n",
    "\n",
    "In such case, the else part is ignored. Hence, a while loop's else part runs if no break occurs and the condition is false.\n",
    "\n",
    "Here is an example to illustrate this."
   ]
  },
  {
   "cell_type": "code",
   "execution_count": null,
   "metadata": {},
   "outputs": [],
   "source": [
    "# Example to illustrate\n",
    "# the use of else statement\n",
    "# with the while loop\n",
    "\n",
    "counter = 0\n",
    "\n",
    "while counter < 3:\n",
    "    print(\"Inside loop\")\n",
    "    counter = counter + 1\n",
    "else:\n",
    "    print(\"Inside else\")"
   ]
  },
  {
   "cell_type": "markdown",
   "metadata": {},
   "source": [
    "## Break and Continue\n",
    "\n",
    "`break` and `continue` are used to alter the flow of a normal loop. Their syntax is the same as that in C. The follow images illustrates how they work in the for and the while loop.\n",
    "\n",
    "The `break` statement:\n",
    "![](img/ch4.break.jpg)\n",
    "\n",
    "Read the following example and try to predict the output:"
   ]
  },
  {
   "cell_type": "code",
   "execution_count": null,
   "metadata": {},
   "outputs": [],
   "source": [
    "# Use of break statement inside loop\n",
    "\n",
    "for val in \"string\":\n",
    "    if val == \"i\":\n",
    "        break\n",
    "    print(val)\n",
    "\n",
    "print(\"The end\")"
   ]
  },
  {
   "cell_type": "markdown",
   "metadata": {},
   "source": [
    "The `continue` statement:\n",
    "![](img/ch4.continue.jpg)\n",
    "\n",
    "Read the following example and try to predict the output:"
   ]
  },
  {
   "cell_type": "code",
   "execution_count": null,
   "metadata": {},
   "outputs": [],
   "source": [
    "# Program to show the use of continue statement inside loops\n",
    "\n",
    "for val in \"string\":\n",
    "    if val == \"i\":\n",
    "        continue\n",
    "    print(val)\n",
    "\n",
    "print(\"The end\")"
   ]
  },
  {
   "cell_type": "markdown",
   "metadata": {},
   "source": [
    "<span class=\"task\">Task 4</span>: Calculate the sum between 1 and 100."
   ]
  },
  {
   "cell_type": "code",
   "execution_count": 14,
   "metadata": {
    "deletable": false,
    "nbgrader": {
     "checksum": "189ae24e0087b251ffc882dff2fec66f",
     "grade": true,
     "grade_id": "cell-124cef879d4c643b",
     "locked": false,
     "points": 1,
     "schema_version": 1,
     "solution": true
    }
   },
   "outputs": [
    {
     "name": "stdout",
     "output_type": "stream",
     "text": [
      "5050\n"
     ]
    }
   ],
   "source": [
    "# YOUR CODE HERE\n",
    "sum = 100\n",
    "for i in range(100):\n",
    "    sum += i\n",
    "\n",
    "print(sum)"
   ]
  },
  {
   "cell_type": "markdown",
   "metadata": {},
   "source": [
    "<span class=\"task\">Task 5</span>: Calculate the sum of all odd numbers between 1 and 100."
   ]
  },
  {
   "cell_type": "code",
   "execution_count": 16,
   "metadata": {
    "deletable": false,
    "nbgrader": {
     "checksum": "128ab2a7a9d41b9b9313ea01b9f8e4ce",
     "grade": true,
     "grade_id": "cell-1babac8f54e1f850",
     "locked": false,
     "points": 1,
     "schema_version": 1,
     "solution": true
    }
   },
   "outputs": [
    {
     "name": "stdout",
     "output_type": "stream",
     "text": [
      "2500\n"
     ]
    }
   ],
   "source": [
    "# YOUR CODE HERE\n",
    "sum = 0\n",
    "for i in range(1, 100, 2):\n",
    "    sum += i\n",
    "    \n",
    "print(sum)"
   ]
  },
  {
   "cell_type": "markdown",
   "metadata": {},
   "source": [
    "<span class=\"task\">Task 6</span>: Find all the prime numbers between 2 and 19."
   ]
  },
  {
   "cell_type": "code",
   "execution_count": 15,
   "metadata": {
    "deletable": false,
    "nbgrader": {
     "checksum": "d0e8bacf5f6aaefc1b7a2747ee2c01a0",
     "grade": true,
     "grade_id": "cell-4901160fd7fe0bf1",
     "locked": false,
     "points": 1,
     "schema_version": 1,
     "solution": true
    }
   },
   "outputs": [
    {
     "name": "stdout",
     "output_type": "stream",
     "text": [
      "All the prime number between 2 and 19 are: 2 3 5 7 11 13 17 19 "
     ]
    }
   ],
   "source": [
    "# YOUR CODE HERE\n",
    "def isPrime(num):\n",
    "    for i in range(2, num):\n",
    "        if num % i == 0:\n",
    "            return False\n",
    "    return True\n",
    "\n",
    "print(\"All the prime number between 2 and 19 are: \", end=\"\")\n",
    "for i in range(2, 20):\n",
    "    if isPrime(i):\n",
    "        print(i, end=\" \")"
   ]
  },
  {
   "cell_type": "markdown",
   "metadata": {},
   "source": [
    "<span class=\"task\">Task 7</span>: Print all the prime numbers in the following list: [32, 41, 23, 33, 18, 29, 7, 14, 76, 37, 21]"
   ]
  },
  {
   "cell_type": "code",
   "execution_count": 17,
   "metadata": {
    "deletable": false,
    "nbgrader": {
     "checksum": "3bec28bc0ad6d0871c3649d029af64e2",
     "grade": true,
     "grade_id": "cell-573c44bcd3b98a76",
     "locked": false,
     "points": 2,
     "schema_version": 1,
     "solution": true
    }
   },
   "outputs": [
    {
     "name": "stdout",
     "output_type": "stream",
     "text": [
      "All the prime numbers in the list are: 41 23 29 7 37 "
     ]
    }
   ],
   "source": [
    "# YOUR CODE HERE\n",
    "def isPrime(num):\n",
    "    for i in range(2, num):\n",
    "        if num % i == 0:\n",
    "            return False\n",
    "    return True\n",
    "\n",
    "print(\"All the prime numbers in the list are: \", end=\"\")\n",
    "for num in [32, 41, 23, 33, 18, 29, 7, 14, 76, 37, 21]:\n",
    "    if isPrime(num):\n",
    "        print(num, end=\" \")"
   ]
  },
  {
   "cell_type": "markdown",
   "metadata": {},
   "source": [
    "## Pass\n",
    "\n",
    "In Python programming, `pass` is a null statement. The difference between a comment and pass statement in Python is that, while the interpreter ignores a comment entirely, pass is not ignored.\n",
    "\n",
    "However, nothing happens when pass is executed. It results into no operation (NOP).\n",
    "\n",
    "We generally use it as a placeholder.\n",
    "\n",
    "Suppose we have a loop or a function that is not implemented yet, but we want to implement it in the future. They cannot have an empty body. The interpreter would complain. So, we use the pass statement to construct a body that does nothing. Follows is an example.\n"
   ]
  },
  {
   "cell_type": "code",
   "execution_count": null,
   "metadata": {},
   "outputs": [],
   "source": [
    "# pass is just a placeholder for\n",
    "# functionality to be added later.\n",
    "sequence = {'p', 'a', 's', 's'}\n",
    "for val in sequence:\n",
    "    pass"
   ]
  },
  {
   "cell_type": "markdown",
   "metadata": {},
   "source": [
    "## Self Test\n",
    "\n",
    "Take the quiz on [Programiz](https://www.programiz.com/python-programming/quiz/decision-making/take/) on the topic of flow control.\n"
   ]
  }
 ],
 "metadata": {
  "kernelspec": {
   "display_name": "Python 3",
   "language": "python",
   "name": "python3"
  },
  "language_info": {
   "codemirror_mode": {
    "name": "ipython",
    "version": 3
   },
   "file_extension": ".py",
   "mimetype": "text/x-python",
   "name": "python",
   "nbconvert_exporter": "python",
   "pygments_lexer": "ipython3",
   "version": "3.6.4"
  }
 },
 "nbformat": 4,
 "nbformat_minor": 2
}
