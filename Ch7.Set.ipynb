{
 "cells": [
  {
   "cell_type": "markdown",
   "metadata": {},
   "source": [
    "Before you turn this problem in, make sure everything runs as expected. First, **restart the kernel** (in the menubar, select Kernel$\\rightarrow$Restart) and then **run all cells** (in the menubar, select Cell$\\rightarrow$Run All).\n",
    "\n",
    "If you find your kernel dead (e.g,, \"In[*]\" appears before a code cell), please interrupt the kernel (press \"&#11035;\").\n",
    "\n",
    "\n",
    "Make sure you fill in any place that says `YOUR CODE HERE` or \"YOUR ANSWER HERE\", delete the statement \"raise NotImplementedError()\" as well as your name and collaborators below:"
   ]
  },
  {
   "cell_type": "code",
   "execution_count": null,
   "metadata": {},
   "outputs": [],
   "source": [
    "NAME = \"Jack Deng\"\n",
    "ID = \"l630003010\""
   ]
  },
  {
   "cell_type": "markdown",
   "metadata": {},
   "source": [
    "---"
   ]
  },
  {
   "cell_type": "markdown",
   "metadata": {
    "deletable": false,
    "editable": false,
    "nbgrader": {
     "checksum": "aaf5ff6edaa3c628471167ed84b48607",
     "grade": false,
     "grade_id": "cell-2dfca1fe2dd5e791",
     "locked": true,
     "schema_version": 1,
     "solution": false
    }
   },
   "source": [
    "# Python Set\n",
    "\n",
    "*<font color=\"grey\">Dr. Dyce Jing ZHAO<br>\n",
    "Computer Science Programme,<br>\n",
    "BNU-HKBU United International College</font>*\n",
    "\n",
    "A set is an unordered collection of items. Every element is unique (no duplicates) and must be *immutable* (which cannot be changed). However, the set itself is mutable. We can add or remove items from it.\n",
    "\n",
    "Sets can be used to perform mathematical set operations like union, intersection, symmetric difference etc."
   ]
  },
  {
   "cell_type": "markdown",
   "metadata": {
    "deletable": false,
    "editable": false,
    "nbgrader": {
     "checksum": "9dea6ededbd1b8b844d50d4eb6121fa3",
     "grade": false,
     "grade_id": "cell-2bc96e5fb0293d43",
     "locked": true,
     "schema_version": 1,
     "solution": false
    }
   },
   "source": [
    "## Create a Set\n",
    "\n",
    "A set is created by placing all the items inside a pair of curly braces ({}), separated by comma (,). It can have items of different types. However, a set item must be immutable (e.g., integer, float, tuple, string, ...).\n",
    "\n",
    "Follows are valid examples that create sets:"
   ]
  },
  {
   "cell_type": "code",
   "execution_count": null,
   "metadata": {},
   "outputs": [],
   "source": [
    "# an empty set\n",
    "my_set = {}\n",
    "print(my_set)\n",
    "\n",
    "# a set of integers\n",
    "my_set = {1, 2, 7}\n",
    "print(my_set)\n",
    "\n",
    "# a set of mixed data types\n",
    "# (1, 2.3) is a tuple which is immutable\n",
    "my_set = {1, 2.2, \"hello\", (1, 2.3)}\n",
    "print(my_set)"
   ]
  },
  {
   "cell_type": "markdown",
   "metadata": {
    "deletable": false,
    "editable": false,
    "nbgrader": {
     "checksum": "ca0aaee6c3e46407abeaba83ea491b83",
     "grade": false,
     "grade_id": "cell-4a560d737af2368d",
     "locked": true,
     "schema_version": 1,
     "solution": false
    }
   },
   "source": [
    "And follows are improper examples of set creation:"
   ]
  },
  {
   "cell_type": "code",
   "execution_count": null,
   "metadata": {},
   "outputs": [],
   "source": [
    "# set do not have duplicates, so repeated items will be ignored\n",
    "# Output: {1, 2, 3, 4}\n",
    "my_set = {1,2,3,4,3,2}\n",
    "print(my_set)\n",
    "\n",
    "# set cannot have mutable items\n",
    "# here [3, 4] is a list (mutable)\n",
    "# this will cause an error.\n",
    "# TypeError: unhashable type: 'list'\n",
    "my_set = {1, 2, [3, 4]}"
   ]
  },
  {
   "cell_type": "markdown",
   "metadata": {
    "deletable": false,
    "editable": false,
    "nbgrader": {
     "checksum": "fa305e6d321efdc949a598a4670558f3",
     "grade": false,
     "grade_id": "cell-8b15241abcc635ec",
     "locked": true,
     "schema_version": 1,
     "solution": false
    }
   },
   "source": [
    "In addition, you may create a set from a list using the built-in function `set()`. Follows shows the syntax."
   ]
  },
  {
   "cell_type": "code",
   "execution_count": null,
   "metadata": {},
   "outputs": [],
   "source": [
    "# a tuple is defined by ()\n",
    "# a list is defined by []\n",
    "# a set is defined by {}\n",
    "# the following set is created from a list\n",
    "my_list = [1, 2, 3]\n",
    "my_set = set(my_list)\n",
    "print(my_set)\n",
    "\n",
    "my_str = \"bravo\"\n",
    "my_set = set(my_str)\n",
    "print(my_set)"
   ]
  },
  {
   "cell_type": "markdown",
   "metadata": {
    "deletable": false,
    "editable": false,
    "nbgrader": {
     "checksum": "367262ed0aa96a4102959a0fbbaa7363",
     "grade": false,
     "grade_id": "cell-6136e27ae7e65132",
     "locked": true,
     "schema_version": 1,
     "solution": false
    }
   },
   "source": [
    "Creating an empty set is a bit tricky.\n",
    "\n",
    "Empty curly braces ({}) will make an empty *dictionary*, which will be introduced later. To make an empty set, we use the `set()` function without any argument. Follows is an example:"
   ]
  },
  {
   "cell_type": "code",
   "execution_count": null,
   "metadata": {},
   "outputs": [],
   "source": [
    "# initialize something with {}\n",
    "something = {}\n",
    "\n",
    "# check data type of something\n",
    "# Output: <class 'dict'>\n",
    "print(type(something))\n",
    "\n",
    "# initialize something with set()\n",
    "something = set()\n",
    "\n",
    "# check data type of something\n",
    "# Output: <class 'set'>\n",
    "print(type(something))"
   ]
  },
  {
   "cell_type": "markdown",
   "metadata": {
    "deletable": false,
    "editable": false,
    "nbgrader": {
     "checksum": "2cfac2bddc797e6093a5e1c63235e2c4",
     "grade": false,
     "grade_id": "cell-67ff4ac2fa6491f9",
     "locked": true,
     "schema_version": 1,
     "solution": false
    }
   },
   "source": [
    "## Add Items to a Set\n",
    "\n",
    "Sets are mutable, which means you can insert or delete an item from a set. However, set items are unordered and indexing have no meaning in a set.\n",
    "\n",
    "We cannot access or change an element of set using indexing or slicing. Set does not support it. We can \n",
    "\n",
    "* add single element using the `add()` method\n",
    "* and add multiple elements using the `update()` method. \n",
    "\n",
    "The `update()` method can take tuples, lists, strings or other sets as its argument. In all cases, duplicates are ignored.\n",
    "\n",
    "Follows shows the use of `add()` and `update()`:"
   ]
  },
  {
   "cell_type": "code",
   "execution_count": null,
   "metadata": {},
   "outputs": [],
   "source": [
    "# initialize my_set\n",
    "my_set = {3, 1}\n",
    "print(my_set)\n",
    "\n",
    "# if you uncomment line: my_set[0]\n",
    "# you will get an error\n",
    "# TypeError: 'set' object does not support indexing\n",
    "\n",
    "#my_set[0]\n",
    "\n",
    "# add an element\n",
    "# Output: {1, 2, 3}\n",
    "my_set.add(2)\n",
    "print(my_set)\n",
    "\n",
    "# add multiple elements from list\n",
    "# duplicates are ignored\n",
    "# Output: {1, 2, 3, 4, 5}\n",
    "my_set.update([2,3,4,5])\n",
    "print(my_set)\n",
    "\n",
    "# add multiple elements from tuple and set\n",
    "# duplicates are always ignored\n",
    "# Output: {1, 2, 3, 4, 5, 6, 7, 8}\n",
    "my_set.update((7,5), {1,6,8})\n",
    "print(my_set)"
   ]
  },
  {
   "cell_type": "markdown",
   "metadata": {
    "deletable": false,
    "editable": false,
    "nbgrader": {
     "checksum": "e77b1070e660136631bf85c89188232a",
     "grade": false,
     "grade_id": "cell-2d1f0148627a7a84",
     "locked": true,
     "schema_version": 1,
     "solution": false
    }
   },
   "source": [
    "## Remove Items from a Set\n",
    "\n",
    "A particular item can be removed from set using methods, `discard()` or `remove()`.\n",
    "\n",
    "The only difference between the two is that, while using `discard()` if the item does not exist in the set, it remains unchanged. But` remove()` will raise an error in such condition.\n",
    "\n",
    "The following example will illustrate this:"
   ]
  },
  {
   "cell_type": "code",
   "execution_count": null,
   "metadata": {},
   "outputs": [],
   "source": [
    "# initialize my_set\n",
    "my_set = {1, 3, 4, 5, 6}\n",
    "print(my_set)\n",
    "\n",
    "# discard an element\n",
    "# Output: {1, 3, 5, 6}\n",
    "my_set.discard(4)\n",
    "print(my_set)\n",
    "\n",
    "# remove an element\n",
    "# Output: {1, 3, 5}\n",
    "my_set.remove(6)\n",
    "print(my_set)\n",
    "\n",
    "# discard an element\n",
    "# not present in my_set\n",
    "# Output: {1, 3, 5}\n",
    "my_set.discard(2)\n",
    "print(my_set)\n",
    "\n",
    "# remove an element\n",
    "# not present in my_set\n",
    "# If you uncomment the last line,\n",
    "# you will get an error.\n",
    "# Output: KeyError: 2\n",
    "\n",
    "#my_set.remove(2)"
   ]
  },
  {
   "cell_type": "markdown",
   "metadata": {
    "deletable": false,
    "editable": false,
    "nbgrader": {
     "checksum": "5003c38bb7b333802f96eabdafc56758",
     "grade": false,
     "grade_id": "cell-3bf9e088d28bc399",
     "locked": true,
     "schema_version": 1,
     "solution": false
    }
   },
   "source": [
    "Set supports the `pop()` method. However, as set items are unordered, there is no way of determining which item will be popped. It is completely arbitrary.\n",
    "\n",
    "We can also remove all items from a set using clear().\n",
    "\n",
    "Follows is an example:"
   ]
  },
  {
   "cell_type": "code",
   "execution_count": null,
   "metadata": {},
   "outputs": [],
   "source": [
    "# initialize my_set\n",
    "# Output: set of unique elements\n",
    "my_set = set(\"HelloWorld\")\n",
    "print(my_set)\n",
    "\n",
    "# pop an element\n",
    "# Output: random element\n",
    "print(my_set.pop())\n",
    "\n",
    "# pop another element\n",
    "# Output: random element\n",
    "my_set.pop()\n",
    "print(my_set)\n",
    "\n",
    "# clear my_set\n",
    "#Output: set()\n",
    "my_set.clear()\n",
    "print(my_set)"
   ]
  },
  {
   "cell_type": "markdown",
   "metadata": {
    "deletable": false,
    "editable": false,
    "nbgrader": {
     "checksum": "d1857e7742486546db2ecfbbcfb09a37",
     "grade": false,
     "grade_id": "cell-41915f415d92660f",
     "locked": true,
     "schema_version": 1,
     "solution": false
    }
   },
   "source": [
    "## Set Operations\n",
    "\n",
    "Sets can be used to carry out mathematical set operations like union, intersection, difference and symmetric difference. We can do this with operators or methods.\n",
    "\n",
    "Let us consider the following two sets for the following operations.\n",
    "\n",
    "```python\n",
    ">>> A = {1, 2, 3, 4, 5}\n",
    ">>> B = {4, 5, 6, 7, 8}\n",
    "```\n",
    "\n",
    "### Set Union\n",
    "![Set Union](img/ch7.union.jpg)\n",
    "\n",
    "As illustrated by the image above, union of `A` and `B` is a set of all elements from both sets.\n",
    "\n",
    "Union of `A` and `B` is performed using\n",
    "* `A|B`\n",
    "* or `A.union(B)`\n",
    "\n",
    "Note that this operation produces the union set but does not change set `A` or `B`. Follows is an example:"
   ]
  },
  {
   "cell_type": "code",
   "execution_count": null,
   "metadata": {},
   "outputs": [],
   "source": [
    "# initialize A and B\n",
    "A = {1, 2, 3, 4, 5}\n",
    "B = {4, 5, 6, 7, 8}\n",
    "\n",
    "# union A and B\n",
    "# Output: {1, 2, 3, 4, 5, 6, 7, 8}\n",
    "print(A|B)\n",
    "print(A.union(B))"
   ]
  },
  {
   "cell_type": "markdown",
   "metadata": {
    "deletable": false,
    "editable": false,
    "nbgrader": {
     "checksum": "e4c21d566abd82e8d2abd3951f80369e",
     "grade": false,
     "grade_id": "cell-f2a63c97ec1900fd",
     "locked": true,
     "schema_version": 1,
     "solution": false
    }
   },
   "source": [
    "### Set Intersection\n",
    "\n",
    "![Set Intersection](img/ch7.intersection.jpg)\n",
    "\n",
    "As illustrated by the image above, intersection of A and B is a set of elements that are common in both sets.\n",
    "\n",
    "Intersection of `A` and `B` is performed using\n",
    "* `A&B`\n",
    "* or `A.intersection(B)`\n",
    "\n",
    "### Set Difference\n",
    "\n",
    "![Set Difference](img/ch7.difference.jpg)\n",
    "\n",
    "Difference of `A` and `B` (`A-B`) is a set of elements that are only in `A` but not in `B`. Similarly, `B-A` is a set of element in `B` but not in `A`.\n",
    "\n",
    "Difference of `A` and `B` is performed using\n",
    "\n",
    "* `A-B`\n",
    "* or `A.difference(B)`\n",
    "\n",
    "### Set Symmetric Difference\n",
    "\n",
    "![Set Symmetric Difference](img/ch7.sdifference.jpg)\n",
    "\n",
    "Symmetric difference of `A` and `B` is a set of elements in both `A` and `B` except those that are common in both.\n",
    "\n",
    "Symmetric difference of `A` and `B` is performed using\n",
    "\n",
    "* `A^B`\n",
    "* or `A.symmetric_difference(B)`\n",
    "\n",
    "Read the code below and try to predict the output for each `print()` statement."
   ]
  },
  {
   "cell_type": "code",
   "execution_count": null,
   "metadata": {},
   "outputs": [],
   "source": [
    "# initialize A and B\n",
    "A = {1, 2, 3, 4, 5}\n",
    "B = {4, 5, 6, 7, 8}\n",
    "\n",
    "print(A&B)\n",
    "print(A-B)\n",
    "print(B-A)\n",
    "print(A^B)"
   ]
  },
  {
   "cell_type": "markdown",
   "metadata": {
    "deletable": false,
    "editable": false,
    "nbgrader": {
     "checksum": "b4e3c14691f0c2cb94fa424207137df2",
     "grade": false,
     "grade_id": "cell-aacca208affb099d",
     "locked": true,
     "schema_version": 1,
     "solution": false
    }
   },
   "source": [
    "### Python Set Methods\n",
    "\n",
    "There are many set methods, some of which we have already used above. Here is a list of all the methods that are available with set objects.\n",
    "\n",
    "* <a href=\"https://www.programiz.com/python-programming/methods/set/add\" title=\"Python set add()\">add()</a> - Add an element to a set\n",
    "* <a href=\"https://www.programiz.com/python-programming/methods/set/clear\" title=\"Python set clear()\">clear()</a> - Remove all elements form a set\n",
    "* <a href=\"https://www.programiz.com/python-programming/methods/set/copy\" title=\"Python set copy\">copy()</a> - Return a shallow copy of a set\n",
    "* <a href=\"https://www.programiz.com/python-programming/methods/set/difference\" title=\"Python set difference()\">difference()</a> - Return the difference of two or more sets as a new set\n",
    "* <a href=\"https://www.programiz.com/python-programming/methods/set/difference_update\" title=\"Python set difference_update\">difference_update()</a> - Remove all elements of another set from this set\n",
    "* <a href=\"https://www.programiz.com/python-programming/methods/set/discard\" title=\"Python set discard()\">discard()</a> - Remove an element from set if it is a member. (Do nothing if the element is not in set)\n",
    "* <a href=\"https://www.programiz.com/python-programming/methods/set/intersection\" title=\"Python set intersection()\">intersection()</a> - Return the intersection of two sets as a new set\n",
    "* <a href=\"https://www.programiz.com/python-programming/methods/set/intersection_update\" title=\"Python set intersection_update()\">intersection_update()</a> - Update the set with the intersection of itself and another\n",
    "* <a href=\"https://www.programiz.com/python-programming/methods/set/isdisjoint\" title=\"Python set isdisjoint()\">isdisjoint()</a> - Return `True` if two sets have a null intersection\n",
    "* <a href=\"https://www.programiz.com/python-programming/methods/set/issubset\" title=\"Python set issubset()\">issubset()</a> - Return `True` if another set contains this set\n",
    "* <a href=\"https://www.programiz.com/python-programming/methods/set/issuperset\" title=\"Python set issuperset()\">issuperset()</a> - Return `True` if this set contains another set\n",
    "* <a href=\"https://www.programiz.com/python-programming/methods/set/pop\" title=\"Python set pop()\">pop()</a> - Remove and return an arbitary set element. Raise `KeyError` if the set is empty\n",
    "* <a href=\"https://www.programiz.com/python-programming/methods/set/remove\" title=\"Python set remove()\">remove()</a> - Remove an element from a set. If the element is not a member, raise a `KeyError`\n",
    "* <a href=\"https://www.programiz.com/python-programming/methods/set/symmetric_difference\" title=\"Python set symmetric_difference()\">symmetric_difference()</a> - Return the symmetric difference of two sets as a new set\n",
    "* <a href=\"https://www.programiz.com/python-programming/methods/set/symmetric_difference_update\" title=\"Python set symmetric_difference_update()\">symmetric_difference_update()</a> - Update a set with the symmetric difference of itself and another\n",
    "* <a href=\"https://www.programiz.com/python-programming/methods/set/union\" title=\"Python set union()\">union()</a> - Return the union of sets in a new set\n",
    "* <a href=\"https://www.programiz.com/python-programming/methods/set/update\" title=\"Python set update()\">update()</a> - Update a set with the union of itself and others"
   ]
  },
  {
   "cell_type": "markdown",
   "metadata": {
    "deletable": false,
    "editable": false,
    "nbgrader": {
     "checksum": "6b6b96f75b0ea16909530e18a24c9c1e",
     "grade": false,
     "grade_id": "cell-bdbed69d4f0578dc",
     "locked": true,
     "schema_version": 1,
     "solution": false
    }
   },
   "source": [
    "## Other Set Operations\n",
    "### Set Membership Test\n",
    "\n",
    "Set membership can be tested in a similar way List membership is tested. The keyword is `in`. Further, `for` loops can be used to iterate items in a set, too. Below is an example, note that the order of set items is arbitrary."
   ]
  },
  {
   "cell_type": "code",
   "execution_count": null,
   "metadata": {},
   "outputs": [],
   "source": [
    "for fruit in {'apple','banana','mango'}:\n",
    "    print(\"I like\",fruit)"
   ]
  },
  {
   "cell_type": "markdown",
   "metadata": {
    "deletable": false,
    "editable": false,
    "nbgrader": {
     "checksum": "1a8e29c764c804e7287140dac0f38ec1",
     "grade": false,
     "grade_id": "cell-5309dde5edff53cf",
     "locked": true,
     "schema_version": 1,
     "solution": false
    }
   },
   "source": [
    "### Built-in Functions with Set\n",
    "\n",
    "They are THE SAME to those for a List!\n",
    "\n",
    "\n",
    "* <a href=\"https://www.programiz.com/python-programming/methods/built-in/all\" title=\"Python all()\">all()</a> - Return True if all elements of the list are true (or if the list is empty).\n",
    "* <a href=\"https://www.programiz.com/python-programming/methods/built-in/any\" title=\"Python any()\">any()</a> - Return True if any element of the list is true. If the list is empty, return False.\n",
    "* <a href=\"https://www.programiz.com/python-programming/methods/built-in/enumerate\" title=\"Python enumerate()\">enumerate()</a> - Return an enumerate object. It contains the index and value of all the items of list as a tuple.\n",
    "* <a href=\"https://www.programiz.com/python-programming/methods/built-in/len\" title=\"Python len()\">len()</a> - Return the length (the number of items) in the list.\n",
    "* <a href=\"https://www.programiz.com/python-programming/methods/built-in/list\" title=\"Python list()\">list()</a> - Convert an iterable (tuple, string, set, dictionary) to a list.\n",
    "* <a href=\"https://www.programiz.com/python-programming/methods/built-in/max\" title=\"Python max()\">max()</a> - Return the largest item in the list.\n",
    "* <a href=\"https://www.programiz.com/python-programming/methods/built-in/min\" title=\"Python min()\">min()</a> - Return the smallest item in the list\n",
    "* <a href=\"https://www.programiz.com/python-programming/methods/built-in/sorted\" title=\"Python sorted()\">sorted()</a> - Return a new sorted list (does not sort the list itself).\n",
    "* <a href=\"https://www.programiz.com/python-programming/methods/built-in/sum\" title=\"Python sum()\">sum()</a> - Return the sum of all elements in the list."
   ]
  },
  {
   "cell_type": "markdown",
   "metadata": {
    "deletable": false,
    "editable": false,
    "nbgrader": {
     "checksum": "03fab4e6c33c3d62a84c369b48cd68f5",
     "grade": false,
     "grade_id": "cell-0666fa18bb4d1c3f",
     "locked": true,
     "schema_version": 1,
     "solution": false
    }
   },
   "source": [
    "## Python Frozenset\n",
    "\n",
    "Frozenset is a new class that has the characteristics of a set, but its elements *cannot be changed* once assigned. <span class=\"hl\">While tuples are immutable lists, frozensets are immutable sets.</span>\n",
    "\n",
    "Frozensets can be created using the function `frozenset()`.\n",
    "\n",
    "This datatype supports methods like `copy()`, `difference()`, `intersection()`, `isdisjoint()`, `issubset()`, `issuperset()`, `symmetric_difference()` and `union()`. Being immutable, it does not have method that add or remove elements.\n",
    "\n",
    "The code below shows how a frozen set is created. A forzen set can be the member of a set, since it is immutable."
   ]
  },
  {
   "cell_type": "code",
   "execution_count": null,
   "metadata": {},
   "outputs": [],
   "source": [
    "iset = frozenset([1, 2, 3, 4])\n",
    "mset = {1, iset, \"bye\"}\n",
    "print(mset)"
   ]
  },
  {
   "cell_type": "markdown",
   "metadata": {
    "deletable": false,
    "editable": false,
    "nbgrader": {
     "checksum": "748569341b86e783b11cc000f42dea46",
     "grade": false,
     "grade_id": "cell-600e0baed76582fc",
     "locked": true,
     "schema_version": 1,
     "solution": false
    }
   },
   "source": [
    "## Tasks\n",
    "\n",
    "<span class=\"task\">Task 1</span>: In the code cell below, complete the function `equalSets` which decided if two sets, `A` and `B`, are equal.\n",
    "\n",
    "For example, *equalSets({1,2}, {2, 1})* returns `True` while *equalSets({1,2}, {2, 3})* returns `False`."
   ]
  },
  {
   "cell_type": "code",
   "execution_count": 1,
   "metadata": {
    "deletable": false,
    "nbgrader": {
     "checksum": "ce21a98902c4d2ed070efe3bff7c564a",
     "grade": false,
     "grade_id": "cell-810d1a17b1f73a22",
     "locked": false,
     "schema_version": 1,
     "solution": true
    }
   },
   "outputs": [],
   "source": [
    "# Code for Task 1\n",
    "\n",
    "def equalSets(A, B):\n",
    "    # YOUR CODE HERE\n",
    "    return len(A - B) == 0"
   ]
  },
  {
   "cell_type": "code",
   "execution_count": null,
   "metadata": {
    "deletable": false,
    "editable": false,
    "nbgrader": {
     "checksum": "b772c6d99cc0c71ee16a741af76a2ce4",
     "grade": true,
     "grade_id": "cell-2f8a7f368c5330ed",
     "locked": true,
     "points": 2,
     "schema_version": 1,
     "solution": false
    }
   },
   "outputs": [],
   "source": [
    "A={1,2}\n",
    "B={2,1}\n",
    "assert equalSets(A, B) == True"
   ]
  },
  {
   "cell_type": "markdown",
   "metadata": {
    "deletable": false,
    "editable": false,
    "nbgrader": {
     "checksum": "6813b2721aa6ce0be8455479d9271b71",
     "grade": false,
     "grade_id": "cell-6165cff320081215",
     "locked": true,
     "schema_version": 1,
     "solution": false
    }
   },
   "source": [
    "<span class=\"task\">Task 2</span>: In the code cell below, complete the function `uniqueWords` which returns a set containing all the distinct words that appear in the string `sentence`. `sentence` contains (possibly repeated) words separated by whitespaces.\n",
    "\n",
    "For example, *uniqueWords(\"good good study day day up\")* returns *{\"good\", \"study\", \"day\", \"up\"}*.\n",
    "\n",
    "*Note*:\n",
    "* It is okay if your set is printed in a different order compared to the sample, because order does not matter in a set!\n",
    "* Check the [split() method](https://www.programiz.com/python-programming/methods/string/split) of a `string` data type which divide a sentence into words."
   ]
  },
  {
   "cell_type": "code",
   "execution_count": null,
   "metadata": {
    "deletable": false,
    "nbgrader": {
     "checksum": "9dd6c6c087de7554110c7394d27a0373",
     "grade": false,
     "grade_id": "cell-9e6f5189017e7ec6",
     "locked": false,
     "schema_version": 1,
     "solution": true
    }
   },
   "outputs": [],
   "source": [
    "# Code for Task 2\n",
    "\n",
    "def uniqueWords(sentence):\n",
    "    # YOUR CODE HERE\n",
    "    return set(sentence.split(\" \"))"
   ]
  },
  {
   "cell_type": "code",
   "execution_count": null,
   "metadata": {
    "deletable": false,
    "editable": false,
    "nbgrader": {
     "checksum": "4ccd8ced1f0fcfcf9569e8ed4ee19283",
     "grade": true,
     "grade_id": "cell-83442e8000ebef8d",
     "locked": true,
     "points": 3,
     "schema_version": 1,
     "solution": false
    }
   },
   "outputs": [],
   "source": [
    "assert uniqueWords(\"good good study day day up\") == {'day', 'good', 'study', 'up'}\n"
   ]
  },
  {
   "cell_type": "markdown",
   "metadata": {
    "deletable": false,
    "editable": false,
    "nbgrader": {
     "checksum": "da2752c9e0e7577d9378836244df6142",
     "grade": false,
     "grade_id": "cell-7e4e1ddd4c9bc541",
     "locked": true,
     "schema_version": 1,
     "solution": false
    }
   },
   "source": [
    "<span class=\"task\">Task 3:</span>: In the code cell below, complete the function `heavyOverlap` which accepts two sets, `A` and `B`, as parameters. The function returns `True` if at least half of the items in `A` appear in `B`, and `False` otherwise.\n",
    "\n",
    "For example, if *A = {1, 2, 3}* and *B = {2, 3, 4, 5, 6, 7, 8}*, *heavyOverlap(A, B)* returns `True` because 2 out of the 3 items in `A` appear in `B`, which is more than half. However, *heavyOverlap(B, A)* returns `False`."
   ]
  },
  {
   "cell_type": "code",
   "execution_count": 5,
   "metadata": {
    "deletable": false,
    "nbgrader": {
     "checksum": "a6cc0c04f77651b5463a92b77d8293df",
     "grade": false,
     "grade_id": "cell-59a8ee35800cf20b",
     "locked": false,
     "schema_version": 1,
     "solution": true
    }
   },
   "outputs": [
    {
     "data": {
      "text/plain": [
       "True"
      ]
     },
     "execution_count": 5,
     "metadata": {},
     "output_type": "execute_result"
    }
   ],
   "source": [
    "# Code for Task 3\n",
    "\n",
    "def heavyOverlap(A, B):\n",
    "    # YOUR CODE HERE\n",
    "    return round(len(A) / 2) <= len(A & B) "
   ]
  },
  {
   "cell_type": "code",
   "execution_count": null,
   "metadata": {
    "deletable": false,
    "editable": false,
    "nbgrader": {
     "checksum": "dd9fec63867c85fd94f03dea39637a85",
     "grade": true,
     "grade_id": "cell-69b359897b49ad76",
     "locked": true,
     "points": 2,
     "schema_version": 1,
     "solution": false
    }
   },
   "outputs": [],
   "source": [
    "A = {1, 2, 3}\n",
    "B = {2, 3, 4, 5, 6, 7, 8}\n",
    "assert heavyOverlap(A, B) == True\n",
    "\n"
   ]
  },
  {
   "cell_type": "markdown",
   "metadata": {
    "deletable": false,
    "editable": false,
    "nbgrader": {
     "checksum": "74acfa36579211371eedb84598b08a01",
     "grade": false,
     "grade_id": "cell-203a3b25d0c65980",
     "locked": true,
     "schema_version": 1,
     "solution": false
    }
   },
   "source": [
    "<span class=\"task\">Task 4:</span>: In the code cell below, complete the function `objectAttribute` which accepts a parameter, `obj`, of immutable data type. The function returns a set containing three piece of attributes of `obj`:\n",
    "\n",
    "* the *id*\n",
    "* the data type\n",
    "* the value\n",
    "\n",
    "For example, *objectAttribute(5)* may return *{1967550048, 5, int}* while *objectAttribute((1, 32))* may return *{(1, 32), 1939399570056, tuple}*.\n",
    "\n",
    "*Note*: The id depends on the running of the program."
   ]
  },
  {
   "cell_type": "code",
   "execution_count": null,
   "metadata": {
    "deletable": false,
    "nbgrader": {
     "checksum": "8db8afa96f1fc4e0e3a41ba474e594c2",
     "grade": true,
     "grade_id": "cell-585e7a6d492c6e84",
     "locked": false,
     "points": 3,
     "schema_version": 1,
     "solution": true
    }
   },
   "outputs": [],
   "source": [
    "# Code for Task 4\n",
    "\n",
    "def objectAttribute(obj):\n",
    "    # YOUR CODE HERE\n",
    "    attr = set({})\n",
    "    attr.add(obj)\n",
    "    attr.add(id(obj))\n",
    "    attr.add(type(obj))\n",
    "    return attr"
   ]
  },
  {
   "cell_type": "code",
   "execution_count": null,
   "metadata": {
    "deletable": false,
    "editable": false,
    "nbgrader": {
     "checksum": "4043ffa4e496be45062d3fd7bb1708c9",
     "grade": false,
     "grade_id": "cell-f2ba915e7b80cd08",
     "locked": true,
     "schema_version": 1,
     "solution": false
    }
   },
   "outputs": [],
   "source": [
    "objectAttribute((10, 302))\n"
   ]
  },
  {
   "cell_type": "markdown",
   "metadata": {},
   "source": [
    "## Self Test\n",
    "\n",
    "Take the quiz on [Programiz](https://www.programiz.com/python-programming/quiz/native-data-types/takehttps://www.programiz.com/python-programming/quiz/decision-making/take/) on the topic of lists, tuples and sets. You may skip the last two questions.\n"
   ]
  }
 ],
 "metadata": {
  "kernelspec": {
   "display_name": "Python 3",
   "language": "python",
   "name": "python3"
  },
  "language_info": {
   "codemirror_mode": {
    "name": "ipython",
    "version": 3
   },
   "file_extension": ".py",
   "mimetype": "text/x-python",
   "name": "python",
   "nbconvert_exporter": "python",
   "pygments_lexer": "ipython3",
   "version": "3.6.4"
  }
 },
 "nbformat": 4,
 "nbformat_minor": 2
}
