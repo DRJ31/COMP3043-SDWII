{
 "cells": [
  {
   "cell_type": "markdown",
   "metadata": {},
   "source": [
    "# Python Basics\n",
    "\n",
    "*<font color=\"grey\">Dr. Dyce Jing ZHAO<br>\n",
    "Computer Science Programme,<br>\n",
    "BNU-HKBU United International College</font>*\n",
    "\n",
    "We have learnt the **C programming language** in the last semester and, now, we are going to introduce Python  by listing their **similarities** and **differences**.\n",
    "\n",
    "*Note: Only the **vital** differences are listed. More details will be introduced in later chapters.*\n",
    "\n"
   ]
  },
  {
   "cell_type": "markdown",
   "metadata": {},
   "source": [
    "## Mode of Programming\n",
    "\n",
    "### Before running a program, a C programmer has to\n",
    "* write the complete code\n",
    "* compile the code\n",
    "* and generate an executable file\n",
    "\n",
    "\n",
    "### Python offers two modes of programming\n",
    "\n",
    "* **Interactive Mode**: As soon as you input a statement, it is executed.\n",
    "\n",
    "    * <span class=\"task\">Task 1</span>: follow the intructions and run a \"hello world\" example in the Interactive Mode.  \n",
    "    \n",
    "        1. Start a *Command Prompt* and input \"python\". This invokes the interpreter and brings up this:        \n",
    "        ![](img/ch1.cmd.png)\n",
    "        1. Input the following statements in the prompt and observe how they are executed.\n",
    "        \n",
    "        ```python\n",
    "greeting = \"hello\"\n",
    "name = \"world\"\n",
    "print(greeting, name)\n",
    "name = \"Python\"\n",
    "print(greeting, name)\n",
    "```\n",
    "        1. Input exit() to exit programming.\n",
    "\n",
    "    * Question: When would you use this mode?\n",
    "\n",
    "* **Script Mode**: You write the complete code and run it.\n",
    "\n",
    "    * <span class=\"task\">Task 2</span>: follow the intructions and run the \"hello world\" example in the Script Mode.\n",
    "    \n",
    "        1. Input the same Python statements as in Task 1 into a file named \"hello.py\". *Note: All Python files have the extension **.py***.        \n",
    "        1. In the Command Prompt, input the following command to run the Python script.\n",
    "        \n",
    "        ```python hello.py```\n",
    "        \n",
    "         *Note: Know well the location of your file.*\n",
    "         \n",
    "* **\"Class Exercise Mode\"**: The Jupyter project offers online interpretation of Python. You can write Python code in a code cell and run it by hitting **\"Ctrl+Enter\"**.\n",
    "\n",
    "    *Note: This is **NOT** a standard programming mode.*\n",
    "    \n",
    "    * <span class=\"task\">Task 3</span>: In the code cell below, write the Python code which prints the result of `1234*4321`."
   ]
  },
  {
   "cell_type": "code",
   "execution_count": 1,
   "metadata": {},
   "outputs": [
    {
     "name": "stdout",
     "output_type": "stream",
     "text": [
      "5332114\n"
     ]
    }
   ],
   "source": [
    "# Code for Task 3\n",
    "print(1234 * 4321)\n"
   ]
  },
  {
   "cell_type": "markdown",
   "metadata": {},
   "source": [
    "## Basic Syntax\n",
    "\n",
    "### Some Obvious Differences and Similarities with C ...\n",
    "\n",
    "* In Python, there is no `main()` function.\n",
    "* In Python, a statement does not end with a semicolon (;).\n",
    "* In Python, a comment starts with a sharp (#). A Python comment is always single-lined.\n",
    "* Most operators in Python are the same as in C.\n",
    "\n",
    "### Identifiers and Variables\n",
    "\n",
    "* The naming of identifiers is exactly the same as in C.\n",
    "* In Python, you **don't have to declare** a variable before using it.\n",
    "* In Python, a variable is more like a **reference** and one variable can refer to **any data type**.\n",
    "\n",
    "The following assignments of variables are all valid.\n",
    "\n",
    "```python\n",
    "a = 1.2\n",
    "a = \"Daisy\"\n",
    "\n",
    "a, b = \"Hello\", \"World\"\n",
    "# a is \"Hello\" and b is \"World\"\n",
    "\n",
    "a = b = [1,2,3]\n",
    "# a and b are both [1,2,3]\n",
    "```\n",
    "\n",
    "<span class=\"task\">Task 4</span>: In the code cell below, write the two assignments so that the first `print(x)` prints your name, and the second `print(x)` prints the total age of your family members."
   ]
  },
  {
   "cell_type": "code",
   "execution_count": 2,
   "metadata": {},
   "outputs": [
    {
     "name": "stdout",
     "output_type": "stream",
     "text": [
      "Jack\n",
      "116\n"
     ]
    }
   ],
   "source": [
    "#Insert the first assignment here\n",
    "x = \"Jack\"\n",
    "print(x)\n",
    "#Insert the second assignment here\n",
    "thisYear = 2018\n",
    "dad = thisYear - 1967\n",
    "mum = thisYear - 1973\n",
    "me = thisYear - 1998\n",
    "x = dad + mum + me\n",
    "print(x)"
   ]
  },
  {
   "cell_type": "markdown",
   "metadata": {},
   "source": [
    "### Quotation\n",
    "\n",
    "* You can enclose strings using single ('), double (\") or triple (''') quotes.\n",
    "* There is no difference between single and double quotes.\n",
    "* Triple quotes can denote a string across multiple lines.\n",
    "\n",
    "    ```python\n",
    "# All the following are legal\n",
    "greeting = 'Morning'\n",
    "greeting = \"Morning\"\n",
    "greeting = '''Morning Sir,\n",
    "May I help you?'''\n",
    "```\n",
    "\n",
    "<span class=\"task\">Task 5</span>: In the cell below, write the Python code which prints: `Never say \"never\".`"
   ]
  },
  {
   "cell_type": "code",
   "execution_count": 3,
   "metadata": {},
   "outputs": [
    {
     "name": "stdout",
     "output_type": "stream",
     "text": [
      "Never say \"never\"\n"
     ]
    }
   ],
   "source": [
    "# Code for Task 5\n",
    "sentence = '''Never say \"never\"'''\n",
    "print(sentence)"
   ]
  },
  {
   "cell_type": "markdown",
   "metadata": {},
   "source": [
    "### Reserved Words\n",
    "\n",
    "Python has a smaller set of keywords than C does. All the python keywords, as shown below, contain only lowercase letters.\n",
    "\n",
    "||||||\n",
    "|:---:|:---:|:---:|:---:|:---: |:---: |\n",
    "| and | exec | not | as | finally | or | assert |\n",
    "| for | pass | break |from | print | class | global |\n",
    "| raise | continue | if | return | def | import |try |\n",
    "| del | in | while | elif |is | with | else |\n",
    "| lambda | yield |except ||||||\n",
    "\n",
    "<span class=\"task\">Task 6</span>: We don't have this keyword \"**is**\" in C. What is it? Search on the internet and, in the cell below, write some Python code which uses \"is\"."
   ]
  },
  {
   "cell_type": "code",
   "execution_count": 6,
   "metadata": {},
   "outputs": [
    {
     "name": "stdout",
     "output_type": "stream",
     "text": [
      "True\n",
      "True\n"
     ]
    }
   ],
   "source": [
    "# Code for Task 6\n",
    "class Book:\n",
    "    def __init__(self, name, price):\n",
    "        self.name = name\n",
    "        self.price = price\n",
    "        \n",
    "book1 = Book(\"Nisekoi\", 233)\n",
    "book2 = Book(\"Nisekoi\", 233)\n",
    "print(book1.name == book2.name)\n",
    "print(book1.name is book2.name)"
   ]
  },
  {
   "cell_type": "markdown",
   "metadata": {},
   "source": [
    "### Lines and Indentation\n",
    "\n",
    "In Python, end of a statement is marked by a newline character (no semicolon!). But we can write **a single statement over multiple lines** with the line continuation character (\\\\). For example:\n",
    "\n",
    "```python\n",
    "# use \"\\\" to divide one statement over multiple lines\n",
    "a = 1 + 2 + 3 + \\\n",
    "    4 + 5 + 6 + \\\n",
    "    7 + 8 + 9```\n",
    "\n",
    "Further, line continuation is implied inside parentheses (()), brackets ([]) and braces ({}). In the following example, the line continuation character can be omitted.\n",
    "\n",
    "```python\n",
    "print(\"Hello\",\n",
    "      \"World\")\n",
    "gender = [\"female\",\n",
    "         \"male\"]```\n",
    "         \n",
    "\n",
    "If you want to put multiple statements in a single line, seperate them using semicolons (;).\n",
    "\n",
    "```python\n",
    "a = 1; b = 2; c = 3```\n",
    "\n",
    "Python does not use braces ({}) to indicate blocks of code. Code blocks are denoted by line indentation and this is rigidly enforced. ***Wrong indentation will cause error!***\n",
    "\n",
    "A code block starts with indentation and ends with the first unindented line. \n",
    "Generally *four whitespaces* are used for indentation. In a Jupyter notebook, you may press \"tab\" to input four whitespaces."
   ]
  },
  {
   "cell_type": "code",
   "execution_count": null,
   "metadata": {},
   "outputs": [],
   "source": [
    "# Example of correct indentation\n",
    "\n",
    "for i in range(1,11):\n",
    "    print(i)\n",
    "    if i == 5:\n",
    "        print(\"5 is enough.\")\n",
    "        break\n",
    "        \n",
    "print(\"Good bye.\")"
   ]
  },
  {
   "cell_type": "markdown",
   "metadata": {},
   "source": [
    "<span class=\"task\">Task 7</span>: The following code contains multiple indentation errors. Fix them and observe what the program does."
   ]
  },
  {
   "cell_type": "code",
   "execution_count": 7,
   "metadata": {},
   "outputs": [
    {
     "name": "stdout",
     "output_type": "stream",
     "text": [
      "0! = 1\n",
      "1! = 1\n",
      "2! = 2\n",
      "3! = 6\n",
      "4! = 24\n"
     ]
    }
   ],
   "source": [
    "# Code for Task 7\n",
    "\n",
    "def fact(j):\n",
    "    sum = 0\n",
    "    if j == 0:\n",
    "        sum = 1\n",
    "    else:\n",
    "        sum = j * fact(j - 1)\n",
    "    return sum\n",
    " \n",
    "for i in range(5):\n",
    "    print ('%d! = %d' % (i,fact(i)))"
   ]
  },
  {
   "cell_type": "markdown",
   "metadata": {},
   "source": [
    "## Basic IO\n",
    "\n",
    "Till now, we have used the `print()` function for *output* for plenty of times. For *input*, we have the `input()` function, and its syntax is:\n",
    "```\n",
    "input([prompt])\n",
    "```\n",
    "\n",
    "`prompt` is a string which can be printed on the screen. This parameter is *optional*. Below is an example."
   ]
  },
  {
   "cell_type": "code",
   "execution_count": null,
   "metadata": {},
   "outputs": [],
   "source": [
    "name = input(\"What is your name? \")\n",
    "print(name, \"is a good name :)\")"
   ]
  },
  {
   "cell_type": "markdown",
   "metadata": {},
   "source": [
    "The returned value for `input()` is always a string, but you can use functions such as `int()` or `float()` to convert it to other data types. The following shows the reading of a float."
   ]
  },
  {
   "cell_type": "code",
   "execution_count": null,
   "metadata": {},
   "outputs": [],
   "source": [
    "# Read in a float and display its squared power\n",
    "\n",
    "v = input(\"Please input a float: \")\n",
    "v = float(v)\n",
    "print(\"%f * %f = %f\" % (v, v, v*v))"
   ]
  },
  {
   "cell_type": "markdown",
   "metadata": {},
   "source": [
    "<span class=\"task\">Task 8</span>: Write the code which\n",
    "\n",
    "* Requires the user to input a positive integer, $i$\n",
    "* Prints all the positive integers which divides $i$."
   ]
  },
  {
   "cell_type": "code",
   "execution_count": null,
   "metadata": {},
   "outputs": [],
   "source": [
    "# Code for Task 8\n",
    "while True:\n",
    "    i = int(input(\"Enter a positive integer i: \"))\n",
    "    if i > 0:\n",
    "        break;\n",
    "    print(\"Please input a positive integer!\")\n",
    "\n",
    "for j in range(1, i):\n",
    "    if i % j == 0:\n",
    "        print(j, end=\" \")\n",
    "    \n",
    "print(i)"
   ]
  },
  {
   "cell_type": "markdown",
   "metadata": {},
   "source": [
    "<span class=\"task\">Tassk 9</span>: Write the Python code which reads a positive integer, $n$, and draw a triangle of $n$ lines. For example, if $n=5$,  the triangle should be like this:\n",
    "```\n",
    "    *\n",
    "   ***\n",
    "  *****\n",
    " ********\n",
    "**********\n",
    "```"
   ]
  },
  {
   "cell_type": "code",
   "execution_count": 14,
   "metadata": {},
   "outputs": [
    {
     "name": "stdout",
     "output_type": "stream",
     "text": [
      "Enter a positive integer: 5\n",
      "     *\n",
      "    ***\n",
      "   *****\n",
      "  *******\n",
      " *********\n"
     ]
    }
   ],
   "source": [
    "# Code for Task 9\n",
    "while True:\n",
    "    n = int(input(\"Enter a positive integer: \"))\n",
    "    if n > 0:\n",
    "        break\n",
    "    print(\"Please enter a positive integer!\")\n",
    "for i in range(n):\n",
    "    for j in range(n - i):\n",
    "        print(end=\" \")\n",
    "    for j in range(2 * i + 1):\n",
    "        print(\"*\", end=\"\")\n",
    "    print()\n"
   ]
  },
  {
   "cell_type": "markdown",
   "metadata": {},
   "source": [
    "<span class=\"task\">Task 10</span>: Write the Python code which reads in a positive integer and decide whether it is a prefect square. *A perfect square is an integer which is the multiplication of two equal integers.*"
   ]
  },
  {
   "cell_type": "code",
   "execution_count": null,
   "metadata": {},
   "outputs": [],
   "source": [
    "# Code for Task 10\n",
    "while True:\n",
    "    number = int(input(\"Enter a positive integer: \"))\n",
    "    if number > 0:\n",
    "        break\n",
    "    print(\"Pleae enter a positive integer!\")\n",
    "    \n",
    "for i in range(1, number):\n",
    "    if i ** 2 > number:\n",
    "        print(\"{} is not a perfect square.\".format(number))\n",
    "        break\n",
    "    elif i ** 2 == number:\n",
    "        print(\"{} is a perfect square.\".format(number))\n",
    "        break"
   ]
  }
 ],
 "metadata": {
  "kernelspec": {
   "display_name": "Python 3",
   "language": "python",
   "name": "python3"
  },
  "language_info": {
   "codemirror_mode": {
    "name": "ipython",
    "version": 3
   },
   "file_extension": ".py",
   "mimetype": "text/x-python",
   "name": "python",
   "nbconvert_exporter": "python",
   "pygments_lexer": "ipython3",
   "version": "3.6.4"
  }
 },
 "nbformat": 4,
 "nbformat_minor": 2
}
