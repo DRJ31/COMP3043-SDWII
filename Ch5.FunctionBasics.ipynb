{
 "cells": [
  {
   "cell_type": "markdown",
   "metadata": {},
   "source": [
    "Before you turn this problem in, make sure everything runs as expected. First, **restart the kernel** (in the menubar, select Kernel$\\rightarrow$Restart) and then **run all cells** (in the menubar, select Cell$\\rightarrow$Run All).\n",
    "\n",
    "If you find your kernel dead, please stop the process first. And then, restart your server.\n",
    "\n",
    "Please stop your server before you log out.\n",
    "\n",
    "Make sure you fill in any place that says `YOUR CODE HERE` or \"YOUR ANSWER HERE\", as well as your name and collaborators below:"
   ]
  },
  {
   "cell_type": "code",
   "execution_count": null,
   "metadata": {},
   "outputs": [],
   "source": [
    "NAME = \"Jack Deng\"\n",
    "ID = \"l630003010\""
   ]
  },
  {
   "cell_type": "markdown",
   "metadata": {},
   "source": [
    "---"
   ]
  },
  {
   "cell_type": "markdown",
   "metadata": {},
   "source": [
    "# Function Basics\n",
    "\n",
    "*<font color=\"grey\">Dr. Dyce Jing ZHAO<br>\n",
    "Computer Science Programme,<br>\n",
    "BNU-HKBU United International College</font>*\n",
    "\n",
    "In this chapter, we are going to learn the basic syntax of *Python functions*. Functions help break our program into smaller and modular chunks. As our program grows larger and larger, functions make it more organized and manageable. It is a good habit to define and use functions. More details will be introduced in later chapters."
   ]
  },
  {
   "cell_type": "markdown",
   "metadata": {},
   "source": [
    "## Syntax of Function\n",
    "\n",
    "The syntax of function is\n",
    "\n",
    "```python\n",
    "def function_name(parameters):\n",
    "\t\"\"\"docstring\"\"\"\n",
    "\tstatement(s)\n",
    "```\n",
    "\n",
    "Below is a list of differences between a Python function and a C function:\n",
    "* The keyword `def` is used to define a function in Python.\n",
    "* Lines and indentation are used to indicate the function block, i.e., no bracets ({}).\n",
    "* Python does not define the *return type*, and, in the body of a function, the `return` statement is optional.\n",
    "* Python function has an optional documentation string (docstring) which describes what the function does.\n",
    "\n",
    "## Function Example\n",
    "\n",
    "A function is not executed until it is called. The following code defines and calls a function which does not return a value."
   ]
  },
  {
   "cell_type": "code",
   "execution_count": null,
   "metadata": {},
   "outputs": [],
   "source": [
    "# function greet(name) prints greeting message to name\n",
    "def greet(name):\n",
    "    \"\"\"This function greets to\n",
    "    the person passed in as\n",
    "    parameter\"\"\"\n",
    "    print(\"Hello, \" + name + \". Nice to meet you!\")\n",
    "    \n",
    "# function greet(name) is called\n",
    "greet(input(\"What is your name? \"))"
   ]
  },
  {
   "cell_type": "markdown",
   "metadata": {},
   "source": [
    "And the following code defines and calls a function which returns a string."
   ]
  },
  {
   "cell_type": "code",
   "execution_count": null,
   "metadata": {},
   "outputs": [],
   "source": [
    "# function greet(name) returns a greeting message to name\n",
    "def greet(name):\n",
    "    \"\"\"This function returns a\n",
    "    greeting message to the person\n",
    "     passed in as parameter\"\"\"\n",
    "    return \"Hello, \" + name + \". Nice to meet you!\"\n",
    "\n",
    "# function greet(name) is called\n",
    "msg = greet(input(\"What is your name? \"))\n",
    "print(msg)"
   ]
  },
  {
   "cell_type": "markdown",
   "metadata": {},
   "source": [
    "## Docstring\n",
    "\n",
    "The first string after the function header is called the *docstring* and is short for documentation string. It is used to explain in brief, what a function does.\n",
    "\n",
    "Although optional, documentation is a good programming practice. In both of the two examples above, we have docstrings immediately below the function header. We generally use triple quotes so that docstring can extend up to multiple lines. This string is available to us as `__doc__` attribute of the function.\n",
    "\n",
    "For example:\n",
    "\n",
    "Try running the following into the Python shell to see the output."
   ]
  },
  {
   "cell_type": "code",
   "execution_count": null,
   "metadata": {},
   "outputs": [],
   "source": [
    "def greet(name):\n",
    "    \"\"\"This function returns a\n",
    "    greeting message to the person\n",
    "     passed in as parameter\"\"\"\n",
    "    return \"Hello, \" + name + \". Nice to meet you!\"\n",
    "\n",
    "print(greet.__doc__)"
   ]
  },
  {
   "cell_type": "markdown",
   "metadata": {},
   "source": [
    "## The return statement\n",
    "\n",
    "The `return` statement is used to exit a function and go back to the place from where it was called. The syntax of return is:\n",
    "\n",
    "```python\n",
    "return [expression_list]\n",
    "```\n",
    "\n",
    "Python function can return multiple values which are seperated by comma (,), but for now let's stay with returning a single value. If there is no expression in the statement or the return statement itself is not present inside a function, then the function will return the `None` object. For example, the following code "
   ]
  },
  {
   "cell_type": "code",
   "execution_count": null,
   "metadata": {},
   "outputs": [],
   "source": [
    "# function didNothhing() does nothing\n",
    "def didNothing():\n",
    "    \"\"\"This function did nothing\"\"\"\n",
    "    pass\n",
    "    \n",
    "# when called, function didNothhing() returns None\n",
    "print(didNothing())"
   ]
  },
  {
   "cell_type": "markdown",
   "metadata": {
    "deletable": false,
    "editable": false,
    "nbgrader": {
     "checksum": "9e7d2a0ef797f51ac0206f0851155cd4",
     "grade": false,
     "grade_id": "cell-fedf27018a976116",
     "locked": true,
     "schema_version": 1,
     "solution": false
    }
   },
   "source": [
    "## Tasks\n",
    "\n",
    "<span class=\"task\">Task 1</span>: In the code cell below, complete the function `absv`  which returns the absolute value of `num`."
   ]
  },
  {
   "cell_type": "code",
   "execution_count": null,
   "metadata": {
    "deletable": false,
    "nbgrader": {
     "checksum": "7d472bc4d900e5d8e55763b69dea3c1a",
     "grade": false,
     "grade_id": "cell-f580fe52c6dc2e8f",
     "locked": false,
     "schema_version": 1,
     "solution": true
    }
   },
   "outputs": [],
   "source": [
    "# Code for Task 1\n",
    "def absv(num):\n",
    "    # YOUR CODE HERE\n",
    "    return num if num > 0 else -num"
   ]
  },
  {
   "cell_type": "code",
   "execution_count": null,
   "metadata": {
    "deletable": false,
    "editable": false,
    "nbgrader": {
     "checksum": "84a1d2b7ce511243360993837c8cd387",
     "grade": true,
     "grade_id": "cell-b4bc4b139411d03c",
     "locked": true,
     "points": 3,
     "schema_version": 1,
     "solution": false
    }
   },
   "outputs": [],
   "source": [
    "assert absv(-10)== 10\n",
    "assert absv(20) == 20"
   ]
  },
  {
   "cell_type": "markdown",
   "metadata": {
    "deletable": false,
    "editable": false,
    "nbgrader": {
     "checksum": "8886c129e71742b8a0b0d85503cebd49",
     "grade": false,
     "grade_id": "cell-53a8283129204551",
     "locked": true,
     "schema_version": 1,
     "solution": false
    }
   },
   "source": [
    "<span class=\"task\">Task 2</span>: In the code cell below, complete the function  `gcd` which returns the greatest common divisor (GCD) of two natural numbers `x` and `y`."
   ]
  },
  {
   "cell_type": "code",
   "execution_count": null,
   "metadata": {
    "deletable": false,
    "nbgrader": {
     "checksum": "dd5a934d4921af49976f87dc54105587",
     "grade": false,
     "grade_id": "cell-6364763ce68863d9",
     "locked": false,
     "schema_version": 1,
     "solution": true
    }
   },
   "outputs": [],
   "source": [
    "# Code for Task 2\n",
    "def gcd(x, y):\n",
    "    # YOUR CODE HERE\n",
    "    if x < y:\n",
    "        x, y = y, x\n",
    "    if y == 0:\n",
    "        return x\n",
    "    return y if x % y == 0 else gcd(y, x % y)"
   ]
  },
  {
   "cell_type": "code",
   "execution_count": null,
   "metadata": {
    "deletable": false,
    "editable": false,
    "nbgrader": {
     "checksum": "7de07b7f1a6595de98424033a105f15e",
     "grade": true,
     "grade_id": "cell-7ff921dfcc8b1360",
     "locked": true,
     "points": 3,
     "schema_version": 1,
     "solution": false
    }
   },
   "outputs": [],
   "source": [
    "assert gcd(112,230) == 2\n",
    "assert gcd(11,220) == 11\n"
   ]
  },
  {
   "cell_type": "markdown",
   "metadata": {
    "deletable": false,
    "editable": false,
    "nbgrader": {
     "checksum": "9e500b3e7217181335cd967a7f6175eb",
     "grade": false,
     "grade_id": "cell-98f021ed66e988eb",
     "locked": true,
     "schema_version": 1,
     "solution": false
    }
   },
   "source": [
    "<span class=\"task\">Task 3</span>: In the code cell below, complete the function `checkPasswd` which checks whether the string `passwd` is a valid password or not. A password is valid if\n",
    "\n",
    "* It contains no less than 8 characters\n",
    "* It contains at least 1 number, 1 lower-case letter and 1 upper-case letter\n",
    "\n",
    "The function returns `True` if the `passwd` is valid and `False` otherwise.\n",
    "\n",
    "For example, `checkPasswd('aA12331222')` returns `True` while `checkPasswd('bbb1212121')` returns `False`."
   ]
  },
  {
   "cell_type": "code",
   "execution_count": null,
   "metadata": {
    "deletable": false,
    "nbgrader": {
     "checksum": "cf626b775ddd9548a31375234c6fe24a",
     "grade": false,
     "grade_id": "cell-5bfc51a9a469c38c",
     "locked": false,
     "schema_version": 1,
     "solution": true
    }
   },
   "outputs": [],
   "source": [
    "# Code for Task 3\n",
    "def checkPasswd(passwd):\n",
    "    # YOUR CODE HERE\n",
    "    hasUpper = False\n",
    "    hasLower = False\n",
    "    hasNumber = False\n",
    "    upperArr = [chr(i) for i in range(ord('A'), ord('Z') + 1)]\n",
    "    lowerArr = [chr(i) for i in range(ord('a'), ord('z') + 1)]\n",
    "    numArr = [str(i) for i in range(10)]\n",
    "    if (len(passwd) >= 8):\n",
    "        for char in passwd:\n",
    "            if char in upperArr:\n",
    "                hasUpper = True\n",
    "            if char in lowerArr:\n",
    "                hasLower = True\n",
    "            if char in numArr:\n",
    "                hasNumber = True\n",
    "                \n",
    "        return hasUpper and hasLower and hasNumber\n",
    "    return False"
   ]
  },
  {
   "cell_type": "code",
   "execution_count": null,
   "metadata": {
    "deletable": false,
    "editable": false,
    "nbgrader": {
     "checksum": "d31eb823d0bdc7d655852d2ee8f808e2",
     "grade": true,
     "grade_id": "cell-889e463a212e78b0",
     "locked": true,
     "points": 4,
     "schema_version": 1,
     "solution": false
    }
   },
   "outputs": [],
   "source": [
    "assert checkPasswd('aA12331222') == True\n",
    "assert checkPasswd('bbb1212121') == False"
   ]
  }
 ],
 "metadata": {
  "kernelspec": {
   "display_name": "Python 3",
   "language": "python",
   "name": "python3"
  },
  "language_info": {
   "codemirror_mode": {
    "name": "ipython",
    "version": 3
   },
   "file_extension": ".py",
   "mimetype": "text/x-python",
   "name": "python",
   "nbconvert_exporter": "python",
   "pygments_lexer": "ipython3",
   "version": "3.6.4"
  }
 },
 "nbformat": 4,
 "nbformat_minor": 2
}
