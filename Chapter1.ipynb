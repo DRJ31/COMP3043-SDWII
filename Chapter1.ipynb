{
 "cells": [
  {
   "cell_type": "code",
   "execution_count": 1,
   "metadata": {},
   "outputs": [
    {
     "name": "stdout",
     "output_type": "stream",
     "text": [
      "hello world\n",
      "hello Python\n"
     ]
    }
   ],
   "source": [
    "#Code for Task 2\n",
    "greeting = \"hello\"\n",
    "name = \"world\"\n",
    "print(greeting, name)\n",
    "name = \"Python\"\n",
    "print(greeting, name)"
   ]
  },
  {
   "cell_type": "code",
   "execution_count": 2,
   "metadata": {},
   "outputs": [
    {
     "name": "stdout",
     "output_type": "stream",
     "text": [
      "5332114\n"
     ]
    }
   ],
   "source": [
    "#Code for Task 3\n",
    "print(1234 * 4321)"
   ]
  },
  {
   "cell_type": "code",
   "execution_count": 3,
   "metadata": {},
   "outputs": [
    {
     "name": "stdout",
     "output_type": "stream",
     "text": [
      "Jack\n",
      "116\n"
     ]
    }
   ],
   "source": [
    "#Insert the first assignment here\n",
    "x = \"Jack\"\n",
    "print(x)\n",
    "#Insert the second assignment here\n",
    "ThisYear = 2018\n",
    "DadAge = ThisYear - 1967\n",
    "MomAge = ThisYear - 1973\n",
    "MyAge = ThisYear - 1998\n",
    "x = DadAge + MomAge + MyAge\n",
    "print(x)"
   ]
  },
  {
   "cell_type": "code",
   "execution_count": 4,
   "metadata": {},
   "outputs": [
    {
     "name": "stdout",
     "output_type": "stream",
     "text": [
      "Never say \"never\"\n"
     ]
    }
   ],
   "source": [
    "#Code for Task 5\n",
    "sentence = '''Never say \"never\"'''\n",
    "print(sentence)"
   ]
  },
  {
   "cell_type": "code",
   "execution_count": 9,
   "metadata": {},
   "outputs": [
    {
     "name": "stdout",
     "output_type": "stream",
     "text": [
      "True\n",
      "False\n"
     ]
    }
   ],
   "source": [
    "#Code for Task 6\n",
    "class Teacher:\n",
    "    def __init__(self, FirstName, LastName):\n",
    "        self.name = FirstName + \" \" + LastName\n",
    "eric = Teacher(\"Eric\", \"Tang\")\n",
    "Eric = Teacher(\"Eric\", \"Tang\")\n",
    "print(eric.name == Eric.name)\n",
    "print(eric.name is Eric.name)"
   ]
  },
  {
   "cell_type": "code",
   "execution_count": 12,
   "metadata": {},
   "outputs": [
    {
     "name": "stdout",
     "output_type": "stream",
     "text": [
      "0! = 1\n",
      "1! = 1\n",
      "2! = 2\n",
      "3! = 6\n",
      "4! = 24\n"
     ]
    }
   ],
   "source": [
    "#Code for Task 7\n",
    "def fact(j):\n",
    "    sum = 0\n",
    "    if j == 0:\n",
    "        sum = 1\n",
    "    else:\n",
    "        sum = j * fact(j - 1)\n",
    "    return sum;\n",
    "for i in range(5):\n",
    "    print(\"%d! = %d\" % (i, fact(i)))"
   ]
  },
  {
   "cell_type": "code",
   "execution_count": 3,
   "metadata": {},
   "outputs": [
    {
     "name": "stdout",
     "output_type": "stream",
     "text": [
      "Please input a positive number i: 10\n",
      "All the positive integers which divides i are: 1 2 5 10 "
     ]
    }
   ],
   "source": [
    "#Code for Task 8\n",
    "while True:\n",
    "    i = int(input(\"Please input a positive number i: \"))\n",
    "    if i > 0:\n",
    "        break\n",
    "print(\"All the positive integers which divides i are: \", end=\"\")\n",
    "for j in range(1, i + 1):\n",
    "    if i % j == 0:\n",
    "        print(j, end=\" \")"
   ]
  }
 ],
 "metadata": {
  "kernelspec": {
   "display_name": "Python 3",
   "language": "python",
   "name": "python3"
  },
  "language_info": {
   "codemirror_mode": {
    "name": "ipython",
    "version": 3
   },
   "file_extension": ".py",
   "mimetype": "text/x-python",
   "name": "python",
   "nbconvert_exporter": "python",
   "pygments_lexer": "ipython3",
   "version": "3.6.4"
  }
 },
 "nbformat": 4,
 "nbformat_minor": 2
}
