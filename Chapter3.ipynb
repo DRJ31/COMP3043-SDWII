{
 "cells": [
  {
   "cell_type": "code",
   "execution_count": 1,
   "metadata": {},
   "outputs": [
    {
     "name": "stdout",
     "output_type": "stream",
     "text": [
      "199728.7619047619\n"
     ]
    }
   ],
   "source": [
    "#Code for Task 1\n",
    "print((2 ** 22 )/ (3 * 7))"
   ]
  },
  {
   "cell_type": "code",
   "execution_count": 4,
   "metadata": {},
   "outputs": [
    {
     "name": "stdout",
     "output_type": "stream",
     "text": [
      "Please input two positive integers: 1 2\n",
      "The sum of 1 and 2 is: 3\n"
     ]
    }
   ],
   "source": [
    "#Code for Task 2\n",
    "i, j = list(map(int, input(\"Please input two positive integers: \").split(\" \")))\n",
    "if i > 0 and j > 0:\n",
    "    print(\"The sum of {} and {} is: {}\".format(i, j, i + j))\n",
    "else:\n",
    "    print(\"Invalid input!\")"
   ]
  }
 ],
 "metadata": {
  "kernelspec": {
   "display_name": "Python 3",
   "language": "python",
   "name": "python3"
  },
  "language_info": {
   "codemirror_mode": {
    "name": "ipython",
    "version": 3
   },
   "file_extension": ".py",
   "mimetype": "text/x-python",
   "name": "python",
   "nbconvert_exporter": "python",
   "pygments_lexer": "ipython3",
   "version": "3.6.4"
  }
 },
 "nbformat": 4,
 "nbformat_minor": 2
}
