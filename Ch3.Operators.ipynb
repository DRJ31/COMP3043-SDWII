{
 "cells": [
  {
   "cell_type": "markdown",
   "metadata": {},
   "source": [
    "Before you turn this problem in, make sure everything runs as expected. First, **restart the kernel** (in the menubar, select Kernel$\\rightarrow$Restart) and then **run all cells** (in the menubar, select Cell$\\rightarrow$Run All).\n",
    "\n",
    "If you find your kernel dead, please stop the process first. And then, restart your server.\n",
    "\n",
    "Please stop your server before you log out.\n",
    "\n",
    "Make sure you fill in any place that says `YOUR CODE HERE` or \"YOUR ANSWER HERE\", as well as your name and collaborators below:"
   ]
  },
  {
   "cell_type": "code",
   "execution_count": null,
   "metadata": {},
   "outputs": [],
   "source": [
    "NAME = \"Jack Deng\"\n",
    "ID = \"l630003010\""
   ]
  },
  {
   "cell_type": "markdown",
   "metadata": {},
   "source": [
    "---"
   ]
  },
  {
   "cell_type": "markdown",
   "metadata": {
    "deletable": false,
    "editable": false,
    "nbgrader": {
     "checksum": "b1f064dddfc097b9720d9afeca47a646",
     "grade": false,
     "grade_id": "cell-5de8a9f7806b73f5",
     "locked": true,
     "schema_version": 1,
     "solution": false
    }
   },
   "source": [
    "# Python Operators\n",
    "\n",
    "*<font color=\"grey\">Dr. Dyce Jing ZHAO<br>\n",
    "Computer Science Programme,<br>\n",
    "BNU-HKBU United International College</font>*\n",
    "\n",
    "In this chapter, we are going to learn the syntax of python operators. The introduction is done, again, by listing their differences and similarities with **C**."
   ]
  },
  {
   "cell_type": "markdown",
   "metadata": {
    "deletable": false,
    "editable": false,
    "nbgrader": {
     "checksum": "ca861e4cf3c75a432164b073b8a265ad",
     "grade": false,
     "grade_id": "cell-24e40473182254f6",
     "locked": true,
     "schema_version": 1,
     "solution": false
    }
   },
   "source": [
    "## Arithmetic Operators\n",
    "\n",
    "The arithmetic operators of Python are listed in the following table. Note that, compared to C, the ones with a different syntax are highlighted.\n",
    "\n",
    "\n",
    "| Operator | Meaning | Example |\n",
    "| ---|---|---|\n",
    "| + | Add two operands or unary plus | x + y +2 |\n",
    "| - | Subtract right operand from the left or unary minus | x - y -2 |\n",
    "| * | Multiply two operands | x * y |\n",
    "| <span class=\"hl\">/</span> | <span class=\"hl\">Divide left operand by the right one (always results into float)</span> | <span class=\"hl\">x / y<font> |\n",
    "| % | Modulus - remainder of the division of left operand by the right | x % y |\n",
    "| <span class=\"hl\">//</span> | <span class=\"hl\">Floor division - division that results into whole number adjusted to the left in the number line</span> | <span class=\"hl\">x // y</span> |\n",
    "| <span class=\"hl\">**</span> | <span class=\"hl\">Exponent - left operand raised to the power of right</span> | <span class=\"hl\">x**y</span> |\n",
    "    \n",
    "Check the following example and observe how they behave."
   ]
  },
  {
   "cell_type": "markdown",
   "metadata": {
    "deletable": false,
    "editable": false,
    "nbgrader": {
     "checksum": "6589109ef6b9febcd2f577a4feba1d73",
     "grade": false,
     "grade_id": "cell-663b1520bc08232b",
     "locked": true,
     "schema_version": 1,
     "solution": false
    }
   },
   "source": [
    "<span class=\"task\">Task 1</span>: In the code cell below, write the Python code which prints the value of: $\\lfloor\\frac{2^{22}}{3*7}\\rfloor$"
   ]
  },
  {
   "cell_type": "code",
   "execution_count": 1,
   "metadata": {
    "deletable": false,
    "nbgrader": {
     "checksum": "70b7b592a90ca976da2766a486440030",
     "grade": true,
     "grade_id": "cell-66e2105b28925ccb",
     "locked": false,
     "points": 4,
     "schema_version": 1,
     "solution": true
    }
   },
   "outputs": [
    {
     "name": "stdout",
     "output_type": "stream",
     "text": [
      "199728.7619047619\n"
     ]
    }
   ],
   "source": [
    "# YOUR CODE HERE\n",
    "print(2 ** 22 / (3 * 7))"
   ]
  },
  {
   "cell_type": "markdown",
   "metadata": {
    "deletable": false,
    "editable": false,
    "nbgrader": {
     "checksum": "99a5cdfe2ed674e51f9ef7aeb0641fc6",
     "grade": false,
     "grade_id": "cell-25f03c9df1e5cdde",
     "locked": true,
     "schema_version": 1,
     "solution": false
    }
   },
   "source": [
    "## Comparison Operators\n",
    "\n",
    "They are exactly the same as those in C!\n",
    "\n",
    "|||||||\n",
    "|---|---|---|---|---|---|\n",
    "| > | < | == | != | >= | <= |\n",
    "\n",
    "\n",
    "## Logical Operators\n",
    "\n",
    "The names are different but their syntax is the same as in C.\n",
    "\n",
    "|Python Operator |C Equivalent |\n",
    "|---|---|\n",
    "| and | && |\n",
    "| or | &#124;&#124; |\n",
    "| not | ~ |\n",
    "\n",
    "## Bitwise Operators\n",
    "\n",
    "They are exactly the same as those in C! In the table below: Let ``x = 10`` (0000 1010 in binary) and ``y = 4`` (0000 0100 in binary)\n",
    "\n",
    "| Operator | Meaning | Example |\n",
    "|---|---|---|\n",
    "| & | Bitwise AND | x& y = 0 (0000 0000) |\n",
    "| &#124; | Bitwise OR | x &#124; y = 14 (0000 1110) |\n",
    "| ~ | Bitwise NOT | ~x = -11 (1111 0101) |\n",
    "| ^ | Bitwise XOR | x ^ y = 14 (0000 1110) |\n",
    "| >> | Bitwise right shift | x>> 2 = 2 (0000 0010) |\n",
    "| << | Bitwise left shift | x<< 2 = 40 (0010 1000) |\n",
    "\n",
    "\n",
    "## Assignment Operators\n",
    "\n",
    "They are almost the same as those in C except that, in Python, there is **NO** ``++`` or ``--``.\n",
    "\n",
    "<span class=\"task\">Task 2</span>: Read the following C code:\n",
    "\n",
    "```c\n",
    "#include <stdio.h>\n",
    "\n",
    "void main(){\n",
    "\tint i, j;\n",
    "\tputs(\"Please input two positive integers:\");\n",
    "\tscanf(\"%d%d\", &i, &j);\n",
    "\tif(i>0 && j>0)\n",
    "\t\tprintf(\"The sum of %d and %d is: %d\\n\", i, j, i+j);\n",
    "\telse\n",
    "\t\tputs(\"Invalid input!\");\n",
    "}```\n",
    "\n",
    "Convert it to Python in the code cell below:"
   ]
  },
  {
   "cell_type": "code",
   "execution_count": null,
   "metadata": {
    "deletable": false,
    "nbgrader": {
     "checksum": "2d10e4b3e32e5736c09e390ff8242296",
     "grade": true,
     "grade_id": "cell-2902b6a1158cfda9",
     "locked": false,
     "points": 6,
     "schema_version": 1,
     "solution": true
    }
   },
   "outputs": [],
   "source": [
    "# YOUR CODE HERE\n",
    "i, j = list(map(int, input(\"Please input two positive integers: \").split(\" \")))[:2:]\n",
    "if i > 0 and j > 0:\n",
    "    print(\"The sum of {} and {} is: {}\".format(i, j, i + j))\n",
    "else:\n",
    "    print(\"Invalid input!\")"
   ]
  },
  {
   "cell_type": "markdown",
   "metadata": {
    "deletable": false,
    "editable": false,
    "nbgrader": {
     "checksum": "b4a1f8567ac14f57de5a65e1f11ae0bb",
     "grade": false,
     "grade_id": "cell-673c059f49367b63",
     "locked": true,
     "schema_version": 1,
     "solution": false
    }
   },
   "source": [
    "## Special Operators\n",
    "\n",
    "### Identity Operators\n",
    "\n",
    "``is`` and ``is not`` are the identity operators in Python. They are used to check if two values (or variables) are located on the same part of the memory. Two variables that are equal does not imply that they are identical.\n",
    "\n",
    "The following example shows the use of these two operators.\n"
   ]
  },
  {
   "cell_type": "code",
   "execution_count": null,
   "metadata": {},
   "outputs": [],
   "source": [
    "# Example of Identity Operators\n",
    "x = 2\n",
    "y = 2\n",
    "print(x is y)\n",
    "\n",
    "x = \"Hello\"\n",
    "y = \"Hello\"\n",
    "print(x is y)\n",
    "\n",
    "x = [1, 2]\n",
    "y = [1, 2]\n",
    "print(x is y)"
   ]
  },
  {
   "cell_type": "markdown",
   "metadata": {
    "deletable": false,
    "editable": false,
    "nbgrader": {
     "checksum": "8c3b4a9373e8fa0759aa0a4d0263fd69",
     "grade": false,
     "grade_id": "cell-84c2154883a28ffa",
     "locked": true,
     "schema_version": 1,
     "solution": false
    }
   },
   "source": [
    "In this example, when ``x`` and ``y`` are both integers or strings, if they are equal in value, they are identical. However, when ``x`` and ``y`` are of complex data types such as *list* (the last case), the situation is different. Since lists are mutable (can be changed), interpreter locates them separately in memory. Therefore the two lists are equal but not identical.\n",
    "\n",
    "The mutable data types will be introduced in later chapters."
   ]
  },
  {
   "cell_type": "markdown",
   "metadata": {
    "deletable": false,
    "editable": false,
    "nbgrader": {
     "checksum": "889f3e77148d935d95a3412d064cac82",
     "grade": false,
     "grade_id": "cell-2879766344f6b151",
     "locked": true,
     "schema_version": 1,
     "solution": false
    }
   },
   "source": [
    "### Membership operators\n",
    "\n",
    "``in`` and ``not in`` are the membership operators in Python. They will be introduced in later chapters.\n",
    "\n",
    "## Self Test\n",
    "\n",
    "Take a quiz on [Programiz](https://www.programiz.com/python-programming/quiz/introduction/take/) on Python introduction."
   ]
  }
 ],
 "metadata": {
  "kernelspec": {
   "display_name": "Python 3",
   "language": "python",
   "name": "python3"
  },
  "language_info": {
   "codemirror_mode": {
    "name": "ipython",
    "version": 3
   },
   "file_extension": ".py",
   "mimetype": "text/x-python",
   "name": "python",
   "nbconvert_exporter": "python",
   "pygments_lexer": "ipython3",
   "version": "3.6.4"
  }
 },
 "nbformat": 4,
 "nbformat_minor": 2
}
