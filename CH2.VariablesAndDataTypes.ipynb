{
 "cells": [
  {
   "cell_type": "markdown",
   "metadata": {},
   "source": [
    "# Objects and Variables\n",
    "\n",
    "*<font color=\"grey\">Dr. Dyce Jing ZHAO<br>\n",
    "Computer Science Programme,<br>\n",
    "BNU-HKBU United International College</font>*\n",
    "\n",
    "Python handles variables in a very different way than C does. In this chapter, we will explain what is going on in the memory when you make a variable assignment such as ``i=5``."
   ]
  },
  {
   "cell_type": "markdown",
   "metadata": {},
   "source": [
    "## Python Objects\n",
    "\n",
    "In Python, every piece of data, simple or complex, is an object with three attributes: **identity**, **type** and **value**. Let's use data ``5`` as an example.\n",
    "\n",
    "![object](img/ch2object.png)\n",
    "\n",
    "* **Identity**: Identity usually corresponds to the memory address of object ``5``. Python offers a built-in function ``id()`` which returns the identity of an object as an integer. For example, you can call ``id(5)`` to check the id of object ``5. The identity of an object is unchangeable. \n",
    "\n",
    "![](img/ch2id.png)\n",
    "\n",
    "* **Type**: The built-in function ``type()`` returns the type of an object. For example, the type of ``5`` is *int*. The type of an object is unchangeable, too.\n",
    "\n",
    "![](img/ch2type.png)\n",
    "\n",
    "* **Value**: The value of ``5`` is, of course, 5. In Python, there are two kinds of objects\n",
    "    * **immutabable objects** - the value of the object cannot be changed. Common immutable objects include\n",
    "        * int, float\n",
    "        * string\n",
    "        * tuple\n",
    "        * frozen set\n",
    "    * **mutable objects** - the value of the object can be changed. Common mutable objects include\n",
    "        * list\n",
    "        * dict\n",
    "        * set\n",
    "\n",
    "For now, we introduce only the data types that we are familiar with: int, float and string. All these three data types are *immutable*. For example, the value of a ``5`` object is always 5. The following table lists some C data types and their Python correspondence.\n",
    "\n",
    "| C | Python |\n",
    "|---|---|\n",
    "|int|int|\n",
    "|float|<span class=\"hl\">&#10060;</span>|\n",
    "| double |float|\n",
    "|char|<span class=\"hl\">&#10060;</span>|\n",
    "|char[]|string|\n",
    "|bool|bool|"
   ]
  },
  {
   "cell_type": "markdown",
   "metadata": {},
   "source": [
    "## Python Variables\n",
    "\n",
    "Let's use the following two pieces of code to illustrate how C and Python handle variables.\n",
    "\n",
    "\n",
    "```c\n",
    "// C assignments\n",
    "int i;\n",
    "i = 5;\n",
    "i = 2;\n",
    "i = 5;\n",
    "```\n",
    "\n",
    "```python\n",
    "# python assignments\n",
    "i = 5\n",
    "i = 2\n",
    "i = 5\n",
    "```\n",
    "\n",
    "* In C, when ``int i`` is declared, memory space is allocated and bind to  ``i``. Note that the relation between the memory space and the variable ``i`` is unchangeable. Therefore,\n",
    "    * **i = 5**: writes 5 into memory space associated to ``i``\n",
    "    * **i = 2**: writes 2 into memory space associated to ``i``. Thus the value in that memory space is updated to 2. \n",
    "    * **i = 5**: writes 5 into memory space associated to ``i``. Thus the value in that memory space is updated back to 5. \n",
    "\n",
    "    The diagraph below shows the procedure.\n",
    "    \n",
    "    ![](img/ch2cvar.png)\n",
    "    \n",
    "\n",
    "* Given the Python assignment ``i = 5``, an object ``5`` is created in the memory and is bind to ``i``. <span class=\"hl\">Unlike in C, in Python, the relation between the memory space and the object ``5`` is unchangeable,</span> while ``i`` can be re-bind to any other objects. In other words, once ``5`` is created in some memory space, that space will always hold 5. Therefore,\n",
    "    * **i = 5**: creates an object ``5`` in the memory and binds it to ``i``.\n",
    "    * **i = 2**: creates another object ``2`` in the memory and binds it to ``i``. Thus ``i`` refers to object ``2`` in another memory space.\n",
    "    * **i = 5**: binds the existing object ``5`` to ``i``. Thus ``i`` refers back to object ``5``. *Note: this applys only to int, float and string.*\n",
    "    \n",
    "    The diagraph below shows the procedure.\n",
    "    \n",
    "    ![](img/ch2pvar.png)\n",
    "    \n",
    "<span class=\"task\">Task 1</span>: Read the Python code below and try to predict what the output is like. Explain why."
   ]
  },
  {
   "cell_type": "code",
   "execution_count": 1,
   "metadata": {},
   "outputs": [
    {
     "name": "stdout",
     "output_type": "stream",
     "text": [
      "1552182880\n",
      "1552182784\n",
      "1552182880\n"
     ]
    }
   ],
   "source": [
    "# Code for Task 1\n",
    "i = 5\n",
    "print(id(i))\n",
    "i = 2\n",
    "print(id(i))\n",
    "j = 5\n",
    "print(id(j))"
   ]
  },
  {
   "cell_type": "markdown",
   "metadata": {},
   "source": [
    "<span class=\"task\">Task 2</span>: Read the Python code below and try to predict what the output is like."
   ]
  },
  {
   "cell_type": "code",
   "execution_count": 6,
   "metadata": {},
   "outputs": [
    {
     "name": "stdout",
     "output_type": "stream",
     "text": [
      "1552182880\n",
      "1552182880\n",
      "5\n",
      "2\n",
      "1552182880\n",
      "1552182784\n"
     ]
    }
   ],
   "source": [
    "# Code for Task 2\n",
    "i = 5\n",
    "j = i\n",
    "print(id(i))\n",
    "print(id(j))\n",
    "\n",
    "j = 2\n",
    "print(i)\n",
    "print(j)\n",
    "print(id(i))\n",
    "print(id(j))"
   ]
  },
  {
   "cell_type": "markdown",
   "metadata": {},
   "source": [
    "<span class=\"task\">Task 3</span>: Which of the following two code pieces cosume more memory space? Why?"
   ]
  },
  {
   "cell_type": "code",
   "execution_count": null,
   "metadata": {
    "collapsed": true
   },
   "outputs": [],
   "source": [
    "# Code piece A for Task 3\n",
    "i = 1\n",
    "i = 2\n",
    "i = 3\n",
    "\n",
    "# Code piece B for Task 3\n",
    "i = 1\n",
    "j = 1\n",
    "k = 1"
   ]
  },
  {
   "cell_type": "markdown",
   "metadata": {},
   "source": [
    "## External Reading Materials: \n",
    "[Python Variable Assignment and Memory Location](https://thehelloworldprogram.com/python/python-variable-assignment-memory-location/)"
   ]
  }
 ],
 "metadata": {
  "kernelspec": {
   "display_name": "Python 3",
   "language": "python",
   "name": "python3"
  },
  "language_info": {
   "codemirror_mode": {
    "name": "ipython",
    "version": 3
   },
   "file_extension": ".py",
   "mimetype": "text/x-python",
   "name": "python",
   "nbconvert_exporter": "python",
   "pygments_lexer": "ipython3",
   "version": "3.6.4"
  }
 },
 "nbformat": 4,
 "nbformat_minor": 2
}
