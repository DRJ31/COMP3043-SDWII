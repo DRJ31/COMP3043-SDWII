{
 "cells": [
  {
   "cell_type": "markdown",
   "metadata": {},
   "source": [
    "Before you turn this problem in, make sure everything runs as expected. First, **restart the kernel** (in the menubar, select Kernel$\\rightarrow$Restart) and then **run all cells** (in the menubar, select Cell$\\rightarrow$Run All).\n",
    "\n",
    "If you find your kernel dead (e.g,, \"In[*]\" appears before a code cell), please interrupt the kernel (press \"&#11035;\").\n",
    "\n",
    "\n",
    "Make sure you fill in any place that says `YOUR CODE HERE` or \"YOUR ANSWER HERE\" and delete the statement \"raise NotImplementedError()\" \n",
    "\n",
    "Don't forget write down your name and collaborators below:"
   ]
  },
  {
   "cell_type": "code",
   "execution_count": null,
   "metadata": {},
   "outputs": [],
   "source": [
    "NAME = \"Jack Deng\"\n",
    "ID = \"l630003010\""
   ]
  },
  {
   "cell_type": "markdown",
   "metadata": {},
   "source": [
    "---"
   ]
  },
  {
   "cell_type": "markdown",
   "metadata": {
    "deletable": false,
    "editable": false,
    "nbgrader": {
     "checksum": "b4751b8f87dc5bb9b227412fb2972936",
     "grade": false,
     "grade_id": "cell-55363113644a0b36",
     "locked": true,
     "schema_version": 1,
     "solution": false
    }
   },
   "source": [
    "# Python Functions\n",
    "\n",
    "## Basic Features\n",
    "- reusable chunks of code\n",
    "- not run in a program until they are <b>\"called\"</b>\n",
    "- has a name\n",
    "- has <b>parameters</b>(0 or more) \n",
    "- has a <b>docstring</b>(optional but recommended)\n",
    "- has a body\n",
    "- <b>Returns</b> something\n",
    "\n",
    "**We have introduced some basic knowledge about Python functions. Let us write a simple program to see if you have learnt how to define and call a function.**\n",
    "\n",
    "**Task 1**\n",
    "Enter a number, then the program should draw a square using *, which uses that number as the length. For example, ```draw_rect(4)``` will return a pattern as follows:\n",
    "![](Gigi_img/dict_img6.png)"
   ]
  },
  {
   "cell_type": "code",
   "execution_count": null,
   "metadata": {
    "deletable": false,
    "nbgrader": {
     "checksum": "84a43977fe4aa0c86a9fb493e3b3e942",
     "grade": true,
     "grade_id": "cell-7c2303aa07eaff52",
     "locked": false,
     "points": 3,
     "schema_version": 1,
     "solution": true
    },
    "scrolled": true
   },
   "outputs": [],
   "source": [
    "# Your code for task 1 here\n",
    "def draw_rect(side_len):\n",
    "# YOUR CODE HERE\n",
    "    for i in range(side_len):\n",
    "        for j in range(side_len):\n",
    "            print(\"*\", end=\" \")\n",
    "        print()\n",
    "n = int(input('Please input the side length(integer type) of the square: '))\n",
    "draw_rect(n)"
   ]
  },
  {
   "cell_type": "markdown",
   "metadata": {
    "deletable": false,
    "editable": false,
    "nbgrader": {
     "checksum": "4b9d4f8bd9dde27ffce6f0f3b50f6f31",
     "grade": false,
     "grade_id": "cell-a6fbf0fef8ccbde3",
     "locked": true,
     "schema_version": 1,
     "solution": false
    }
   },
   "source": [
    "## Function Arguments (Parameters)\n",
    "\n",
    "- You can call a function by using the following types of formal arguments:\n",
    "    - Required arguments\n",
    "    - Keywords arguments\n",
    "    - Default arguments\n",
    "    - Variable-length argument\n",
    "    \n",
    "\n",
    "### Required arguments\n",
    "\n",
    "Required arguments are the arguments passed to a function in correct positional order. Here, the number of arguments in the <i>function call</i> should match <b>exactly</b> with the <i>function definition</i>.\n",
    "\n",
    "**Example**"
   ]
  },
  {
   "cell_type": "code",
   "execution_count": null,
   "metadata": {
    "deletable": false,
    "editable": false,
    "nbgrader": {
     "checksum": "e9f9715cba7a87074517102ffd63487c",
     "grade": false,
     "grade_id": "cell-618a91959f7b46b5",
     "locked": true,
     "schema_version": 1,
     "solution": false
    }
   },
   "outputs": [],
   "source": [
    "def printme(a,b):\n",
    "    \"\"\"This prints a passed string into this function\"\"\"\n",
    "    print(\"a is \",a,\"b is\", b)\n",
    "    \n",
    "# Now you can call printme function\n",
    "# Note, \"1\" and \"2\" are exactly matching to \"a\" and \"b\" here.\n",
    "printme(1, 2)"
   ]
  },
  {
   "cell_type": "markdown",
   "metadata": {
    "deletable": false,
    "editable": false,
    "nbgrader": {
     "checksum": "1007eff80c4949753972561b11fd18c2",
     "grade": false,
     "grade_id": "cell-a0645b0601065fb8",
     "locked": true,
     "schema_version": 1,
     "solution": false
    }
   },
   "source": [
    "### Keyword arguments\n",
    "- Specify the parameter name when you call the function, .\n",
    "- Arguments can be <b>out of order</b>.\n",
    "\n",
    "<b>Example:</b>"
   ]
  },
  {
   "cell_type": "code",
   "execution_count": null,
   "metadata": {
    "deletable": false,
    "editable": false,
    "nbgrader": {
     "checksum": "915ac8d45f1407d1ca0e985be4fc76e2",
     "grade": false,
     "grade_id": "cell-21d980597507f984",
     "locked": true,
     "schema_version": 1,
     "solution": false
    }
   },
   "outputs": [],
   "source": [
    "def printme(a,b):\n",
    "    print(\"a is \", a, \", b is \", b)\n",
    "    \n",
    "printme(b = 1, a = 2)"
   ]
  },
  {
   "cell_type": "markdown",
   "metadata": {
    "deletable": false,
    "editable": false,
    "nbgrader": {
     "checksum": "faab1665d659d15ec1d012c87a9eba46",
     "grade": false,
     "grade_id": "cell-60423136215d1ccf",
     "locked": true,
     "schema_version": 1,
     "solution": false
    }
   },
   "source": [
    "### Default arguments\n",
    "- In the definition of the function, a default argument is set to the parameter.\n",
    "- Setting the argument is optional when calling the function.\n",
    "- The parameter without default value must be in front of the default argument.\n",
    "\n",
    "Observe the following example:"
   ]
  },
  {
   "cell_type": "code",
   "execution_count": null,
   "metadata": {
    "deletable": false,
    "editable": false,
    "nbgrader": {
     "checksum": "6383f11a55e31da3da00bac1baa79a05",
     "grade": false,
     "grade_id": "cell-d76af51216c2df6a",
     "locked": true,
     "schema_version": 1,
     "solution": false
    }
   },
   "outputs": [],
   "source": [
    "def printme(a, b = 10):\n",
    "    print(\"a is: \", a, \", b is: \", b)\n",
    "    \n",
    "printme(1)\n",
    "printme(a = 3)\n",
    "printme(4, 5)"
   ]
  },
  {
   "cell_type": "markdown",
   "metadata": {
    "deletable": false,
    "editable": false,
    "nbgrader": {
     "checksum": "413fa12ff9ae0cde7982edfcaa5ac6bf",
     "grade": false,
     "grade_id": "cell-aca6e6d96baadd5b",
     "locked": true,
     "schema_version": 1,
     "solution": false
    }
   },
   "source": [
    "### Variable-length arguments\n",
    "- When calling the function, the number of the argument can vary.\n",
    "- In the function definition, we use variable-length arguments.\n",
    "\n",
    "Syntax for a function with non-keyword variable arguments is:\n",
    "```python\n",
    "def functionname([formal_args,] *var_args_tuple):\n",
    "    function_suite\n",
    "    return [expression]\n",
    "```\n",
    "\n",
    "   - An asterisk(*) is placed before the variable name that holds the values of all nonkeyword variable arguments. This tuple remains empty if no additional arguments are specified during the function call."
   ]
  },
  {
   "cell_type": "code",
   "execution_count": null,
   "metadata": {
    "deletable": false,
    "editable": false,
    "nbgrader": {
     "checksum": "10c78e926285818e55cf49773325b79f",
     "grade": false,
     "grade_id": "cell-d3830f7685114f0a",
     "locked": true,
     "schema_version": 1,
     "solution": false
    }
   },
   "outputs": [],
   "source": [
    "def printinfo(a, *vartuple):\n",
    "    \"\"\"This prints a variable passed arguments\"\"\"\n",
    "    print(\"Output is: \")\n",
    "    print(a)\n",
    "    for var in vartuple:\n",
    "        print(var)\n",
    "        \n",
    "# sometimes, the number of values following \"hi\" is not fixed \n",
    "printinfo(\"hi\", 1, 2, 3, 4)\n",
    "\n"
   ]
  },
  {
   "cell_type": "code",
   "execution_count": null,
   "metadata": {
    "deletable": false,
    "editable": false,
    "nbgrader": {
     "checksum": "9fa22df10187df3f049c80abb2f8d2ba",
     "grade": false,
     "grade_id": "cell-784426d4781a68b9",
     "locked": true,
     "schema_version": 1,
     "solution": false
    }
   },
   "outputs": [],
   "source": [
    "another_name = printinfo\n",
    "another_name('hi', 1, 2)"
   ]
  },
  {
   "cell_type": "code",
   "execution_count": null,
   "metadata": {
    "deletable": false,
    "editable": false,
    "nbgrader": {
     "checksum": "f53f50963bb24e788b6749ad1fa358bd",
     "grade": false,
     "grade_id": "cell-6c29d54c438019b4",
     "locked": true,
     "schema_version": 1,
     "solution": false
    }
   },
   "outputs": [],
   "source": [
    "another_name == printinfo"
   ]
  },
  {
   "cell_type": "markdown",
   "metadata": {
    "deletable": false,
    "editable": false,
    "nbgrader": {
     "checksum": "4f3a96c2b369edd8b0a11456c7883923",
     "grade": false,
     "grade_id": "cell-2ddaa97f1809b407",
     "locked": true,
     "schema_version": 1,
     "solution": false
    }
   },
   "source": [
    "## Return multiple values\n",
    "\n",
    "A function can return only one value as you have played. In Python, returning multiple values can be done using a tuple."
   ]
  },
  {
   "cell_type": "code",
   "execution_count": null,
   "metadata": {
    "deletable": false,
    "editable": false,
    "nbgrader": {
     "checksum": "9cc549e2a09f5ce7dbc766046dc02cc5",
     "grade": false,
     "grade_id": "cell-1952eab83caa94d3",
     "locked": true,
     "schema_version": 1,
     "solution": false
    }
   },
   "outputs": [],
   "source": [
    "def test(x, y):\n",
    "    a = x + y\n",
    "    b = x - y\n",
    "    # returning a and b, can also be written as return a, b\n",
    "    return (a,b)\n",
    "\n",
    "# calling the test function\n",
    "(x, y) = test(2, 1)\n",
    "# the result is 3, 1\n",
    "print(x, y)"
   ]
  },
  {
   "cell_type": "markdown",
   "metadata": {
    "deletable": false,
    "editable": false,
    "nbgrader": {
     "checksum": "b74fa24358a241ce48ff57f6397fe045",
     "grade": false,
     "grade_id": "cell-caceac82f47e0d45",
     "locked": true,
     "schema_version": 1,
     "solution": false
    }
   },
   "source": [
    "## Anonymous Functions and Lambda Operator\n",
    "- These functions are called anonymous because they are not declared in the standard manner by using the ```def``` keyword. You can use the ```lambda``` keyword to create small anonymous functions.\n",
    "    - Lambda forms can take any number of arguments but return just one value in the form of an expression. They cannot contain commands or multiple expression.\n",
    "    - An anonymous function cannot be a direct call to print because lambda requires an expression.\n",
    "    - Lambda functions have their own local namespace and cannot access variable other than those in their parameter list and those in their parameter list and those in the global namespace.\n",
    "    \n",
    "**Syntax**\n",
    "\n",
    "```lambda [arg1 [, arg2, ...... argn]]: expression```\n",
    "\n",
    "**Example**"
   ]
  },
  {
   "cell_type": "code",
   "execution_count": null,
   "metadata": {
    "deletable": false,
    "editable": false,
    "nbgrader": {
     "checksum": "21ff34245744d4f41a6aebbe5eb873e3",
     "grade": false,
     "grade_id": "cell-0009f9bcb694b845",
     "locked": true,
     "schema_version": 1,
     "solution": false
    }
   },
   "outputs": [],
   "source": [
    "# Function definition is here\n",
    "sum_lambda1 = lambda arg1, arg2: arg1 + arg2\n",
    "\n",
    "print(sum_lambda1(1, 2))"
   ]
  },
  {
   "cell_type": "code",
   "execution_count": null,
   "metadata": {
    "deletable": false,
    "editable": false,
    "nbgrader": {
     "checksum": "4c46bc7b284823b45532baa2c0cfec20",
     "grade": false,
     "grade_id": "cell-60e66b94dd833527",
     "locked": true,
     "schema_version": 1,
     "solution": false
    }
   },
   "outputs": [],
   "source": [
    "def sum_lambda2(arg1, arg2):\n",
    "    return arg1 + arg2\n",
    "\n",
    "sum_lambda2(1, 2)"
   ]
  },
  {
   "cell_type": "code",
   "execution_count": null,
   "metadata": {
    "deletable": false,
    "editable": false,
    "nbgrader": {
     "checksum": "ab8d2064125d5c4b61fe044b231b6b9f",
     "grade": false,
     "grade_id": "cell-8ddad89ecf84168e",
     "locked": true,
     "schema_version": 1,
     "solution": false
    }
   },
   "outputs": [],
   "source": [
    "# Now you can call sum as a function\n",
    "print(\"Value of total : \", sum_lambda1(10, 20))\n",
    "print(\"Value of total : \", sum_lambda1(20, 20))"
   ]
  },
  {
   "cell_type": "code",
   "execution_count": null,
   "metadata": {
    "deletable": false,
    "editable": false,
    "nbgrader": {
     "checksum": "bf1fdfc9c6ade0c7beae8ec59dcf70c3",
     "grade": false,
     "grade_id": "cell-fc9e271b7e5c21b0",
     "locked": true,
     "schema_version": 1,
     "solution": false
    }
   },
   "outputs": [],
   "source": [
    "(lambda arg1, arg2: arg1 + arg2)(10, 20)"
   ]
  },
  {
   "cell_type": "markdown",
   "metadata": {
    "deletable": false,
    "editable": false,
    "nbgrader": {
     "checksum": "d7df4b78b63360673ebd052f70977ef6",
     "grade": false,
     "grade_id": "cell-cdb229417e48f00b",
     "locked": true,
     "schema_version": 1,
     "solution": false
    }
   },
   "source": [
    "## Pass by reference\n",
    "\n",
    "- All parameters(arguments) in the Python language are passed by reference, which means if you change what a parameter refers to within a function, the change also reflects back in the calling function.\n",
    "\n",
    "**Example**\n",
    "- The example below shows the function maintaining the reference of the passed object and appending values in the same object."
   ]
  },
  {
   "cell_type": "code",
   "execution_count": null,
   "metadata": {
    "deletable": false,
    "editable": false,
    "nbgrader": {
     "checksum": "22adc0063974f5443ee784de0dec2116",
     "grade": false,
     "grade_id": "cell-439348c4cde05e88",
     "locked": true,
     "schema_version": 1,
     "solution": false
    }
   },
   "outputs": [],
   "source": [
    "# Function definition is here\n",
    "def changeme(mylist):\n",
    "    # This changes a passed list into this function\n",
    "    mylist.append([1, 2, 3, 4])\n",
    "    print(\"Values inside the function:\", mylist)\n",
    "    \n",
    "# Now you can call changeme function\n",
    "mylist = [10, 20, 30]\n",
    "changeme(mylist)\n",
    "print(\"Values outside the function: \", mylist)"
   ]
  },
  {
   "cell_type": "markdown",
   "metadata": {
    "deletable": false,
    "editable": false,
    "nbgrader": {
     "checksum": "14877e6891a7dadda47c51ce0540e1e1",
     "grade": false,
     "grade_id": "cell-fd6499c3e3ecec7d",
     "locked": true,
     "schema_version": 1,
     "solution": false
    }
   },
   "source": [
    "\n",
    "## Scope of Variables\n",
    "- Global variables\n",
    "    - Defined outside the function\n",
    "    - Can be accessed inside the functions\n",
    "    - Using <b>global</b> keyword before modifying the value\n",
    "- Local variables\n",
    "    - Variables that are defined inside of a function\n",
    "    - Objects outside the \"scope\" of the function will not be able to access that variable"
   ]
  },
  {
   "cell_type": "code",
   "execution_count": null,
   "metadata": {
    "deletable": false,
    "editable": false,
    "nbgrader": {
     "checksum": "9f6bad7ccdfa0010e05d3a4b518a35bb",
     "grade": false,
     "grade_id": "cell-589ed1b7d16c9e1f",
     "locked": true,
     "schema_version": 1,
     "solution": false
    }
   },
   "outputs": [],
   "source": [
    "total = 0\n",
    "\n",
    "def sum(arg1, arg2):\n",
    "    # must use global keyword here\n",
    "    global total\n",
    "    # Since \"total\" is explicitly defined as globals, change of the variable will affect globally.\n",
    "    total = arg1 + arg2;\n",
    "    print(\"Inside the function tatal : \", total)\n",
    "    \n",
    "# Now you can call sum function\n",
    "print(\"Initial total: \", total)\n",
    "sum(10, 20)\n",
    "print(\"Outside the function total : \", total)"
   ]
  },
  {
   "cell_type": "markdown",
   "metadata": {
    "deletable": false,
    "editable": false,
    "nbgrader": {
     "checksum": "f70a2171d6c3b6d80b949ffc0a829bb7",
     "grade": false,
     "grade_id": "cell-32d570a0d4df76ee",
     "locked": true,
     "schema_version": 1,
     "solution": false
    }
   },
   "source": [
    "**Task 2:**\n",
    "\n",
    "- Write a program that asks the user to enter two points on a 2D plane (i.e. enter X1 & Y1, enter X2 & Y2). Compute the distance between those points using functions.\n",
    "- Continually ask the user for numbers until they wish to quit"
   ]
  },
  {
   "cell_type": "code",
   "execution_count": 3,
   "metadata": {
    "deletable": false,
    "nbgrader": {
     "checksum": "72082f1e3ab7aa64b5ae43cc5088f6b4",
     "grade": false,
     "grade_id": "cell-71f654aca03f6f71",
     "locked": false,
     "schema_version": 1,
     "solution": true
    }
   },
   "outputs": [],
   "source": [
    "# Your code here.\n",
    "# Tips: define a function cmpt_distance(p1,p2) to compute the distance between p1 and p2\n",
    "# p1 = (x1,y1) and p2 = (x2,y2)\n",
    "\n",
    "\n",
    "import math\n",
    "def cmpt_distance(p1,p2):\n",
    "# YOUR CODE HERE\n",
    "    return math.sqrt((p2[0] - p1[0]) ** 2 + (p2[1] - p1[1]) ** 2)\n"
   ]
  },
  {
   "cell_type": "code",
   "execution_count": 4,
   "metadata": {
    "deletable": false,
    "editable": false,
    "nbgrader": {
     "checksum": "2e9f695486aa5881f0843658419d313e",
     "grade": true,
     "grade_id": "cell-e156f40c1e1dadd1",
     "locked": true,
     "points": 2,
     "schema_version": 1,
     "solution": false
    }
   },
   "outputs": [],
   "source": [
    "p1 = (1, 2)\n",
    "p2 = (4, 6)\n",
    "assert cmpt_distance(p1, p2) == 5"
   ]
  },
  {
   "cell_type": "code",
   "execution_count": null,
   "metadata": {
    "deletable": false,
    "nbgrader": {
     "checksum": "ddbe4c82cd648d4995cf411a84abb6d2",
     "grade": true,
     "grade_id": "cell-6de37cb1375fa559",
     "locked": false,
     "points": 3,
     "schema_version": 1,
     "solution": true
    }
   },
   "outputs": [],
   "source": [
    "# the main function to realize that ask the user for numbers until they wish to quit.\n",
    "# eop is the end sign of the program\n",
    "eop = int(input('Input a natural number (int 0 to exit) '))\n",
    "# YOUR CODE HERE\n",
    "raise NotImplementedError()"
   ]
  },
  {
   "cell_type": "markdown",
   "metadata": {
    "deletable": false,
    "editable": false,
    "nbgrader": {
     "checksum": "0e98164932d241358028f1841bd701fa",
     "grade": false,
     "grade_id": "cell-0b058da536255801",
     "locked": true,
     "schema_version": 1,
     "solution": false
    }
   },
   "source": [
    "**Task 3:**\n",
    "\n",
    "- Define a function ```decimal2Bin``` to return a string, which is the binary form(str type) for a natural number."
   ]
  },
  {
   "cell_type": "code",
   "execution_count": 6,
   "metadata": {
    "deletable": false,
    "nbgrader": {
     "checksum": "6f769da52428539f45efc8042c5c9b21",
     "grade": false,
     "grade_id": "cell-28eaf24e88fd65ef",
     "locked": false,
     "schema_version": 1,
     "solution": true
    }
   },
   "outputs": [
    {
     "name": "stdout",
     "output_type": "stream",
     "text": [
      "1110\n"
     ]
    }
   ],
   "source": [
    "# YOUR CODE HERE\n",
    "def decimal2Bin(num):\n",
    "    numStr = \"\"#String to record the binary of number\n",
    "    while num > 0:\n",
    "        numStr += str(num % 2)\n",
    "        num //= 2\n",
    "    return numStr[::-1]"
   ]
  },
  {
   "cell_type": "code",
   "execution_count": 7,
   "metadata": {
    "deletable": false,
    "editable": false,
    "nbgrader": {
     "checksum": "2d423a9c9bf988a5aa3a4d64894bf5f6",
     "grade": true,
     "grade_id": "cell-3dd45a7dee1aaeb4",
     "locked": true,
     "points": 4,
     "schema_version": 1,
     "solution": false
    }
   },
   "outputs": [],
   "source": [
    "assert decimal2Bin(14) == '1110'"
   ]
  },
  {
   "cell_type": "markdown",
   "metadata": {
    "deletable": false,
    "editable": false,
    "nbgrader": {
     "checksum": "6d3776de6bb18fee963eca83fd2de0cf",
     "grade": false,
     "grade_id": "cell-0247952904b55051",
     "locked": true,
     "schema_version": 1,
     "solution": false
    }
   },
   "source": [
    "**Task 4:**\n",
    "\n",
    "- Define a function ```find_RepStr``` to return a list, which includes all the consecutive characters which are also sub-strings appeared in the object string."
   ]
  },
  {
   "cell_type": "code",
   "execution_count": null,
   "metadata": {
    "deletable": false,
    "nbgrader": {
     "checksum": "b5eae1505c6518c862632e402b12577f",
     "grade": false,
     "grade_id": "cell-8ed03d64c71d9334",
     "locked": false,
     "schema_version": 1,
     "solution": true
    }
   },
   "outputs": [],
   "source": [
    "# using dir(str) to find the built-in function of python object, str, \n",
    "# and find the way to solve the problem\n",
    "# YOUR CODE HERE\n",
    "def find_RepStr(string):\n",
    "    temp = \"\"#Variable to store string with same character\n",
    "    arr = []#List to store string with same character\n",
    "    for ch in string:\n",
    "        if len(temp) == 0 or ch in temp:\n",
    "            temp += ch#Find the longest string of same character\n",
    "            continue\n",
    "        if ch not in temp:#Change element in temp when different element appear\n",
    "            if len(temp) > 1:\n",
    "                for i in range(len(temp), 1, -1):\n",
    "                    arr.append(temp[:i])\n",
    "            temp = ch\n",
    "    return arr"
   ]
  },
  {
   "cell_type": "code",
   "execution_count": 11,
   "metadata": {
    "deletable": false,
    "editable": false,
    "nbgrader": {
     "checksum": "77d5114427ce764890605d90e77b2ded",
     "grade": true,
     "grade_id": "cell-dd569bd0042fefab",
     "locked": true,
     "points": 4,
     "schema_version": 1,
     "solution": false
    }
   },
   "outputs": [],
   "source": [
    "assert find_RepStr(\"http://www.google.com\") == ['tt', '//', 'www', 'ww', 'oo']\n",
    "assert find_RepStr(\"abcdefgfedcba\") == []\n",
    "assert find_RepStr(\"aaaabbbccd\") == ['aaaa', 'aaa', 'aa', 'bbb', 'bb', 'cc']"
   ]
  },
  {
   "cell_type": "markdown",
   "metadata": {
    "deletable": false,
    "editable": false,
    "nbgrader": {
     "checksum": "347402d105f22d79897e7e4702a80dc5",
     "grade": false,
     "grade_id": "cell-fd3ab52f7428713d",
     "locked": true,
     "schema_version": 1,
     "solution": false
    }
   },
   "source": [
    "**Task 5:**\n",
    "\n",
    "- Define a function ```cmpt_ticket``` to compute the admission price of a park. The detailed rules are following:\n",
    "    - admission price on weekends is 1.2 times of that on weekdays\n",
    "    - admission price for a child is a half of an adult's "
   ]
  },
  {
   "cell_type": "code",
   "execution_count": 14,
   "metadata": {
    "deletable": false,
    "nbgrader": {
     "checksum": "b73dea235ea042fc2484ba57ebb731c8",
     "grade": false,
     "grade_id": "cell-86a4e1aeebbf031d",
     "locked": false,
     "schema_version": 1,
     "solution": true
    }
   },
   "outputs": [],
   "source": [
    "# YOUR CODE HERE\n",
    "def cmpt_ticket(price, child = False, weekend = False):\n",
    "    if child:#Check if he/she is a child\n",
    "        price *= 0.5\n",
    "    if weekend:#Check if is weekend now\n",
    "        price *= 1.2\n",
    "    return price"
   ]
  },
  {
   "cell_type": "code",
   "execution_count": 15,
   "metadata": {
    "deletable": false,
    "editable": false,
    "nbgrader": {
     "checksum": "a1ef3523c4c55a391dd28ed2a18fe2e8",
     "grade": true,
     "grade_id": "cell-d3a46b83d3601dc8",
     "locked": true,
     "points": 4,
     "schema_version": 1,
     "solution": false
    }
   },
   "outputs": [],
   "source": [
    "assert cmpt_ticket(100) == 100\n",
    "assert cmpt_ticket(100, child = True) == 50\n",
    "assert cmpt_ticket(100, weekend = True) == 120\n",
    "assert cmpt_ticket(100, True, True) == 60"
   ]
  }
 ],
 "metadata": {
  "kernelspec": {
   "display_name": "Python 3",
   "language": "python",
   "name": "python3"
  },
  "language_info": {
   "codemirror_mode": {
    "name": "ipython",
    "version": 3
   },
   "file_extension": ".py",
   "mimetype": "text/x-python",
   "name": "python",
   "nbconvert_exporter": "python",
   "pygments_lexer": "ipython3",
   "version": "3.6.4"
  }
 },
 "nbformat": 4,
 "nbformat_minor": 2
}
