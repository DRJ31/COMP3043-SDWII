{
 "cells": [
  {
   "cell_type": "markdown",
   "metadata": {},
   "source": [
    "Before you turn this problem in, make sure everything runs as expected. First, **restart the kernel** (in the menubar, select Kernel$\\rightarrow$Restart) and then **run all cells** (in the menubar, select Cell$\\rightarrow$Run All).\n",
    "\n",
    "If you find your kernel dead (e.g,, \"In[*]\" appears before a code cell), please interrupt the kernel (press \"&#11035;\").\n",
    "\n",
    "\n",
    "Make sure you fill in any place that says `YOUR CODE HERE` or \"YOUR ANSWER HERE\" and delete the statement \"raise NotImplementedError()\" \n",
    "\n",
    "Don't forget write down your name and collaborators below:"
   ]
  },
  {
   "cell_type": "code",
   "execution_count": null,
   "metadata": {},
   "outputs": [],
   "source": [
    "NAME = \"Jack Deng\"\n",
    "ID = \"l630003010\""
   ]
  },
  {
   "cell_type": "markdown",
   "metadata": {},
   "source": [
    "---"
   ]
  },
  {
   "cell_type": "markdown",
   "metadata": {
    "deletable": false,
    "editable": false,
    "nbgrader": {
     "checksum": "6fe8e6b6fe1bd5f85c9a10eb851825c6",
     "grade": false,
     "grade_id": "cell-8f32fc80da1c3511",
     "locked": true,
     "schema_version": 1,
     "solution": false
    }
   },
   "source": [
    "# Python Dictionary\n",
    "\n",
    "**If we want to store information about students, you may choose to use lists. Every list is used for one set of information such as the following.**\n",
    "- ```IDs = ['001', '002', '003']```\n",
    "- ```names = ['Lily', 'Mary', 'Martin']```\n",
    "- ```grades = ['A', 'B', 'C']```\n",
    "\n",
    "If you want to update or retrieve student information, how would you do it? You may use the following chunk of code."
   ]
  },
  {
   "cell_type": "code",
   "execution_count": null,
   "metadata": {},
   "outputs": [],
   "source": [
    "IDs = ['001', '002', '003']\n",
    "names = ['Lily', 'Mary', 'Martin']\n",
    "grades = ['A', 'B', 'C']\n",
    "\n",
    "def getNameGrade(ID, nameList, gradesList):\n",
    "    i = IDs.index(ID)\n",
    "    name = nameList[i]\n",
    "    grade = gradesList[i]\n",
    "    return (name, grade)\n",
    "\n",
    "for id in range(3):\n",
    "    print(getNameGrade(IDs[id], names, grades))\n"
   ]
  },
  {
   "cell_type": "markdown",
   "metadata": {
    "deletable": false,
    "editable": false,
    "nbgrader": {
     "checksum": "785ef47926ab4af9ef0af87b41e1435b",
     "grade": false,
     "grade_id": "cell-5ca75e12fd2b5082",
     "locked": true,
     "schema_version": 1,
     "solution": false
    }
   },
   "source": [
    "### Disadvantages using lists for this type of problems:\n",
    "- Very messy if there is different information\n",
    "- So many lists to maintain\n",
    "- Must always use integer index\n",
    "- Must change multiple lists\n",
    "\n",
    "\n",
    "### Here is a better way to solve such problem - Dictionary."
   ]
  },
  {
   "cell_type": "markdown",
   "metadata": {
    "deletable": false,
    "editable": false,
    "nbgrader": {
     "checksum": "d58f2f598ba383562b67b9dc5db42539",
     "grade": false,
     "grade_id": "cell-610f61702d059f1e",
     "locked": true,
     "schema_version": 1,
     "solution": false
    }
   },
   "source": [
    "## Dictonary\n",
    "\n",
    "\n",
    "\n",
    "\n",
    "### The picture below shows the difference between the List and a Dictionary.\n",
    "![](Gigi_img/dict_img1.png)\n",
    "\n",
    "** Example: a dictionary named gradesDict containing students name and grades info**\n",
    "\n",
    "|    |   |\n",
    "|--- |---|\n",
    "| Lily | A |\n",
    "| Mary | B |\n",
    "| Martin | C |\n",
    "| Tom    | B+ |\n",
    "\n",
    "\n",
    "** Define the gradesDict:**\n",
    "```Python \n",
    "gradesDict = {'Lily':'A', 'Mary':'B', 'Martin':'C', 'Tom':'B+'}\n",
    "```\n",
    "\n",
    "### A few ways to define a dictionary:\n",
    "\n",
    "** 1.Define an empty dictionary**\n",
    "```python\n",
    "# It will create an empty dictionary instead of a set, \n",
    "# although they both use curly braces \"{}\" to include the data.\n",
    "empty_dict = {}\n",
    "# or\n",
    "empty_dict = dict()\n",
    "```\n",
    "** 2. key : value**\n",
    "```python\n",
    "gradesDict = {'Lily':'A', 'Mary':'B', 'Martin':'C', 'Tom':'B+'}\n",
    "```\n",
    "** 3. convert from a list composed of tuples**\n",
    "```python\n",
    "gradesDict = dict([('Lily', 'A'), ('Mary', 'B'), ('Martin', 'C'), ('Tom', 'B+')]) \n",
    "```\n",
    "** 4. dict(key = value)**\n",
    "```python\n",
    "gradesDict = dict(Lily = 'A', Mary = 'B', Martin = 'C', Tom= 'B+')\n",
    "```\n",
    "**Note:This way cannot work if the type of the key is integer. For example, \"a = dict(1 = 'one', 2 = 'two')\" will cause an error. **\n",
    "\n",
    "** 5. using zip()**\n",
    "```python\n",
    "gradesDict = dict(zip(['Lily', 'Mary', 'Martin', 'Tom'], ['A', 'B', 'C', 'B+']))\n",
    "\n",
    "```\n",
    "\n",
    "\n",
    "\n",
    "\n",
    "** Task 1: ** Add three more students and their grades into the gradesDict above, and then print out the dictionary.\n",
    "\n",
    "|    |   |\n",
    "|--- |---|\n",
    "| Mathew | D |\n",
    "| Lynne | C+ |\n",
    "| Andrew | C |"
   ]
  },
  {
   "cell_type": "code",
   "execution_count": null,
   "metadata": {
    "deletable": false,
    "nbgrader": {
     "checksum": "08c1c230ef88bffe065b8e68a0fd98c7",
     "grade": false,
     "grade_id": "cell-7ca78110ca9580e7",
     "locked": false,
     "schema_version": 1,
     "solution": true
    }
   },
   "outputs": [],
   "source": [
    "gradesDict = {'Lily':'A', 'Mary':'B', 'Martin':'C', 'Tom':'B+'}\n",
    "# gradesDict = dict([('Lily','A'),('Mary','B'),('Martin','C'),('Tom','B+')]) \n",
    "# gradesDict = dict(Lily = 'A', Mary = 'B', Martin = 'C', Tom= 'B+')\n",
    "# gradesDict = dict(zip(['Lily','Mary','Martin','Tom'],['A','B','C','B+']))\n",
    "# you code for Task 1 here.\n",
    "# YOUR CODE HERE\n",
    "gradesDict['Andrew'] = 'C'\n",
    "gradesDict['Mathew'] = 'D'\n",
    "gradesDict['Lynne'] = 'C+'\n",
    "print(gradesDict)"
   ]
  },
  {
   "cell_type": "code",
   "execution_count": null,
   "metadata": {
    "deletable": false,
    "editable": false,
    "nbgrader": {
     "checksum": "2f4ba774a5e71cac631afb41b3659fbd",
     "grade": true,
     "grade_id": "cell-22772f4142460e8a",
     "locked": true,
     "points": 3,
     "schema_version": 1,
     "solution": false
    }
   },
   "outputs": [],
   "source": [
    "assert gradesDict['Mathew'] == 'D'\n",
    "assert gradesDict['Lynne'] == 'C+'\n",
    "\n",
    "assert gradesDict['Andrew'] == 'C'"
   ]
  },
  {
   "cell_type": "markdown",
   "metadata": {
    "deletable": false,
    "editable": false,
    "nbgrader": {
     "checksum": "fe8f1d23104949b99c2376f284f6b8cb",
     "grade": false,
     "grade_id": "cell-c51fac0614aa9ed5",
     "locked": true,
     "schema_version": 1,
     "solution": false
    }
   },
   "source": [
    "### How to look up the dictionary?\n",
    "- Looks up the key\n",
    "- Returns the value associated with the key\n",
    "- Get an error if the key isn't found in the dictionary\n",
    "\n",
    "** Task 2: ** Run the following code and observe the output. Then change the dictionary to gradesDict, and print out Martin's grade."
   ]
  },
  {
   "cell_type": "code",
   "execution_count": 2,
   "metadata": {
    "deletable": false,
    "nbgrader": {
     "checksum": "2c6d51a20487d2a1b38a49ad64a8ebc0",
     "grade": true,
     "grade_id": "cell-2c3d01ca93457b66",
     "locked": false,
     "points": 1,
     "schema_version": 1,
     "solution": true
    }
   },
   "outputs": [
    {
     "name": "stdout",
     "output_type": "stream",
     "text": [
      "dict1['Name']: Mary\n",
      "dict1['Age]: 19\n",
      "gradesDict['Martin']: C\n"
     ]
    }
   ],
   "source": [
    "## code for Task 2\n",
    "dict1 = {'Name':'Mary', 'Age':19}\n",
    "print(\"dict1['Name']:\", dict1['Name'])\n",
    "print(\"dict1['Age]:\", dict1['Age'])\n",
    "\n",
    "# print the record of Matin in gradesDict\n",
    "\n",
    "# YOUR CODE HERE\n",
    "gradesDict = {'Lily':'A', 'Mary':'B', 'Martin':'C', 'Tom':'B+'}\n",
    "print(\"gradesDict['Martin']:\", gradesDict['Martin'])"
   ]
  },
  {
   "cell_type": "markdown",
   "metadata": {
    "deletable": false,
    "editable": false,
    "nbgrader": {
     "checksum": "5380da155e8e318409e6dafb81031ebb",
     "grade": false,
     "grade_id": "cell-ac1d16514a09639a",
     "locked": true,
     "schema_version": 1,
     "solution": false
    }
   },
   "source": [
    "### Dictionary Operations\n",
    "\n",
    "Let's use the gradesDict again:\n",
    "```python\n",
    "gradesDict = {'Lily':'A', 'Mary':'B', 'Martin':'C', 'Tom':'B+'}\n",
    "```\n",
    "- If we want to add a new student, we can use:\n",
    "\n",
    "```python\n",
    "gradesDict['Bob'] = 'A-'\n",
    "```\n",
    "\n",
    "- If we want to test if a key is in the dictionary, we write:\n",
    "```python\n",
    "'Lily' in gradesDict\n",
    "```\n",
    "\n",
    "** Task 3:** Run the following code and see what it will return. Write a print statement to test a name that is not in the dictionary, and observe what it will return. "
   ]
  },
  {
   "cell_type": "code",
   "execution_count": 3,
   "metadata": {},
   "outputs": [
    {
     "name": "stdout",
     "output_type": "stream",
     "text": [
      "True\n"
     ]
    }
   ],
   "source": [
    "# code for Task 3\n",
    "gradesDict = {'Lily':'A', 'Mary':'B', 'Martin':'C', 'Tom':'B+'}\n",
    "print ('Lily' in gradesDict)"
   ]
  },
  {
   "cell_type": "markdown",
   "metadata": {
    "deletable": false,
    "editable": false,
    "nbgrader": {
     "checksum": "1574149b0cf62f2b7005b6d3782c8430",
     "grade": false,
     "grade_id": "cell-0eabb5d4a7bf2fc7",
     "locked": true,
     "schema_version": 1,
     "solution": false
    }
   },
   "source": [
    "** To delete an entry in the dictionary, you can use:**\n",
    "```python\n",
    "del(gradesDict['Lily'])\n",
    "```\n",
    "\n",
    "### Comparison of  Dictionary Keys and Values\n",
    "\n",
    "| keys | Values |\n",
    "| ---  | ------ |\n",
    "| must be <b>unique</b> | can contain <b>duplicates</b>|\n",
    "| <b>immutable</b> type (int, float, string, tuple, bool) | and type (<b>immutable and mutable</b>) |\n",
    "| Try to advoid using float type key | can be lists, even other dictionaries |\n",
    "\n",
    "** Task 4: ** Run the following code and observe the output."
   ]
  },
  {
   "cell_type": "code",
   "execution_count": 4,
   "metadata": {},
   "outputs": [
    {
     "name": "stdout",
     "output_type": "stream",
     "text": [
      "dict_keys(['lily', 'Mary', 'Martin', 'Tom'])\n",
      "dict_values(['A', 'B', 'C', 'B+'])\n"
     ]
    }
   ],
   "source": [
    "# code for Task 4\n",
    "gradesDict = {'lily':'A', 'Mary':'B', 'Martin':'C', 'Tom':'B+'}\n",
    "print(gradesDict.keys())\n",
    "print(gradesDict.values())"
   ]
  },
  {
   "cell_type": "markdown",
   "metadata": {
    "deletable": false,
    "editable": false,
    "nbgrader": {
     "checksum": "3c3724268c265a37ccb1d8c870e45597",
     "grade": false,
     "grade_id": "cell-573896076e150ab4",
     "locked": true,
     "schema_version": 1,
     "solution": false
    }
   },
   "source": [
    "### Comparison of List and Dictionary\n",
    "| List | Dictionary |\n",
    "| ---- | ------- |\n",
    "| Ordered Sequence of elements | Matching Key and Values |\n",
    "| Index must be an integer | Key can be any immutable type |\n",
    "| Indices has an order | No order is guaranteed |\n",
    "| Search element by index | Search value by the key |\n",
    "\n",
    "** Task 5: ** Create a dictionary to hold some English words and corresponding Chinese words. Let the user enter a sentence that uses the words in the dictionary.  You program should translate that sentence into Chinese as output.\n",
    "\n",
    "| keys | values |\n",
    "| -- | -- |\n",
    "| I | 我 |\n",
    "| you | 你 |\n",
    "| love | 爱 |\n",
    "| China | 中国 |\n",
    "| Zhuhai | 珠海 |\n",
    "| and | 和 |\n",
    "| me | 我 |"
   ]
  },
  {
   "cell_type": "code",
   "execution_count": null,
   "metadata": {
    "deletable": false,
    "nbgrader": {
     "checksum": "4c0be2f1da09391012906ac170339c76",
     "grade": true,
     "grade_id": "cell-b3824cfa2a8eec42",
     "locked": false,
     "points": 2,
     "schema_version": 1,
     "solution": true
    }
   },
   "outputs": [],
   "source": [
    "# code for Task 5\n",
    "\n",
    "# YOUR CODE HERE\n",
    "dictionary = dict(zip(['I', 'you', 'love', 'China', 'Zhuhai', 'and', 'me']\n",
    "                     , [\"我\", \"你\", \"爱\", \"中国\", \"珠海\", \"和\", \"我\"]))\n",
    "sentence = input(\"Enter a sentence with words in the table: \")\n",
    "for word in sentence.split(\" \"):\n",
    "    print(dictionary[word], end=\"\")"
   ]
  },
  {
   "cell_type": "markdown",
   "metadata": {
    "deletable": false,
    "editable": false,
    "nbgrader": {
     "checksum": "f0cff9f19d2397f0779cd0c7ac6c7e02",
     "grade": false,
     "grade_id": "cell-6471f0a0dccafa58",
     "locked": true,
     "schema_version": 1,
     "solution": false
    }
   },
   "source": [
    "\n",
    "## Several built-in functions of Dictionary\n",
    "### 2.1. fromkeys()\n",
    "\n",
    "- fromkeys() is used to return a new dictionary.\n",
    "- The syntax:\n",
    "\n",
    "    - ```dict.fromkeys(seq[, value]))```\n",
    "\n",
    "- The first parameter is required, and it should be a sequence(list type, tuple type or str type), every element in the sequence will be one key of the new dictionary; the second one is the value for each key. The second parameter is optional."
   ]
  },
  {
   "cell_type": "code",
   "execution_count": null,
   "metadata": {},
   "outputs": [],
   "source": [
    "dict1 = {}\n",
    "\n",
    "dict2 = dict1.fromkeys((1, 2, 3))  # dict2=dict1.fromkeys(1,2,3) will return an error\n",
    "print(\"dict1 is: \", dict1) # Output: {}\n",
    "print(\"dict2 is: \", dict2) # Output:{1: None, 2:None, 3:None}， dict1 won't be changed\n",
    "\n",
    "dict3 = dict1.fromkeys((1, 2, 3), (\"Integer\"))\n",
    "print(\"dict3 is: \", dict3)  # Output:{1:'Integer',2:'Integer',3:'Integer'}\n",
    "\n",
    "dict4 = dict1.fromkeys((1, 2, 3), (\"one\", \"two\", \"three\"))\n",
    "print(\"dict4 is: \", dict4)  # Output: {1: ('one', 'two', 'three'), 2: ('one', 'two', 'three'), 3: ('one', 'two', 'three')}"
   ]
  },
  {
   "cell_type": "markdown",
   "metadata": {
    "deletable": false,
    "editable": false,
    "nbgrader": {
     "checksum": "e467b5e128bbb2ef11b11c886847331c",
     "grade": false,
     "grade_id": "cell-d1898cdd9ca26bd0",
     "locked": true,
     "schema_version": 1,
     "solution": false
    }
   },
   "source": [
    "### 2.2. keys(), values(), items()\n",
    "- keys() returns **all the keys** in the dictionary\n",
    "- values() returns **all the values** in the dictionary\n",
    "- items() returns **all the items(composed of \"key:value\")** in the dictionary"
   ]
  },
  {
   "cell_type": "code",
   "execution_count": null,
   "metadata": {},
   "outputs": [],
   "source": [
    "my_dict = dict()\n",
    "my_dict = my_dict.fromkeys(range(5), 'UIC')\n",
    "print(my_dict)\n",
    "print(\"All the keys are: \", my_dict.keys())\n",
    "print(\"All the values are: \", my_dict.values())\n",
    "print(\"All the items are: \", my_dict.items())"
   ]
  },
  {
   "cell_type": "markdown",
   "metadata": {
    "deletable": false,
    "editable": false,
    "nbgrader": {
     "checksum": "e9b1e10cce02c19d8320f8242ebcc9b3",
     "grade": false,
     "grade_id": "cell-b8060820c65563c4",
     "locked": true,
     "schema_version": 1,
     "solution": false
    }
   },
   "source": [
    "### 2.3 copy()\n",
    "\n",
    "``` copy() ``` is used to copy a dictionary.\n",
    "\n",
    "The following example shows the difference between ```b = a.copy()``` and ```b = a```(a and b are both dictionary type)."
   ]
  },
  {
   "cell_type": "code",
   "execution_count": null,
   "metadata": {},
   "outputs": [],
   "source": [
    "# dictC and dictD are the same dictionary, dictE is a new one.\n",
    "dictC = dict(zip(['I', 'II', 'III'], [1, 2, 3]))\n",
    "dictD = dictC\n",
    "dictE = dictC.copy()\n",
    "\n",
    "print(\"dictC is: \", dictC, \", and dictC's address is: \", id(dictC))\n",
    "print(\"dictD is: \", dictD, \", and dictD's address is: \", id(dictD))\n",
    "print(\"dictE is: \", dictE, \", and dictE's address is: \", id(dictE))"
   ]
  },
  {
   "cell_type": "markdown",
   "metadata": {
    "deletable": false,
    "editable": false,
    "nbgrader": {
     "checksum": "16663b9c6488a0bac48a11103330494b",
     "grade": false,
     "grade_id": "cell-b56d41f0d30a6232",
     "locked": true,
     "schema_version": 1,
     "solution": false
    }
   },
   "source": [
    "### 2.4 get(), setdefault()\n",
    "** To obtain the value of one item in the dictionary, there are three methods. Let's make dict_a a dictionary.**\n",
    "\n",
    "\n",
    "- ```dict_a.get(key)``` ---will return the value of key; if key doesn't exist, it will return \"None\", while the original dictionary remains unchanged \n",
    "- ```dict_a.setdefault(key)```---will return the value of key; if key doesn't exist, it will return \"None\", and a new item \"key2:None\" will be added into the orginal dictionary\n",
    "- ```dict_a[key]```--- will return the value of key; if key doesn't exist, it will cause a keyerror, the orginal dictionary stays unchanged.\n",
    "\n",
    "So, ```get()``` and ```setdefault()``` look much more friendly.\n",
    "\n",
    "**The two examples below show the differences.**"
   ]
  },
  {
   "cell_type": "code",
   "execution_count": null,
   "metadata": {
    "deletable": false,
    "editable": false,
    "nbgrader": {
     "checksum": "d8fa8d6d9c038fbf95814e671d92d434",
     "grade": false,
     "grade_id": "cell-c16ed61ec77bf704",
     "locked": true,
     "schema_version": 1,
     "solution": false
    }
   },
   "outputs": [],
   "source": [
    "\n",
    "dict_a = dict(zip(['telephone', 'computer', 'desk', 'book', 'pen'],['t', 'c', 'd', 'b', 'p']))\n",
    "x = dict_a['computer']\n",
    "print(x, \" is short for 'computer'\")\n",
    "print(dict_a) \n",
    "\n",
    "\n",
    "# when the corresponding key is out of the range in the given dictionary,\n",
    "# it will return a keyerror, uncomment the following lines to test\n",
    "#y= my_dict['ereaser']\n",
    "#print(y)"
   ]
  },
  {
   "cell_type": "code",
   "execution_count": null,
   "metadata": {},
   "outputs": [],
   "source": [
    "\n",
    "mydict = dict(zip(['I','II','III','IV','V'],[1,2,3,4,5]))\n",
    "\n",
    "a_copy = mydict.copy() # copy a new dictionary\n",
    "b = mydict.setdefault('IV')\n",
    "c = mydict.get('IV')\n",
    "\n",
    "print(\"The original dictionary is: \", mydict)\n",
    "print(\"Using setdefault(), we get the fouth value is: \", b)\n",
    "print(\"Using get(), we get the fouth value is: \", c)\n",
    "\n",
    "d = mydict.get('VI')\n",
    "print(\"\\n\\nThe orginal dictionary now becomes: \", mydict)\n",
    "print(\"The sixth value is:\", d)  # Output: The sixth value is: None\n",
    "\n",
    "e = mydict.setdefault('VI')  \n",
    "print(\"\\n\\nThe orginal dictionary now becomes: \", mydict)\n",
    "print(\"The sixth value is:%s, and item 'VI: None' is added\" % e)  # Output: The sixth value is: None, item \"'VI': None\" is added"
   ]
  },
  {
   "cell_type": "markdown",
   "metadata": {
    "deletable": false,
    "editable": false,
    "nbgrader": {
     "checksum": "f8f40008c1145d5eb760c50b04e99819",
     "grade": false,
     "grade_id": "cell-06c37bf0656e13bb",
     "locked": true,
     "schema_version": 1,
     "solution": false
    }
   },
   "source": [
    "### 2.5 clear()\n",
    "\n",
    "The ```clear()``` function is used to clear a dictionary. Some students may think it is also okay to use ```dict1 = {} ``` to clear an existed dictionary. Are they the same?\n",
    "\n",
    "The following example will tell you the answer."
   ]
  },
  {
   "cell_type": "code",
   "execution_count": null,
   "metadata": {},
   "outputs": [],
   "source": [
    "# This example try to use \"dictA={}\" to clear a dictionary\n",
    "\n",
    "dictA = dict(I = 1, II = 2, III = 3)\n",
    "dictB = dictA\n",
    "print(\"dictA is: \", dictA, \"\\ndictB is: \", dictB)\n",
    "print(\"The address of dictA is: \", id(dictA))\n",
    "print(\"The address of dictB is: \", id(dictB))\n",
    "\n",
    "dictA = {}\n",
    "print(\"\\n\\ndictA is: \", dictA, \"\\ndictB is: \", dictB)\n"
   ]
  },
  {
   "cell_type": "markdown",
   "metadata": {
    "deletable": false,
    "editable": false,
    "nbgrader": {
     "checksum": "263531ae59472bd6b012a984ac3cf335",
     "grade": false,
     "grade_id": "cell-bdc16eb9be74ac44",
     "locked": true,
     "schema_version": 1,
     "solution": false
    }
   },
   "source": [
    "As shown in the example above, dictA and dictB both point to the same dictionary: ```{'I': 1, 'II': 2, 'III': 3}```. When we use ```dictA = {}``` to make dictA= point to an empty dictionary, whreas the original dictionary still exists in the memory. The dictionary cannot be truely cleaned out. Instead, clear() can do that.\n",
    "\n",
    "The following example will help us to understand that."
   ]
  },
  {
   "cell_type": "code",
   "execution_count": null,
   "metadata": {},
   "outputs": [],
   "source": [
    "# This example try to use \"dictA.clear()\" to clear a dictionary\n",
    "\n",
    "dictA = dict(I = 1, II = 2, III = 3)\n",
    "dictB = dictA\n",
    "print(\"dictA is: \", dictA, \"\\ndictB is: \", dictB)\n",
    "print(\"The address of dictA is: \", id(dictA))\n",
    "print(\"The address of dictB is: \", id(dictB))\n",
    "\n",
    "dictA.clear()\n",
    "print(\"\\n\\ndictA is: \", dictA,\"\\ndictB is: \", dictB)"
   ]
  },
  {
   "cell_type": "markdown",
   "metadata": {
    "deletable": false,
    "editable": false,
    "nbgrader": {
     "checksum": "e165c52690e0621bb386f14bd8952c69",
     "grade": false,
     "grade_id": "cell-ff520cd9ff186b90",
     "locked": true,
     "schema_version": 1,
     "solution": false
    }
   },
   "source": [
    "### 2.6 pop(), popitem()\n",
    "\n",
    "- The syntax(a is a dictionary, for example):\n",
    "    - ```a.pop(key)```\n",
    "    - ```a.popitem()```\n",
    "- The difference between them is: ```a.pop(key)``` will return the item with the appointed key; however, as elements in a dictionary are disordered, we cannot use index to locate one item, so ```a.popitem()``` will return an item <b>randomly</b>.\n",
    "- See the following example:"
   ]
  },
  {
   "cell_type": "code",
   "execution_count": null,
   "metadata": {},
   "outputs": [],
   "source": [
    "a = {'banana':'b', 'apple':'a', 'grape':'g', 'pumpkin':'p'}\n",
    "copy_a = a.copy()\n",
    "print(\"a is: \", a)\n",
    "\n",
    "b = a.pop('grape')\n",
    "print(\"b is: \", b, \"\\nthe type of the b is: \", type(b))\n",
    "\n",
    "# c = a.pop('grape')\n",
    "# If we want to pop out item that has been popped out, for example, c = a.pop('grape'), \n",
    "# it will return an keyerror\n",
    "\n",
    "print(\"after the first pop, a is: \", a)\n",
    "\n",
    "print(\"\\n\\n\", copy_a.popitem())\n",
    "print(copy_a.popitem())\n",
    "print(copy_a.popitem())"
   ]
  },
  {
   "cell_type": "markdown",
   "metadata": {
    "deletable": false,
    "editable": false,
    "nbgrader": {
     "checksum": "cf8a9d0471aaa09f21fb0c987157293c",
     "grade": false,
     "grade_id": "cell-9a6021a789044c7a",
     "locked": true,
     "schema_version": 1,
     "solution": false
    }
   },
   "source": [
    "### 2.7 update() \n",
    "\n",
    "**Two ways to change the items in a dictionary**(dict_a, for example):\n",
    "\n",
    "- ```dict_a.update(key = \"something\")``` \n",
    "- ```dict_a[key] = \"something else\"``` \n",
    "\n",
    "See the following example:"
   ]
  },
  {
   "cell_type": "code",
   "execution_count": null,
   "metadata": {},
   "outputs": [],
   "source": [
    "dict_a = {'telephone': 't', 'computer': 'c', 'desk': 'd', 'books': 'b', 'pens': 'p'}\n",
    "\n",
    "dict_a.update(pens = 'pe') # update the value of an existing item\n",
    "print(dict_a)\n",
    "\n",
    "dict_a.update(cellphone = 'cp') # update/add the value of a new item\n",
    "print(dict_a)\n",
    "\n",
    "\n",
    "print(\"\\n\\n\")\n",
    "dict_a['desk'] = 'ds' # use dict_a[key]=\"something else\" to update the value of an existing item\n",
    "print(dict_a)\n",
    "\n",
    "dict_a['earphone'] = 'ep' # use dict_a[key]=\"something else\" to update/add the value of a new item\n",
    "print(dict_a)"
   ]
  },
  {
   "cell_type": "markdown",
   "metadata": {
    "deletable": false,
    "editable": false,
    "nbgrader": {
     "checksum": "93612e2c8e662c3b1a47859cc3599c15",
     "grade": false,
     "grade_id": "cell-0eaf477532898bb6",
     "locked": true,
     "schema_version": 1,
     "solution": false
    }
   },
   "source": [
    "### 2.8 To learn more Built In Functions...\n",
    "By using:\n",
    "\n",
    "```dir(dict)```\n",
    "\n",
    "we can know more built-in functions of dictionary, learn more about that by google or baidu. "
   ]
  },
  {
   "cell_type": "code",
   "execution_count": null,
   "metadata": {},
   "outputs": [],
   "source": [
    "dir(dict)"
   ]
  },
  {
   "cell_type": "markdown",
   "metadata": {
    "deletable": false,
    "editable": false,
    "nbgrader": {
     "checksum": "7321891c1ca01afbd6a78b96494dea08",
     "grade": false,
     "grade_id": "cell-fef0a0f4716aa92e",
     "locked": true,
     "schema_version": 1,
     "solution": false
    }
   },
   "source": [
    "**Task 6**\n",
    "\n",
    "Cici, the TA of the workshop II course, asks you for help to develop a simple Score Management System. It should include the following functions:\n",
    "\n",
    "- **1. Use ```upd_rec(stu_name, stu_score)``` to update or add a record. if the student name dosen't exist, just add the record into the dictionary, ```score_dbs```; if it exists, it should ask the user \"Change the record?(Y or N)\", if the answer is \"Y\" or \"y\", then update the corresponding record; if the answer is \"N\" or \"n\", then remain the dictionary unchanged. See the following picture.**\n",
    "![](Gigi_img/dict_img3.png)\n"
   ]
  },
  {
   "cell_type": "code",
   "execution_count": 8,
   "metadata": {
    "deletable": false,
    "nbgrader": {
     "checksum": "0553a75b178fdaeae3013efb395e86ae",
     "grade": true,
     "grade_id": "cell-ec1ce642a219f417",
     "locked": false,
     "points": 3,
     "schema_version": 1,
     "solution": true
    }
   },
   "outputs": [
    {
     "name": "stdout",
     "output_type": "stream",
     "text": [
      "Change the record?(Y or N)y\n",
      "Change the record?(Y or N)n\n",
      "{'Terra': 85, 'Ben': 64, 'Cannon': 72}\n"
     ]
    }
   ],
   "source": [
    "# score_dbs, a global dict type, is also the 'database' used to save students' information\n",
    "score_dbs = dict()\n",
    "\n",
    "def upd_rec(stu_name, stu_score):\n",
    "    global score_dbs\n",
    "    # YOUR CODE HERE\n",
    "    if stu_name not in score_dbs:#Check if the name is in score_dbs\n",
    "        score_dbs[stu_name] = stu_score\n",
    "        return\n",
    "    ch = input(\"Change the record?(Y or N)\")#Record the input of users\n",
    "    if ch == 'Y' or ch == 'y':\n",
    "        score_dbs[stu_name] = stu_score\n",
    "    \n",
    "# you can add your test here.\n",
    "upd_rec(\"Terra\",91) \n",
    "upd_rec(\"Ben\",64) \n",
    "upd_rec(\"Cannon\",72) \n",
    "# above are three new\n",
    "# next, raise an changed example\n",
    "upd_rec(\"Terra\",85)\n",
    "# raise an unchanged example\n",
    "upd_rec(\"Ben\",51)\n",
    "print(score_dbs)"
   ]
  },
  {
   "cell_type": "markdown",
   "metadata": {
    "deletable": false,
    "editable": false,
    "nbgrader": {
     "checksum": "1fce855b27ca27789d800c3f5e442c57",
     "grade": false,
     "grade_id": "cell-07d746268e755b9f",
     "locked": true,
     "schema_version": 1,
     "solution": false
    }
   },
   "source": [
    "- **2. Inserting records one by one is really troublesome, sometimes Cici wants to insert several records at one time. Please program to realize that. **(Tips: call ```upd_rec(stu_name, stu_score)``` by loop)\n",
    "![](Gigi_img/dict_img2.png)"
   ]
  },
  {
   "cell_type": "code",
   "execution_count": 12,
   "metadata": {
    "deletable": false,
    "nbgrader": {
     "checksum": "3746929e64deb0c3f174d7a9b746b454",
     "grade": true,
     "grade_id": "cell-0ed70acaeafcacf5",
     "locked": false,
     "points": 2,
     "schema_version": 1,
     "solution": true
    }
   },
   "outputs": [
    {
     "name": "stdout",
     "output_type": "stream",
     "text": [
      "{'Mathew': 65, 'Cannon': 80, 'Sue': 77, 'Leslie': 50, 'Daniel': 95, 'Calvin': 46}\n"
     ]
    }
   ],
   "source": [
    "stuName = [\"Mathew\", \"Cannon\", \"Sue\", \"Leslie\", \"Daniel\", \"Calvin\"]\n",
    "stuScore = [65, 80, 77, 50, 95, 46]\n",
    "score_dbs = dict()\n",
    "\n",
    "def upd_rec(stu_name, stu_score):\n",
    "    global score_dbs\n",
    "    # YOUR CODE HERE\n",
    "    if stu_name not in score_dbs:#Check if the name is in score_dbs\n",
    "        score_dbs[stu_name] = stu_score\n",
    "        return\n",
    "    ch = input(\"Change the record?(Y or N)\")#Record the input of users\n",
    "    if ch == 'Y' or ch == 'y':\n",
    "        score_dbs[stu_name] = stu_score\n",
    "# YOUR CODE HERE\n",
    "for (name, score) in zip(stuName, stuScore): #Get students' information in loop\n",
    "    upd_rec(name, score)\n",
    "    \n",
    "print(score_dbs)"
   ]
  },
  {
   "cell_type": "markdown",
   "metadata": {
    "deletable": false,
    "editable": false,
    "nbgrader": {
     "checksum": "188de4a846d109caa763cc8908580377",
     "grade": false,
     "grade_id": "cell-f501fe5e978d87c3",
     "locked": true,
     "schema_version": 1,
     "solution": false
    }
   },
   "source": [
    "- **3: Use ```del_rec(stu_name)``` to delete a record. if the student name dosen't exist, then return a tip \"The record doesn't exist.\" and remain the dictionary unchanged; if it exist, it should ask the user \"Delete the record?(Y or N)\", if the answer is \"Y\" or \"y\", then delete the corresponding record; if the answer is \"N\" or \"y\", then remain the dictionary unchanged. See the following picture.**\n",
    "![](Gigi_img/dict_img4.png)"
   ]
  },
  {
   "cell_type": "code",
   "execution_count": 17,
   "metadata": {
    "deletable": false,
    "nbgrader": {
     "checksum": "d3e8d4e5effb696405ad62da6e8a6ce4",
     "grade": true,
     "grade_id": "cell-65a8fc3d7cdf7659",
     "locked": false,
     "points": 3,
     "schema_version": 1,
     "solution": true
    }
   },
   "outputs": [
    {
     "name": "stdout",
     "output_type": "stream",
     "text": [
      "The record doesn't exist.\n",
      "Delete the record?(Y or N)n\n",
      "Delete the record?(Y or N)y\n",
      "{'Mathew': 65, 'Cannon': 80, 'Leslie': 50, 'Daniel': 95, 'Calvin': 46}\n"
     ]
    }
   ],
   "source": [
    "score_dbs = {'Mathew': 65, 'Sue': 77, 'Cannon': 80, 'Leslie': 50, \"Daniel\": 95, 'Calvin': 46}\n",
    "def del_rec(stu_name):\n",
    "\n",
    "    # YOUR CODE HERE\n",
    "    if (stu_name not in score_dbs):#Check if student name in score_dbs\n",
    "        print(\"The record doesn't exist.\")\n",
    "        return\n",
    "    select = input(\"Delete the record?(Y or N)\")\n",
    "    if select == 'Y' or select == 'y':#Check user's input\n",
    "        score_dbs.pop(stu_name)\n",
    "    \n",
    "    \n",
    "# you can add your test here.\n",
    "del_rec('Cici') # raise an unexisted example\n",
    "del_rec('Mathew') # raise an existed example but I don't want to delete it\n",
    "del_rec('Sue')   # raise an existed example and I want to delete it\n",
    "print(score_dbs)"
   ]
  },
  {
   "cell_type": "markdown",
   "metadata": {
    "deletable": false,
    "editable": false,
    "nbgrader": {
     "checksum": "e6c883c5be4f6941e39dcde161b669a3",
     "grade": false,
     "grade_id": "cell-6b2c6a72a5566a10",
     "locked": true,
     "schema_version": 1,
     "solution": false
    }
   },
   "source": [
    "- **4: Use ```lkp_rec(stu_name)``` to lookup a record. if the student name dosen't exist, then return a tip \"The record doesn't exist.\" and remain the dictionary unchanged; if it exist, then return the corresponding record. **"
   ]
  },
  {
   "cell_type": "code",
   "execution_count": 3,
   "metadata": {
    "deletable": false,
    "nbgrader": {
     "checksum": "5be494a1aaf92c5e8b3993752d4224cf",
     "grade": false,
     "grade_id": "cell-822b91c0d08a8d31",
     "locked": false,
     "schema_version": 1,
     "solution": true
    }
   },
   "outputs": [],
   "source": [
    "def lkp_rec(stu_name):\n",
    "    # YOUR CODE HERE\n",
    "    if stu_name not in score_dbs:#Find if the name is in score_dbs\n",
    "        print(\"The record doesn't exist.\")\n",
    "        return (stu_name, None)\n",
    "    return (stu_name, score_dbs[stu_name])"
   ]
  },
  {
   "cell_type": "code",
   "execution_count": null,
   "metadata": {
    "deletable": false,
    "editable": false,
    "nbgrader": {
     "checksum": "eb018e114d2cc492bbf7455b18d7a380",
     "grade": true,
     "grade_id": "cell-1b7fa7bd24f03084",
     "locked": true,
     "points": 2,
     "schema_version": 1,
     "solution": false
    },
    "scrolled": true
   },
   "outputs": [],
   "source": [
    "score_dbs = dict()\n",
    "upd_rec(\"Terra\", 91) \n",
    "upd_rec(\"Ben\", 64) \n",
    "upd_rec(\"Cannon\", 73) \n",
    "\n",
    "assert lkp_rec('Ben') == ('Ben', 64)\n",
    "assert lkp_rec('Cici') == ('Cici', None)\n",
    "\n"
   ]
  },
  {
   "cell_type": "markdown",
   "metadata": {
    "deletable": false,
    "editable": false,
    "nbgrader": {
     "checksum": "431c443e1c02183889c2bd6d7a6daa89",
     "grade": false,
     "grade_id": "cell-b62422162fa30337",
     "locked": true,
     "schema_version": 1,
     "solution": false
    }
   },
   "source": [
    "- **5: Use ```lkp_all_recs()``` to return all the records in the dictionary.**"
   ]
  },
  {
   "cell_type": "code",
   "execution_count": 13,
   "metadata": {
    "deletable": false,
    "nbgrader": {
     "checksum": "47c0689c5af014560fc9b86d6fb8fe87",
     "grade": false,
     "grade_id": "cell-894f8586aca3eedd",
     "locked": false,
     "schema_version": 1,
     "solution": true
    }
   },
   "outputs": [
    {
     "data": {
      "text/plain": [
       "{'Ben': 64, 'Cannon': 73, 'Terra': 91}"
      ]
     },
     "execution_count": 13,
     "metadata": {},
     "output_type": "execute_result"
    }
   ],
   "source": [
    "def lkp_all_recs():\n",
    "\n",
    "    # YOUR CODE HERE\n",
    "    return score_dbs\n",
    "\n",
    "# you can add your test here.\n",
    "lkp_all_recs()"
   ]
  },
  {
   "cell_type": "code",
   "execution_count": null,
   "metadata": {
    "deletable": false,
    "editable": false,
    "nbgrader": {
     "checksum": "ce3d75bf87de4992b0a95310359422e6",
     "grade": true,
     "grade_id": "cell-173c3adaf584437f",
     "locked": true,
     "points": 1,
     "schema_version": 1,
     "solution": false
    }
   },
   "outputs": [],
   "source": [
    "score_dbs = dict()\n",
    "upd_rec(\"Terra\", 91) \n",
    "upd_rec(\"Ben\", 64) \n",
    "upd_rec(\"Cannon\", 73) \n",
    "\n",
    "assert lkp_all_recs() == {'Ben': 64, 'Cannon': 73, 'Terra': 91}\n"
   ]
  },
  {
   "cell_type": "markdown",
   "metadata": {
    "deletable": false,
    "editable": false,
    "nbgrader": {
     "checksum": "3389f717164bdd899993aa24bfd72341",
     "grade": false,
     "grade_id": "cell-cff32b808a3eb8de",
     "locked": true,
     "schema_version": 1,
     "solution": false
    }
   },
   "source": [
    "- **6: Use ```aver_score()``` to return the average score of all the students; if the dictionary is empty, then return 0.**"
   ]
  },
  {
   "cell_type": "code",
   "execution_count": 10,
   "metadata": {
    "deletable": false,
    "nbgrader": {
     "checksum": "97a26fb2683aaa5d8149c1ef23c90d4a",
     "grade": false,
     "grade_id": "cell-174590a8d049780e",
     "locked": false,
     "schema_version": 1,
     "solution": true
    }
   },
   "outputs": [],
   "source": [
    "\n",
    "def aver_score():\n",
    "\n",
    "    # YOUR CODE HERE\n",
    "    result = 0\n",
    "    count = 0#Count number of students\n",
    "    if len(score_dbs) == 0:\n",
    "        return 0\n",
    "    for key in score_dbs:\n",
    "        result += score_dbs[key]\n",
    "        count += 1\n",
    "    return result / count\n",
    "    \n",
    "# you can add your test here"
   ]
  },
  {
   "cell_type": "code",
   "execution_count": null,
   "metadata": {
    "deletable": false,
    "editable": false,
    "nbgrader": {
     "checksum": "85c684ef202813f2ee80fff9d7127a2c",
     "grade": true,
     "grade_id": "cell-dfc6334cc55fe37c",
     "locked": true,
     "points": 2,
     "schema_version": 1,
     "solution": false
    }
   },
   "outputs": [],
   "source": [
    "score_dbs = dict()\n",
    "upd_rec(\"Terra\", 91) \n",
    "upd_rec(\"Ben\", 64) \n",
    "upd_rec(\"Cannon\", 73) \n",
    "avg = aver_score()\n",
    "assert avg == 76\n"
   ]
  },
  {
   "cell_type": "code",
   "execution_count": null,
   "metadata": {
    "deletable": false,
    "editable": false,
    "nbgrader": {
     "checksum": "997d12345a76631acdaaad2504374832",
     "grade": true,
     "grade_id": "cell-77c5e105429b2f62",
     "locked": true,
     "points": 1,
     "schema_version": 1,
     "solution": false
    }
   },
   "outputs": [],
   "source": [
    "score_dbs = dict()\n",
    "avg = aver_score()\n",
    "assert avg == 0"
   ]
  }
 ],
 "metadata": {
  "kernelspec": {
   "display_name": "Python 3",
   "language": "python",
   "name": "python3"
  },
  "language_info": {
   "codemirror_mode": {
    "name": "ipython",
    "version": 3
   },
   "file_extension": ".py",
   "mimetype": "text/x-python",
   "name": "python",
   "nbconvert_exporter": "python",
   "pygments_lexer": "ipython3",
   "version": "3.6.4"
  }
 },
 "nbformat": 4,
 "nbformat_minor": 2
}
